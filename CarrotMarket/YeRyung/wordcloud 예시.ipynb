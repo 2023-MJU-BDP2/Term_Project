{
 "cells": [
  {
   "cell_type": "code",
   "execution_count": 16,
   "metadata": {},
   "outputs": [
    {
     "ename": "SyntaxError",
     "evalue": "invalid syntax (<ipython-input-16-89f59571ae0b>, line 16)",
     "output_type": "error",
     "traceback": [
      "\u001b[1;36m  File \u001b[1;32m\"<ipython-input-16-89f59571ae0b>\"\u001b[1;36m, line \u001b[1;32m16\u001b[0m\n\u001b[1;33m    wordcloud = WordCloud(width=800, height=400, background_color='white').generate_from_frequencies(df.set_index('word')['count'].to_dict())\u001b[0m\n\u001b[1;37m    ^\u001b[0m\n\u001b[1;31mSyntaxError\u001b[0m\u001b[1;31m:\u001b[0m invalid syntax\n"
     ]
    }
   ],
   "source": [
    "# 버스\n",
    "import pandas as pd\n",
    "from wordcloud import WordCloud\n",
    "import matplotlib.pyplot as plt\n",
    "from io import StringIO\n",
    "import requests\n",
    "\n",
    "# GitHub에서 CSV 파일의 RAW URL\n",
    "github_csv_url = 'https://raw.githubusercontent.com/2023-MJU-BDP2/Term_Project/main/CarrotMarket/outputData/wordcount_bus.csv'\n",
    "\n",
    "# CSV 파일 읽기\n",
    "response = requests.get(github_csv_url)\n",
    "data = StringIO(response.text)\n",
    "df = pd.read_csv(data)\n",
    "\n",
    "# 워드클라우드 생성\n",
    "wordcloud = WordCloud(width=800, height=400, background_color='white').generate_from_frequencies(df.set_index('word')['count'].to_dict())\n",
    "\n",
    "# 워드클라우드 시각화\n",
    "plt.figure(figsize=(10, 5))\n",
    "plt.imshow(wordcloud, interpolation='bilinear')\n",
    "plt.axis('off')\n",
    "output_image_path = r\"C:\\Users\\yeryu\\Desktop\\빅데프 최종최종\\Term_Project\\CarrotMarket\\outputData\\wordcloud_bus.png\"\n",
    "wordcloud.to_file(output_image_path)\n",
    "plt.show()"
   ]
  },
  {
   "cell_type": "code",
   "execution_count": 16,
   "metadata": {},
   "outputs": [
    {
     "ename": "SyntaxError",
     "evalue": "invalid syntax (<ipython-input-16-89f59571ae0b>, line 16)",
     "output_type": "error",
     "traceback": [
      "\u001b[1;36m  File \u001b[1;32m\"<ipython-input-16-89f59571ae0b>\"\u001b[1;36m, line \u001b[1;32m16\u001b[0m\n\u001b[1;33m    wordcloud = WordCloud(width=800, height=400, background_color='white').generate_from_frequencies(df.set_index('word')['count'].to_dict())\u001b[0m\n\u001b[1;37m    ^\u001b[0m\n\u001b[1;31mSyntaxError\u001b[0m\u001b[1;31m:\u001b[0m invalid syntax\n"
     ]
    }
   ],
   "source": [
    "# 지하철\n",
    "import pandas as pd\n",
    "from wordcloud import WordCloud\n",
    "import matplotlib.pyplot as plt\n",
    "from io import StringIO\n",
    "import requests\n",
    "\n",
    "# GitHub에서 CSV 파일의 RAW URL\n",
    "github_csv_url = 'https://raw.githubusercontent.com/2023-MJU-BDP2/Term_Project/main/CarrotMarket/outputData/wordcount_bus.csv'\n",
    "\n",
    "# CSV 파일 읽기\n",
    "response = requests.get(github_csv_url)\n",
    "data = StringIO(response.text)\n",
    "df = pd.read_csv(data)\n",
    "\n",
    "# 워드클라우드 생성\n",
    "wordcloud = WordCloud(width=800, height=400, background_color='white').generate_from_frequencies(df.set_index('word')['count'].to_dict())\n",
    "\n",
    "# 워드클라우드 시각화\n",
    "plt.figure(figsize=(10, 5))\n",
    "plt.imshow(wordcloud, interpolation='bilinear')\n",
    "plt.axis('off')\n",
    "output_image_path = r\"C:\\Users\\yeryu\\Desktop\\빅데프 최종최종\\Term_Project\\CarrotMarket\\outputData\\wordcloud_bus.png\"\n",
    "wordcloud.to_file(output_image_path)\n",
    "plt.show()"
   ]
  },
  {
   "cell_type": "code",
   "execution_count": 16,
   "metadata": {},
   "outputs": [
    {
     "ename": "SyntaxError",
     "evalue": "invalid syntax (<ipython-input-16-89f59571ae0b>, line 16)",
     "output_type": "error",
     "traceback": [
      "\u001b[1;36m  File \u001b[1;32m\"<ipython-input-16-89f59571ae0b>\"\u001b[1;36m, line \u001b[1;32m16\u001b[0m\n\u001b[1;33m    wordcloud = WordCloud(width=800, height=400, background_color='white').generate_from_frequencies(df.set_index('word')['count'].to_dict())\u001b[0m\n\u001b[1;37m    ^\u001b[0m\n\u001b[1;31mSyntaxError\u001b[0m\u001b[1;31m:\u001b[0m invalid syntax\n"
     ]
    }
   ],
   "source": [
    "#가로등\n",
    "import pandas as pd\n",
    "from wordcloud import WordCloud\n",
    "import matplotlib.pyplot as plt\n",
    "from io import StringIO\n",
    "import requests\n",
    "\n",
    "# GitHub에서 CSV 파일의 RAW URL\n",
    "github_csv_url = 'https://raw.githubusercontent.com/2023-MJU-BDP2/Term_Project/main/CarrotMarket/outputData/wordcount_security_light.csv'\n",
    "\n",
    "# CSV 파일 읽기\n",
    "response = requests.get(github_csv_url)\n",
    "data = StringIO(response.text)\n",
    "df = pd.read_csv(data)\n",
    "\n",
    "# 워드클라우드 생성\n",
    "wordcloud = WordCloud(width=800, height=400, background_color='white').generate_from_frequencies(df.set_index('word')['count'].to_dict())\n",
    "\n",
    "# 워드클라우드 시각화\n",
    "plt.figure(figsize=(10, 5))\n",
    "plt.imshow(wordcloud, interpolation='bilinear')\n",
    "plt.axis('off')\n",
    "output_image_path = r\"C:\\Users\\yeryu\\Desktop\\빅데프 최종최종\\Term_Project\\CarrotMarket\\outputData\\wordcloud_security_ligh.png\"\n",
    "wordcloud.to_file(output_image_path)\n",
    "plt.show()"
   ]
  },
  {
   "cell_type": "code",
   "execution_count": 16,
   "metadata": {},
   "outputs": [
    {
     "ename": "SyntaxError",
     "evalue": "invalid syntax (<ipython-input-16-89f59571ae0b>, line 16)",
     "output_type": "error",
     "traceback": [
      "\u001b[1;36m  File \u001b[1;32m\"<ipython-input-16-89f59571ae0b>\"\u001b[1;36m, line \u001b[1;32m16\u001b[0m\n\u001b[1;33m    wordcloud = WordCloud(width=800, height=400, background_color='white').generate_from_frequencies(df.set_index('word')['count'].to_dict())\u001b[0m\n\u001b[1;37m    ^\u001b[0m\n\u001b[1;31mSyntaxError\u001b[0m\u001b[1;31m:\u001b[0m invalid syntax\n"
     ]
    }
   ],
   "source": [
    "# 비상벨\n",
    "import pandas as pd\n",
    "from wordcloud import WordCloud\n",
    "import matplotlib.pyplot as plt\n",
    "from io import StringIO\n",
    "import requests\n",
    "\n",
    "# GitHub에서 CSV 파일의 RAW URL\n",
    "github_csv_url = 'https://raw.githubusercontent.com/2023-MJU-BDP2/Term_Project/main/CarrotMarket/outputData/wordcount_emergency_bell.csv'\n",
    "\n",
    "# CSV 파일 읽기\n",
    "response = requests.get(github_csv_url)\n",
    "data = StringIO(response.text)\n",
    "df = pd.read_csv(data)\n",
    "\n",
    "# 워드클라우드 생성\n",
    "wordcloud = WordCloud(width=800, height=400, background_color='white').generate_from_frequencies(df.set_index('word')['count'].to_dict())\n",
    "\n",
    "# 워드클라우드 시각화\n",
    "plt.figure(figsize=(10, 5))\n",
    "plt.imshow(wordcloud, interpolation='bilinear')\n",
    "plt.axis('off')\n",
    "output_image_path = r\"C:\\Users\\yeryu\\Desktop\\빅데프 최종최종\\Term_Project\\CarrotMarket\\outputData\\wordcloud_emergency_bell.png\"\n",
    "wordcloud.to_file(output_image_path)\n",
    "plt.show()"
   ]
  },
  {
   "cell_type": "code",
   "execution_count": null,
   "metadata": {},
   "outputs": [],
   "source": [
    "# cctv\n",
    "# GitHub에서 CSV 파일의 RAW URL\n",
    "github_csv_url = 'https://raw.githubusercontent.com/2023-MJU-BDP2/Term_Project/main/CarrotMarket/outputData/wordcount_cctv.csv'\n",
    "\n",
    "# CSV 파일 읽기\n",
    "response = requests.get(github_csv_url)\n",
    "data = StringIO(response.text)\n",
    "df = pd.read_csv(data\n",
    "\n",
    "# 워드클라우드 생성\n",
    "wordcloud = WordCloud(width=800, height=400, background_color='white').generate_from_frequencies(df.set_index('word')['count'].to_dict())\n",
    "\n",
    "# 워드클라우드 시각화\n",
    "plt.figure(figsize=(10, 5))\n",
    "plt.imshow(wordcloud, interpolation='bilinear')\n",
    "plt.axis('off')\n",
    "output_image_path = r\"C:\\Users\\yeryu\\Desktop\\빅데프 최종최종\\Term_Project\\CarrotMarket\\outputData\\wordcloud_cctv.png\"\n",
    "wordcloud.to_file(output_image_path)\n",
    "plt.show()"
   ]
  },
  {
   "cell_type": "code",
   "execution_count": null,
   "metadata": {},
   "outputs": [],
   "source": [
    "# 경찰서\n",
    "# GitHub에서 CSV 파일의 RAW URL\n",
    "github_csv_url = 'https://raw.githubusercontent.com/2023-MJU-BDP2/Term_Project/main/CarrotMarket/outputData/wordcount_police.csv'\n",
    "\n",
    "# CSV 파일 읽기\n",
    "response = requests.get(github_csv_url)\n",
    "data = StringIO(response.text)\n",
    "df = pd.read_csv(data\n",
    "\n",
    "# 워드클라우드 생성\n",
    "wordcloud = WordCloud(width=800, height=400, background_color='white').generate_from_frequencies(df.set_index('word')['count'].to_dict())\n",
    "\n",
    "# 워드클라우드 시각화\n",
    "plt.figure(figsize=(10, 5))\n",
    "plt.imshow(wordcloud, interpolation='bilinear')\n",
    "plt.axis('off')\n",
    "output_image_path = r\"C:\\Users\\yeryu\\Desktop\\빅데프 최종최종\\Term_Project\\CarrotMarket\\outputData\\wordcloud_police.png\"\n",
    "wordcloud.to_file(output_image_path)\n",
    "plt.show()"
   ]
  }
 ],
 "metadata": {
  "kernelspec": {
   "display_name": "Python 3",
   "language": "python",
   "name": "python3"
  },
  "language_info": {
   "codemirror_mode": {
    "name": "ipython",
    "version": 3
   },
   "file_extension": ".py",
   "mimetype": "text/x-python",
   "name": "python",
   "nbconvert_exporter": "python",
   "pygments_lexer": "ipython3",
   "version": "3.8.5"
  }
 },
 "nbformat": 4,
 "nbformat_minor": 4
}
