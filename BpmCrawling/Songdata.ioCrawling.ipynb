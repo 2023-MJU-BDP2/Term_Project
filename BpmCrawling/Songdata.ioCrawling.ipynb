{
 "cells": [
  {
   "cell_type": "code",
   "execution_count": 5,
   "metadata": {},
   "outputs": [],
   "source": [
    "import csv\n",
    "import requests\n",
    "from bs4 import BeautifulSoup\n",
    "from urllib.parse import urljoin\n",
    "import time\n",
    "\n",
    "base_url = 'https://songdata.io/'\n",
    "search_url = urljoin(base_url, 'search?query=label%3Akorea')\n",
    "\n",
    "# 데이터를 저장할 CSV 파일을 엽니다.\n",
    "with open('output.csv', 'w', newline='', encoding='utf-8') as f:\n",
    "    writer = csv.writer(f)\n",
    "    # 헤더 행을 작성합니다.\n",
    "    writer.writerow(['Name', 'Artist', 'Key', 'BPM'])\n",
    "    \n",
    "    url = search_url\n",
    "    while url:\n",
    "        response = requests.get(url)\n",
    "\n",
    "        if response.status_code == 200:\n",
    "            html = response.text\n",
    "            soup = BeautifulSoup(html, 'html.parser')\n",
    "\n",
    "            # 테이블의 각 행에 대한 정보를 가져옵니다.\n",
    "            rows = soup.select('tr.table_object')\n",
    "            \n",
    "            for row in rows:\n",
    "                # 각 행에서 필요한 정보를 추출합니다.\n",
    "                name = row.select_one('td.table_name').text.strip()\n",
    "                artist = row.select_one('td.table_artist').text.strip()\n",
    "                key = row.select_one('td.table_key').text.strip()\n",
    "                bpm = row.select_one('td.table_bpm').text.strip()\n",
    "\n",
    "                # 추출한 정보를 CSV 파일에 작성합니다.\n",
    "                writer.writerow([name, artist, key, bpm])\n",
    "            \n",
    "            # Next Page 버튼의 링크를 찾습니다.\n",
    "            next_page = soup.select_one('span.search_page a')\n",
    "            if next_page:\n",
    "                url = urljoin(base_url, next_page['href'])\n",
    "                # next 버튼을 누르기 전에 5초 동안 대기합니다.\n",
    "                time.sleep(5)\n",
    "            else:\n",
    "                url = None\n"
   ]
  },
  {
   "cell_type": "code",
   "execution_count": null,
   "metadata": {},
   "outputs": [],
   "source": []
  }
 ],
 "metadata": {
  "kernelspec": {
   "display_name": "base",
   "language": "python",
   "name": "python3"
  },
  "language_info": {
   "codemirror_mode": {
    "name": "ipython",
    "version": 3
   },
   "file_extension": ".py",
   "mimetype": "text/x-python",
   "name": "python",
   "nbconvert_exporter": "python",
   "pygments_lexer": "ipython3",
   "version": "3.8.5"
  }
 },
 "nbformat": 4,
 "nbformat_minor": 2
}
