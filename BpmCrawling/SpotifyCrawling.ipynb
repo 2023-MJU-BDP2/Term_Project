{
 "cells": [
  {
   "cell_type": "code",
   "execution_count": 7,
   "metadata": {},
   "outputs": [
    {
     "name": "stdout",
     "output_type": "stream",
     "text": [
      "Requirement already satisfied: spotipy in c:\\users\\gus10\\anaconda3\\lib\\site-packages (2.23.0)\n",
      "Requirement already satisfied: redis>=3.5.3 in c:\\users\\gus10\\anaconda3\\lib\\site-packages (from spotipy) (5.0.1)\n",
      "Requirement already satisfied: six>=1.15.0 in c:\\users\\gus10\\anaconda3\\lib\\site-packages (from spotipy) (1.15.0)\n",
      "Requirement already satisfied: urllib3>=1.26.0 in c:\\users\\gus10\\anaconda3\\lib\\site-packages (from spotipy) (2.1.0)\n",
      "Requirement already satisfied: requests>=2.25.0 in c:\\users\\gus10\\anaconda3\\lib\\site-packages (from spotipy) (2.31.0)\n",
      "Requirement already satisfied: async-timeout>=4.0.2 in c:\\users\\gus10\\anaconda3\\lib\\site-packages (from redis>=3.5.3->spotipy) (4.0.3)\n",
      "Requirement already satisfied: charset-normalizer<4,>=2 in c:\\users\\gus10\\anaconda3\\lib\\site-packages (from requests>=2.25.0->spotipy) (3.3.2)\n",
      "Requirement already satisfied: certifi>=2017.4.17 in c:\\users\\gus10\\anaconda3\\lib\\site-packages (from requests>=2.25.0->spotipy) (2020.6.20)\n",
      "Requirement already satisfied: idna<4,>=2.5 in c:\\users\\gus10\\anaconda3\\lib\\site-packages (from requests>=2.25.0->spotipy) (2.10)\n",
      "Note: you may need to restart the kernel to use updated packages.\n"
     ]
    },
    {
     "name": "stderr",
     "output_type": "stream",
     "text": [
      "WARNING: Ignoring invalid distribution -ordcloud (c:\\users\\gus10\\anaconda3\\lib\\site-packages)\n",
      "WARNING: Ignoring invalid distribution -ordcloud (c:\\users\\gus10\\anaconda3\\lib\\site-packages)\n",
      "WARNING: Ignoring invalid distribution -ordcloud (c:\\users\\gus10\\anaconda3\\lib\\site-packages)\n",
      "WARNING: Ignoring invalid distribution -ordcloud (c:\\users\\gus10\\anaconda3\\lib\\site-packages)\n",
      "WARNING: Ignoring invalid distribution -ordcloud (c:\\users\\gus10\\anaconda3\\lib\\site-packages)\n",
      "WARNING: Ignoring invalid distribution -ordcloud (c:\\users\\gus10\\anaconda3\\lib\\site-packages)\n",
      "\n",
      "[notice] A new release of pip available: 22.3.1 -> 23.3.1\n",
      "[notice] To update, run: python.exe -m pip install --upgrade pip\n"
     ]
    },
    {
     "name": "stdout",
     "output_type": "stream",
     "text": [
      "Requirement already satisfied: python-dotenv in c:\\users\\gus10\\anaconda3\\lib\\site-packages (1.0.0)Note: you may need to restart the kernel to use updated packages.\n",
      "\n"
     ]
    },
    {
     "name": "stderr",
     "output_type": "stream",
     "text": [
      "WARNING: Ignoring invalid distribution -ordcloud (c:\\users\\gus10\\anaconda3\\lib\\site-packages)\n",
      "WARNING: Ignoring invalid distribution -ordcloud (c:\\users\\gus10\\anaconda3\\lib\\site-packages)\n",
      "WARNING: Ignoring invalid distribution -ordcloud (c:\\users\\gus10\\anaconda3\\lib\\site-packages)\n",
      "WARNING: Ignoring invalid distribution -ordcloud (c:\\users\\gus10\\anaconda3\\lib\\site-packages)\n",
      "WARNING: Ignoring invalid distribution -ordcloud (c:\\users\\gus10\\anaconda3\\lib\\site-packages)\n",
      "WARNING: Ignoring invalid distribution -ordcloud (c:\\users\\gus10\\anaconda3\\lib\\site-packages)\n",
      "\n",
      "[notice] A new release of pip available: 22.3.1 -> 23.3.1\n",
      "[notice] To update, run: python.exe -m pip install --upgrade pip\n"
     ]
    }
   ],
   "source": [
    "#코랩으로 실행 \n",
    "%pip install spotipy"
   ]
  },
  {
   "cell_type": "code",
   "execution_count": 20,
   "metadata": {},
   "outputs": [
    {
     "name": "stdout",
     "output_type": "stream",
     "text": [
      "Requirement already satisfied: python-dotenv in c:\\users\\gus10\\anaconda3\\lib\\site-packages (1.0.0)\n",
      "Note: you may need to restart the kernel to use updated packages.\n"
     ]
    },
    {
     "name": "stderr",
     "output_type": "stream",
     "text": [
      "WARNING: Ignoring invalid distribution -ordcloud (c:\\users\\gus10\\anaconda3\\lib\\site-packages)\n",
      "WARNING: Ignoring invalid distribution -ordcloud (c:\\users\\gus10\\anaconda3\\lib\\site-packages)\n",
      "WARNING: Ignoring invalid distribution -ordcloud (c:\\users\\gus10\\anaconda3\\lib\\site-packages)\n",
      "WARNING: Ignoring invalid distribution -ordcloud (c:\\users\\gus10\\anaconda3\\lib\\site-packages)\n",
      "WARNING: Ignoring invalid distribution -ordcloud (c:\\users\\gus10\\anaconda3\\lib\\site-packages)\n",
      "WARNING: Ignoring invalid distribution -ordcloud (c:\\users\\gus10\\anaconda3\\lib\\site-packages)\n",
      "\n",
      "[notice] A new release of pip available: 22.3.1 -> 23.3.1\n",
      "[notice] To update, run: python.exe -m pip install --upgrade pip\n"
     ]
    }
   ],
   "source": [
    "%pip install python-dotenv"
   ]
  },
  {
   "cell_type": "code",
   "execution_count": 42,
   "metadata": {},
   "outputs": [
    {
     "name": "stdout",
     "output_type": "stream",
     "text": [
      "SPOTIPY_CLIENT_ID: 1fe3ef9478bf4379b37e9cda4de800ba\n",
      "SPOTIPY_CLIENT_SECRET: d5d98eef06eb47b8af42a717b1639e92\n"
     ]
    }
   ],
   "source": [
    "from spotipy.oauth2 import SpotifyClientCredentials\n",
    "import spotipy\n",
    "from dotenv import load_dotenv\n",
    "import os\n",
    "import csv\n",
    "\n",
    "load_dotenv()\n",
    "\n",
    "client_id = os.getenv(\"SPOTIPY_CLIENT_ID\")\n",
    "client_secret = os.getenv(\"SPOTIPY_CLIENT_SECRET\")\n",
    "\n",
    "print(\"SPOTIPY_CLIENT_ID:\", client_id)\n",
    "print(\"SPOTIPY_CLIENT_SECRET:\", client_secret)\n",
    "client_credentials_manager = SpotifyClientCredentials(client_id=client_id, client_secret=client_secret)\n",
    "sp = spotipy.Spotify(client_credentials_manager=client_credentials_manager)"
   ]
  },
  {
   "cell_type": "code",
   "execution_count": 26,
   "metadata": {},
   "outputs": [
    {
     "name": "stdout",
     "output_type": "stream",
     "text": [
      "track    : Left and Right (Feat. Jung Kook of BTS)\n",
      "audio    : https://p.scdn.co/mp3-preview/9e4342eefa4f33df4e9b199e60dbce0f59e46eff?cid=1fe3ef9478bf4379b37e9cda4de800ba\n",
      "cover art: https://i.scdn.co/image/ab67616d0000b27335d2e0ed94a934f2cc46fa49\n",
      "\n",
      "track    : My Universe\n",
      "audio    : https://p.scdn.co/mp3-preview/0790eb03d0d2b6aac7c9c762bc2bf1f3649dd7ca?cid=1fe3ef9478bf4379b37e9cda4de800ba\n",
      "cover art: https://i.scdn.co/image/ab67616d0000b273ec10f247b100da1ce0d80b6d\n",
      "\n",
      "track    : Take Two\n",
      "audio    : https://p.scdn.co/mp3-preview/ef43da30a06fcad16898e9fff1cadd0ccf953fc9?cid=1fe3ef9478bf4379b37e9cda4de800ba\n",
      "cover art: https://i.scdn.co/image/ab67616d0000b2738a701e76e8845928f6cd81c8\n",
      "\n",
      "track    : Dynamite\n",
      "audio    : https://p.scdn.co/mp3-preview/98e266fea9df84fa3e5ca84934c513211e89489b?cid=1fe3ef9478bf4379b37e9cda4de800ba\n",
      "cover art: https://i.scdn.co/image/ab67616d0000b273c07d5d2fdc02ae252fcd07e5\n",
      "\n",
      "track    : Dreamers [Music from the FIFA World Cup Qatar 2022 Official Soundtrack]\n",
      "audio    : https://p.scdn.co/mp3-preview/d8d0dec53c0859d639987215fbcd66b29a897dd8?cid=1fe3ef9478bf4379b37e9cda4de800ba\n",
      "cover art: https://i.scdn.co/image/ab67616d0000b273ef57183066d6cac0cabb85c6\n",
      "\n"
     ]
    }
   ],
   "source": [
    "# 아티스트 id로 top5트랙 검색 예제 \n",
    "lz_uri = 'spotify:artist:3Nrfpe0tUJi4K4DXYWgMUX'\n",
    "\n",
    "results = sp.artist_top_tracks(lz_uri)\n",
    "\n",
    "# get top 5 tracks\n",
    "for track in results['tracks'][:5]:\n",
    "    print('track    : ' + track['name'])\n",
    "    print('audio    : ' + track['preview_url'])\n",
    "    print('cover art: ' + track['album']['images'][0]['url'])\n",
    "    print()"
   ]
  },
  {
   "cell_type": "code",
   "execution_count": 45,
   "metadata": {},
   "outputs": [
    {
     "name": "stdout",
     "output_type": "stream",
     "text": [
      "Unique artist data has been saved to kpop_tracks_2022.csv\n"
     ]
    }
   ],
   "source": [
    "#Spotify는 한국가수 필터링이 안되므로 k-pop장르를 하나라도 가진 unique 가수 크롤링\n",
    "track_ids = []\n",
    "\n",
    "for year in [2022, 2023]:\n",
    "        for i in range(0, 1000, 50):\n",
    "            track_results = sp.search(q='year:{year} genre:k-pop', type='track', limit=50, offset=i)\n",
    "            for t in track_results['tracks']['items']:\n",
    "                # Extract relevant information\n",
    "                track_id = t['id']\n",
    "                title = t['name']\n",
    "                artist_name = t['artists'][0]['name']\n",
    "                artist_id = t['artists'][0]['id']\n",
    "\n",
    "                print(f\"Track ID: {track_id}\")\n",
    "                print(f\"Title: {title}\")\n",
    "                print(f\"Artist: {artist_name}\")\n",
    "                print(f\"Artist id: {artist_id}\")\n",
    "                print()\n",
    "\n",
    "                track_ids.append(track_id)\n",
    "\n",
    "# Save data to a CSV file\n",
    "csv_file_path = \"kpop_tracks.csv\"\n",
    "fields = [\"Track ID\", \"Title\", \"Artist Name\", \"Artist ID\"]\n",
    "\n",
    "with open(csv_file_path, mode='w', newline='', encoding='utf-8') as csv_file:\n",
    "    writer = csv.writer(csv_file)\n",
    "    \n",
    "    # Write the header\n",
    "    writer.writerow(fields)\n",
    "    \n",
    "    # Write the unique artist data\n",
    "    writer.writerows(unique_artists)\n",
    "\n",
    "print(f\"Unique artist data has been saved to {csv_file_path}\")"
   ]
  },
  {
   "cell_type": "code",
   "execution_count": 49,
   "metadata": {},
   "outputs": [
    {
     "name": "stdout",
     "output_type": "stream",
     "text": [
      "Unique artist data has been saved to unique_artists.csv\n"
     ]
    }
   ],
   "source": [
    "# 가수만 크롤링 \n",
    "unique_artists = set()\n",
    "\n",
    "for i in range(0, 1000, 50):\n",
    "    track_results = sp.search(q='year:2022 genre:k-pop', type='track', limit=50, offset=i)\n",
    "    for t in track_results['tracks']['items']:\n",
    "        artist_id = t['artists'][0]['id']\n",
    "        artist_name = t['artists'][0]['name']\n",
    "\n",
    "        unique_artists.add((artist_id, artist_name))\n",
    "        \n",
    "for i in range(0, 1000, 50):\n",
    "    track_results = sp.search(q='year:2023 genre:k-pop', type='track', limit=50, offset=i)\n",
    "    for t in track_results['tracks']['items']:\n",
    "        artist_id = t['artists'][0]['id']\n",
    "        artist_name = t['artists'][0]['name']\n",
    "\n",
    "        unique_artists.add((artist_id, artist_name))\n",
    "\n",
    "csv_file_path = \"unique_artists.csv\"\n",
    "fields = [\"Artist ID\", \"Artist Name\"]\n",
    "\n",
    "with open(csv_file_path, mode='w', newline='', encoding='utf-8') as csv_file:\n",
    "    writer = csv.writer(csv_file)\n",
    "    \n",
    "    # Write the header\n",
    "    writer.writerow(fields)\n",
    "    \n",
    "    # Write the unique artist data\n",
    "    writer.writerows(unique_artists)\n",
    "\n",
    "print(f\"Unique artist data has been saved to {csv_file_path}\")"
   ]
  },
  {
   "cell_type": "code",
   "execution_count": 51,
   "metadata": {},
   "outputs": [
    {
     "name": "stdout",
     "output_type": "stream",
     "text": [
      "Track data has been saved to track_data.csv\n"
     ]
    }
   ],
   "source": [
    "# Load unique artist data from CSV file\n",
    "csv_file_path = \"unique_artists.csv\"\n",
    "unique_artists = set()\n",
    "\n",
    "with open(csv_file_path, mode='r', encoding='utf-8') as csv_file:\n",
    "    reader = csv.DictReader(csv_file)\n",
    "    for row in reader:\n",
    "        artist_id = row[\"Artist ID\"]\n",
    "        artist_name = row[\"Artist Name\"]\n",
    "        unique_artists.add((artist_id, artist_name))\n",
    "\n",
    "# List to store track information\n",
    "track_data = []\n",
    "\n",
    "# Search for tracks released by unique artists in 2022 and 2023\n",
    "for year in [2022, 2023]:\n",
    "    for artist_id, artist_name in unique_artists:\n",
    "        track_results = sp.artist_top_tracks(artist_id, country='US')\n",
    "        for track in track_results['tracks']:\n",
    "            # Check if the track is from the specified year\n",
    "            if track['album']['release_date'][:4] == str(year):\n",
    "                # Extract relevant information\n",
    "                track_id = track['id']\n",
    "                title = track['name']\n",
    "                release_date = track['album']['release_date']\n",
    "                \n",
    "                audio_features = sp.audio_features([track_id])[0]\n",
    "                bpm = audio_features['tempo'] if audio_features and 'tempo' in audio_features else None\n",
    "\n",
    "                # Append information to the track_data list\n",
    "                track_data.append({\n",
    "                    \"Release Date\": release_date,\n",
    "                    \"Title\": title,\n",
    "                    \"Artist Name\": artist_name,\n",
    "                    \"BPM\": bpm\n",
    "                })\n",
    "\n",
    "# Save track data to a CSV file\n",
    "csv_file_path = \"track_data.csv\"\n",
    "fields = [\"Release Date\", \"Title\", \"Artist Name\", \"BPM\"]\n",
    "\n",
    "with open(csv_file_path, mode='w', newline='', encoding='utf-8') as csv_file:\n",
    "    writer = csv.DictWriter(csv_file, fieldnames=fields)\n",
    "\n",
    "    # Write the header\n",
    "    writer.writeheader()\n",
    "\n",
    "    # Write the track data\n",
    "    writer.writerows(track_data)\n",
    "\n",
    "print(f\"Track data has been saved to {csv_file_path}\")"
   ]
  }
 ],
 "metadata": {
  "kernelspec": {
   "display_name": "base",
   "language": "python",
   "name": "python3"
  },
  "language_info": {
   "codemirror_mode": {
    "name": "ipython",
    "version": 3
   },
   "file_extension": ".py",
   "mimetype": "text/x-python",
   "name": "python",
   "nbconvert_exporter": "python",
   "pygments_lexer": "ipython3",
   "version": "3.8.5"
  }
 },
 "nbformat": 4,
 "nbformat_minor": 2
}
