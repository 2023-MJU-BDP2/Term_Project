{
  "cells": [
    {
      "cell_type": "code",
      "source": [
        "from google.colab import drive\n",
        "\n",
        "# Google Drive 마운트\n",
        "drive.mount('/content/drive')"
      ],
      "metadata": {
        "colab": {
          "base_uri": "https://localhost:8080/"
        },
        "id": "HRoYYLti9q1X",
        "outputId": "0bc2e37e-02b7-4161-9489-724bcdfa3cf3"
      },
      "execution_count": null,
      "outputs": [
        {
          "output_type": "stream",
          "name": "stdout",
          "text": [
            "Mounted at /content/drive\n"
          ]
        }
      ]
    },
    {
      "cell_type": "code",
      "source": [
        "%%shell\n",
        "cp /content/drive/MyDrive/빅데이터프로그래밍/Term_project/* /content"
      ],
      "metadata": {
        "colab": {
          "base_uri": "https://localhost:8080/"
        },
        "id": "J03rQbUj9y9t",
        "outputId": "2dd8b83f-b7fc-4876-9b17-02bab4c56527"
      },
      "execution_count": null,
      "outputs": [
        {
          "output_type": "execute_result",
          "data": {
            "text/plain": []
          },
          "metadata": {},
          "execution_count": 2
        }
      ]
    },
    {
      "cell_type": "markdown",
      "source": [
        "## Prepare"
      ],
      "metadata": {
        "id": "O9jROPgk9XpQ"
      }
    },
    {
      "cell_type": "code",
      "execution_count": null,
      "metadata": {
        "id": "E2v_ViVbcjNa"
      },
      "outputs": [],
      "source": [
        "# 이 부분은 처음 한번만 실행하면 됌.\n",
        "# 코드 수정 - \"The reason is that the last Ubuntu update update supports chromium driver just via snap.\"\n",
        "# 최근 우분투 업데이트에서 크롬 드라이버 설치를 snap을 이용해서만 하도록 바뀜\n",
        "# 고로 snap 없이 설치하는 아래 우회 코드로 변경\n",
        "# 출처 : https://colab.research.google.com/drive/1cbEvuZOhkouYLda3RqiwtbM-o9hxGLyC\n",
        "# 출처2 : https://stackoverflow.com/questions/75155063/selenium-use-chrome-on-colab-got-unexpectedly-exited\n",
        "\n",
        "%%shell\n",
        "# Ubuntu no longer distributes chromium-browser outside of snap\n",
        "#\n",
        "# Proposed solution: https://askubuntu.com/questions/1204571/how-to-install-chromium-without-snap\n",
        "\n",
        "# Add debian buster\n",
        "cat > /etc/apt/sources.list.d/debian.list <<'EOF'\n",
        "deb [arch=amd64 signed-by=/usr/share/keyrings/debian-buster.gpg] http://deb.debian.org/debian buster main\n",
        "deb [arch=amd64 signed-by=/usr/share/keyrings/debian-buster-updates.gpg] http://deb.debian.org/debian buster-updates main\n",
        "deb [arch=amd64 signed-by=/usr/share/keyrings/debian-security-buster.gpg] http://deb.debian.org/debian-security buster/updates main\n",
        "EOF\n",
        "\n",
        "# Add keys\n",
        "apt-key adv --keyserver keyserver.ubuntu.com --recv-keys DCC9EFBF77E11517\n",
        "apt-key adv --keyserver keyserver.ubuntu.com --recv-keys 648ACFD622F3D138\n",
        "apt-key adv --keyserver keyserver.ubuntu.com --recv-keys 112695A0E562B32A\n",
        "\n",
        "apt-key export 77E11517 | gpg --dearmour -o /usr/share/keyrings/debian-buster.gpg\n",
        "apt-key export 22F3D138 | gpg --dearmour -o /usr/share/keyrings/debian-buster-updates.gpg\n",
        "apt-key export E562B32A | gpg --dearmour -o /usr/share/keyrings/debian-security-buster.gpg\n",
        "\n",
        "# Prefer debian repo for chromium* packages only\n",
        "# Note the double-blank lines between entries\n",
        "cat > /etc/apt/preferences.d/chromium.pref << 'EOF'\n",
        "Package: *\n",
        "Pin: release a=eoan\n",
        "Pin-Priority: 500\n",
        "\n",
        "\n",
        "Package: *\n",
        "Pin: origin \"deb.debian.org\"\n",
        "Pin-Priority: 300\n",
        "\n",
        "\n",
        "Package: chromium*\n",
        "Pin: origin \"deb.debian.org\"\n",
        "Pin-Priority: 700\n",
        "EOF\n",
        "\n",
        "# Install chromium and chromium-driver\n",
        "apt-get update\n",
        "apt-get install chromium chromium-driver\n",
        "\n",
        "\n",
        "# Install selenium -- 셀레니움의 너무 잦은 업데이트로 인해 버전 고정 (2023.10)\n",
        "pip install selenium==4.10"
      ]
    },
    {
      "cell_type": "code",
      "execution_count": null,
      "metadata": {
        "id": "ue0SVwqhcqe9"
      },
      "outputs": [],
      "source": [
        "# 셀레니움 module import\n",
        "# from selenium import webdriver\n",
        "################################################################################################################################################################\n",
        "# 2023.06.08 셀레니움 버전 업데이트로 인해 사용불가\n",
        "################################################################################################################################################################\n",
        "# 2023.05.08 selenium webdriver 사용방법 변경\n",
        "################################################################################################################################################################\n",
        "# 2023.07.09 셀레니움 버전업으로 인한 코드 변경\n",
        "################################################################################################################################################################\n",
        "# 2023.08.02 셀레니움 라이브러리 수정사항 반영\n",
        "################################################################################################################################################################\n",
        "from selenium import webdriver\n",
        "from selenium.webdriver.chrome.service import Service\n",
        "from selenium.webdriver.common.by import By\n",
        "import time\n",
        "from time import sleep\n",
        "from bs4 import BeautifulSoup\n",
        "import requests\n",
        "import re\n",
        "import os\n",
        "\n",
        "# Dataframe\n",
        "import pandas as pd\n",
        "df = pd.DataFrame(columns=['idx','star','review'])\n",
        "\n",
        "# 2023.08.02 셀레니움 라이브러리 수정사항 반영\n",
        "# https://stackoverflow.com/questions/76428561/typeerror-webdriver-init-got-multiple-values-for-argument-options\n",
        "service = Service(executable_path=r'/usr/bin/chromedriver')\n",
        "options = webdriver.ChromeOptions()\n",
        "options.add_argument('--headless')\n",
        "options.add_argument('--no-sandbox')\n",
        "driver = webdriver.Chrome(service=service, options=options)\n"
      ]
    },
    {
      "cell_type": "code",
      "execution_count": null,
      "metadata": {
        "colab": {
          "base_uri": "https://localhost:8080/",
          "height": 144
        },
        "id": "gFS3z2Ntd60p",
        "outputId": "6a5120eb-8d0d-47c3-8065-a10c4a80d75b"
      },
      "outputs": [
        {
          "output_type": "execute_result",
          "data": {
            "text/plain": [
              "'<html lang=\"ko\" class=\"narrow-screen\"><head>\\n\\t\\t\\n\\t\\n\\t\\n\\t\\n\\t\\n\\t\\n\\t\\n\\t\\n\\t\\n\\n\\t<meta http-equiv=\"Content-Type\" content=\"text/html; charset=utf-8\">\\n\\t<meta http-equiv=\"X-UA-Compatible\" content=\"IE=edge,chrome=1\">\\n\\t\\n\\n\\t\\n\\n\\t\\n\\n\\t<title>곡 정보&gt;멜론</title>\\n\\t<meta name=\"keywords\" content=\"음악서비스, 멜론차트, 멜론TOP100, 최신음악, 인기가요, 뮤직비디오, 앨범, 플레이어, 스트리밍, 다운로드, 아티스트플러스, 아티스트채널\">\\n\\t<meta name=\"description\" content=\"No.1 뮤직플랫폼 멜론! 최신 트렌드부터 나를 아는 똑똑한 음악추천까지!\">\\n\\t<meta name=\"naver-site-verification\" content=\"ee85ff6db1fa8f2226bcb671ecb2bcdbcffb6f8b\">\\n\\t<meta name=\"google-site-verification\" content=\"q4tbTQhmxa4La3OdNLsNOCxrJ_WV6lUlBFrFW4-HqQc\">\\n\\t<meta property=\"fb:app_id\" content=\"357952407588971\">\\n\\t<meta property=\"og:title\" content=\"Breaking the rules - 페리블루 (Ferry Blue)\">\\n\\t<meta property=\"og:image\" content=\"https://cdnimg.melon.co.kr/cm2/album/images/113/64/412/11364412_20231114104942_500.jpg?5ceb4fd8a684547a92d8ac291d340ad7\">\\n\\t<meta property=\"og:description\" content=\"음악이 필요한 순간, 멜론\">\\n\\t<meta property=\"og:url\" content=\"http://www.melon.com/song/detail.htm?songId=36963705\">\\n\\t<meta property=\"og:type\" content=\"website\">\\n\\t<meta property=\"og:site_name\" content=\"멜론\">\\n\\t<meta name=\"viewport\" content=\"width=device-width\">\\n\\t<link rel=\"shortcut icon\" type=\"image/x-icon\" href=\"/favicon.ico?2\" id=\"favicon\">\\n\\t\\n\\t\\t\\n\\t\\t<link rel=\"alternate\" href=\"android-app://com.iloen.melon/melonapp/details/song/36963705\">\\n\\t\\t\\n\\t\\t\\n\\t\\t\\n\\t\\n\\n\\t\\n\\t\\n\\t\\n\\n\\t\\n\\t<link rel=\"stylesheet\" href=\"https://static.melon.co.kr/static/web/resource/style/w1/bk/p/lydp3kqv.css\" type=\"text/css\">\\n\\t<link rel=\"stylesheet\" href=\"https://static.melon.co.kr/static/web/resource/style/w1/l8/i/bmqlrmeyi7uljr5.css\" type=\"text/css\">\\n\\n\\n\\t<!-- 댓글 css 파일 네임 변경 -->\\n    <link rel=\"stylesheet\" href=\"https://static.melon.co.kr/static/web/resource/style/w1/dn/4/ynesuqe51i.css\" type=\"text/css\"> \\n\\t<link rel=\"stylesheet\" href=\"https://static.melon.co.kr/static/web/resource/style/w1/0h/a/bhkepxh8.css\" type=\"text/css\">\\n\\t\\n  \\t\\t\\n\\t\\t\\n  \\t\\t\\n\\t\\t\\t<link rel=\"stylesheet\" href=\"/resource/style/web/song/melonweb_song_4x.css\" type=\"text/css\">\\n  \\t\\t\\n  \\t\\n  \\t\\n  \\t<link rel=\"stylesheet\" href=\"https://static.melon.co.kr/static/web/resource/style/w1/yp/a/bxqv4nzji1vk4tyf.css\" type=\"text/css\"> \\n\\t<link href=\"https://fonts.googleapis.com/css?family=Nunito:400\" rel=\"stylesheet\">\\n  \\t\\n\\t\\n\\t\\n\\t<script type=\"text/javascript\" src=\"/resource/script/cds/common/web/member_api.js\"></script>\\n\\t<script type=\"text/javascript\" src=\"/resource/script/cds/common/web/commerce_api.js\"></script>\\n\\t<script type=\"text/javascript\" src=\"/resource/script/web/common/jquery-1.9.1.min.js\"></script>\\n\\t<script type=\"text/javascript\" src=\"https://member.melon.com/resource/script/web/member/melonweb_member_external.js?tm=20231125\"></script>\\n\\t<script type=\"text/javascript\" src=\"https://static.melon.co.kr/static/web/resource/script/w1/c1/d/7j9pwitvgh7.js\"></script> \\n\\t<script type=\"text/javascript\">\\n\\t(function() {\\n\\t\\tWEBPOCIMG = {\\n\\t\\t\\tdefaultImg : function(obj, width){\\n\\t\\t\\t\\tif(width == null || width == \\'\\') width = $(obj).width();\\n\\t\\t\\t\\tif(width == 0) width = 500;\\n\\t\\t\\t\\tvar thumbType = \"_500\";\\n\\t\\t\\t\\t//가장 큰사이즈로 리사이즈함\\n\\t\\t\\t\\tvar thumbType = \"_500\";\\n\\t\\t\\t\\tvar defaultImg = \"//cdnimg.melon.co.kr/resource/image/web/default/noAlbum\" + thumbType + \"_160727.jpg/melon/resize/\" + width;\\n\\t\\t\\t\\tif(obj.src != defaultImg){\\n\\t\\t\\t\\t\\tobj.src = defaultImg;\\n\\t\\t\\t\\t}\\n\\t\\t\\t},\\n\\n\\t\\t\\tdefaultAlbumImg : function(obj, width){\\n\\t\\t\\t\\tif(width == null || width == \\'\\') width = $(obj).width();\\n\\t\\t\\t\\tif(width == 0) width = 500;\\n\\t\\t\\t\\t//가장 큰사이즈로 리사이즈함\\n\\t\\t\\t\\tvar thumbType = \"_500\";\\n\\t\\t\\t\\tvar defaultImg = \"//cdnimg.melon.co.kr/resource/image/web/default/noAlbum\" + thumbType + \"_160727.jpg/melon/resize/\" + width;\\n\\t\\t\\t\\tif(obj.src != defaultImg){\\n\\t\\t\\t\\t\\tobj.src = defaultImg;\\n\\t\\t\\t\\t}\\n\\t\\t\\t},\\n\\n\\t\\t\\tdefaultArtistImg : function(obj, width){\\n\\t\\t\\t\\tif(width == null || width == \\'\\') width = $(obj).width();\\n\\t\\t\\t\\tif(width == 0) width = 300;\\n\\t\\t\\t\\t//가장 큰사이즈로 리사이즈함\\n\\t\\t\\t\\tvar thumbType = \"_300\";\\n\\t\\t\\t\\tvar defaultImg = \"//cdnimg.melon.co.kr/resource/image/web/default/noArtist\" + thumbType + \"_160727.jpg/melon/resize/\" + width;\\n\\t\\t\\t\\tif(obj.src != defaultImg){\\n\\t\\t\\t\\t\\tobj.src = defaultImg;\\n\\t\\t\\t\\t}\\n\\t\\t\\t},\\n\\t\\t\\tdefaultDjImg : function(obj){\\n\\t\\t\\t},\\n\\t\\t\\tdefaultMvImg : function(obj, width, height){\\n\\t\\t\\t\\tif(width == null || width == \\'\\') width = $(obj).width();\\n\\t\\t\\t\\tif(height == null || height == \\'\\') height = $(obj).height();\\n\\n\\t\\t\\t\\tvar ratio43 = Math.floor((4/3)*10)/10;\\n\\t\\t\\t\\tvar ratio169 = Math.floor((16/9)*10)/10;\\n\\t\\t\\t\\tvar ratioObj = Math.floor((width/height)*10)/10;\\n\\n\\t\\t\\t\\tvar ratio = \"4x3\";\\n\\t\\t\\t\\tif(ratioObj == ratio43){\\n\\t\\t\\t\\t\\tratio = \"4x3\"; //contentsType = \"mv43\";\\n\\t\\t\\t\\t} else if(ratioObj == ratio169){\\n\\t\\t\\t\\t\\tratio = \"16x9\"; //contentsType = \"mv169\";\\n\\t\\t\\t\\t} else {\\n\\t\\t\\t\\t\\tif(ratioObj > 1.5) ratio = \"16x9\";\\n\\t\\t\\t\\t\\telse ratio = \"4x3\";\\n\\t\\t\\t\\t}\\n\\n\\t\\t\\t\\tif(width == 0) width = 640;\\n\\t\\t\\t\\tif(height == 0) ratio = \"16x9\";\\n\\n\\t\\t\\t\\t//가장 큰사이즈로 리사이즈함\\n\\t\\t\\t\\tvar thumbType = \"_\" + ratio + \"_640\";\\n\\t\\t\\t\\tvar defaultImg = \"//cdnimg.melon.co.kr/resource/image/web/default/noMovie\" + thumbType + \"_160727.jpg/melon/resize/\" + width;\\n\\t\\t\\t\\tif(obj.src != defaultImg){\\n\\t\\t\\t\\t\\tobj.src = defaultImg;\\n\\t\\t\\t\\t}\\n\\t\\t\\t},\\n\\t\\t\\tdefaultPlaylistImg : function(obj, width){\\n\\t\\t\\t\\tif(width == null || width == \\'\\') width = $(obj).width();\\n\\t\\t\\t\\tif(width == 0) width = 500;\\n\\t\\t\\t\\t//가장 큰사이즈로 리사이즈함\\n\\t\\t\\t\\tvar thumbType = \"_500\";\\n\\t\\t\\t\\tvar defaultImg = \"//cdnimg.melon.co.kr/resource/image/web/default/noAlbum\" + thumbType + \"_160727.jpg/melon/resize/\" + width;\\n\\t\\t\\t\\tif(obj.src != defaultImg){\\n\\t\\t\\t\\t\\tobj.src = defaultImg;\\n\\t\\t\\t\\t}\\n\\t\\t\\t},\\n\\t\\t\\tdefaultMemberImg : function(obj, width){\\n\\t\\t\\t\\tif(width == null || width == \\'\\') width = $(obj).width();\\n\\t\\t\\t\\tif(width == 0) width = 300;\\n\\t\\t\\t\\t//가장 큰사이즈로 리사이즈함\\n\\t\\t\\t\\tvar thumbType = \"_300\";\\n\\t\\t\\t\\tvar defaultImg = \"//cdnimg.melon.co.kr/resource/image/web/default/noArtist\" + thumbType + \"_160727.jpg/melon/resize/\" + width;\\n\\t\\t\\t\\tif(obj.src != defaultImg){\\n\\t\\t\\t\\t\\tobj.src = defaultImg;\\n\\t\\t\\t\\t}\\n\\t\\t\\t},\\n\\t\\t\\tdefaultPhotoImg : function(obj, width){\\n\\t\\t\\t\\tif(width == null || width == \\'\\') width = $(obj).width();\\n\\t\\t\\t\\tif(width == 0) width = 500;\\n\\t\\t\\t\\t//가장 큰사이즈로 리사이즈함\\n\\t\\t\\t\\tvar thumbType = \"_500\";\\n\\t\\t\\t\\tvar defaultImg = \"//cdnimg.melon.co.kr/resource/image/web/default/noAlbum\" + thumbType + \"_160727.jpg/melon/resize/\" + width;\\n\\t\\t\\t\\tif(obj.src != defaultImg){\\n\\t\\t\\t\\t\\tobj.src = defaultImg;\\n\\t\\t\\t\\t}\\n\\t\\t\\t},\\n\\t\\t\\tdefaultShopImg : function(obj, width){\\n\\t\\t\\t\\tif(width == null || width == \\'\\') width = $(obj).width();\\n\\t\\t\\t\\tif(width == 0) width = 256;\\n\\t\\t\\t\\t//가장 큰사이즈로 리사이즈함\\n\\t\\t\\t\\tvar thumbType = \"_256\";\\n\\t\\t\\t\\tvar defaultImg = \"//cdnimg.melon.co.kr/resource/image/web/default/noProduct\" + thumbType + \"_160727.jpg/melon/resize/\" + width;\\n\\t\\t\\t\\tif(obj.src != defaultImg){\\n\\t\\t\\t\\t\\tobj.src = defaultImg;\\n\\t\\t\\t\\t}\\n\\t\\t\\t},\\n\\t\\t\\tdefaultShowwingImg : function(obj, width){\\n\\t\\t\\t\\tif(width == null || width == \\'\\') width = $(obj).width();\\n\\n\\t\\t\\t\\tvar thumbType = \"_256\";\\n\\t\\t\\t\\tif(width > 0 && width <= 300){\\n\\t\\t\\t\\t\\tthumbType = \"_256\";\\n\\t\\t\\t\\t} else {\\n\\t\\t\\t\\t\\tthumbType = \"_313\";//추후 조절값\\n\\t\\t\\t\\t}\\n\\t\\t\\t\\tvar altSrc = \"//cdnimg.melon.co.kr/resource/image/web/default/noShowing\" + thumbType + \".jpg\";\\n\\t\\t\\t\\tif(obj.src != altSrc){\\n\\t\\t\\t\\t\\tobj.src = altSrc;\\n\\t\\t\\t\\t}\\n\\t\\t\\t},\\n\\t\\t\\tdefaultTicketImg : function(obj, width){\\n\\t\\t\\t\\tif(width == null || width == \\'\\') width = $(obj).width();\\n\\n\\t\\t\\t\\tvar thumbType = \"_256\";\\n\\t\\t\\t\\tif(width > 0 && width <= 300){\\n\\t\\t\\t\\t\\tthumbType = \"_256\";\\n\\t\\t\\t\\t} else {\\n\\t\\t\\t\\t\\tthumbType = \"_313\";//추후 조절값\\n\\t\\t\\t\\t}\\n\\t\\t\\t\\tvar altSrc = \"//cdnimg.melon.co.kr/resource/image/web/default/noTicket\" + thumbType + \".png\";\\n\\t\\t\\t\\tif(obj.src != altSrc){\\n\\t\\t\\t\\t\\tobj.src = altSrc;\\n\\t\\t\\t\\t}\\n\\t\\t\\t},\\n\\t\\t\\tdefaultSmartRadioImg : function(obj, width){\\n\\t\\t\\t\\tif(width == null || width == \\'\\') width = $(obj).width();\\n\\t\\t\\t\\tvar defaultImg = \"//cdnimg.melon.co.kr/resource/image/web/default/noSmartradio_59_160727.jpg/melon/resize/\" + width;\\n\\t\\t\\t\\tif(obj.src != defaultImg){\\n\\t\\t\\t\\t\\tobj.src = defaultImg;\\n\\t\\t\\t\\t}\\n\\t\\t\\t},\\n\\t\\t\\tdefaultConcertImg : function(obj, width){\\n\\t\\t\\t\\tif(width == null || width == \\'\\') width = $(obj).width();\\n\\t\\t\\t\\tvar defaultImg = \"//cdnimg.melon.co.kr/resource/image/web/default/noAlbum_114_160727.jpg/melon/resize/\" + width;\\n\\t\\t\\t\\tif(obj.src != defaultImg){\\n\\t\\t\\t\\t\\tobj.src = defaultImg;\\n\\t\\t\\t\\t}\\n\\t\\t\\t}\\n\\t\\t}\\n\\t\\t,WEBELLIPSIS = {\\n\\t\\t\\tellipsis : function(ellipsisName,moreClassName,eWidth){\\n\\t\\t        //아티스트 더보기\\n\\t\\t        var arObj = $(\\'.\\' + ellipsisName);\\n\\t\\t        for(var i = 0; i < arObj.length; i++){\\n\\t\\t            if (arObj.eq(i).width() > eWidth ){\\n\\t\\t                arObj.eq(i).parent().parent().parent().find(\\'.\\' + moreClassName).show();\\n\\t\\t            }\\n\\t\\t        }\\n\\t\\t\\t}\\n\\t\\t}\\n\\t})();\\n\\t</script>\\n\\n</head>\\n<body>\\n<div id=\"wrap\">\\n\\t<div id=\"skip_nav\">skip navigation\\n\\t\\t<ul>\\n\\t\\t\\t<li><a href=\"#gnb_menu\">메뉴</a></li>\\n\\t\\t\\t<li><a href=\"#conts_section\">본문</a></li>\\n\\t\\t\\t<li><a href=\"#footer\">하단 정보</a></li>\\n\\t\\t</ul>\\n\\t</div>\\n\\n\\t<!--  header -->\\n\\t\\n\\t<div id=\"header\" class=\"\">\\n\\t\\t<div id=\"header_wrap\" class=\"my_fold\">  <!-- 1024이상 마이영역 접었을때 클래스 my_fold 추가 -->\\n\\t\\t\\t<div id=\"gnb\" class=\"clfix\">\\n\\t\\t\\t\\t<!-- 상단 빠른 메뉴 -->\\n\\t\\t\\t\\t<div id=\"util_menu\">\\n\\t\\t\\t\\t\\t<p class=\"none\">상단 빠른 메뉴</p>\\n\\t\\t\\t\\t\\t<div class=\"top_left\">\\n\\t\\t\\t\\t\\t\\t<ul class=\"clfix\">\\n\\t\\t\\t\\t\\t\\t\\t\\n\\t\\t\\t\\t\\t\\t\\t<li class=\"first_child d_melon_ticket\"><a href=\"https://ticket.melon.com/main/index.htm\" title=\"멜론 티켓\" class=\"menu01 mlog\" data=\"LOG_PRT_CODE=1&amp;MENU_PRT_CODE=0&amp;MENU_ID_LV1=&amp;CLICK_AREA_PRT_CODE=V08&amp;ACTION_AF_CLICK=V1\"><span>멜론 티켓</span></a></li>\\n\\t\\t\\t\\t\\t\\t</ul>\\n\\t\\t\\t\\t\\t</div>\\n\\t\\t\\t\\t\\t<!-- 140603_수정 -->\\n\\t\\t\\t\\t\\t<div class=\"top_right \">\\n\\t\\t\\t\\t\\t\\t<ul class=\"clfix\">\\n\\t\\t\\t\\t\\t\\t\\t\\n\\t\\t\\t\\t\\t\\t\\t<li class=\"first_child\"><a href=\"/commerce/pamphlet/web/sale_listMainView.htm\" title=\"이용권구매\" class=\"menu01 mlog\" data=\"LOG_PRT_CODE=1&amp;MENU_PRT_CODE=0&amp;MENU_ID_LV1=&amp;CLICK_AREA_PRT_CODE=B01&amp;ACTION_AF_CLICK=V1\"><span>이용권구매</span></a></li>\\n\\t\\t\\t\\t\\t\\t\\t\\n\\t\\t\\t\\t\\t\\t\\t<li><a href=\"/event/vip/index.htm\" title=\"멜론라운지\" class=\"menu02 mlog\" data=\"LOG_PRT_CODE=1&amp;MENU_PRT_CODE=0&amp;MENU_ID_LV1=&amp;CLICK_AREA_PRT_CODE=V06&amp;ACTION_AF_CLICK=V1\"><span>멜론라운지</span></a></li>\\n\\t\\t\\t\\t\\t\\t\\t\\n\\t\\t\\t\\t\\t\\t\\t<li><a href=\"/event/index.htm\" title=\"이벤트\" class=\"menu03 mlog\" data=\"LOG_PRT_CODE=1&amp;MENU_PRT_CODE=0&amp;MENU_ID_LV1=&amp;CLICK_AREA_PRT_CODE=B03&amp;ACTION_AF_CLICK=V1\"><span>이벤트</span></a></li>\\n\\t\\t\\t\\t\\t\\t\\t\\n\\t\\t\\t\\t\\t\\t\\t<li class=\"last_child\"><a href=\"//www.melon.com/customer/announce/index.htm\" title=\"공지사항\" class=\"menu04 mlog\" data=\"LOG_PRT_CODE=1&amp;MENU_PRT_CODE=0&amp;MENU_ID_LV1=&amp;CLICK_AREA_PRT_CODE=V02&amp;ACTION_AF_CLICK=V1\"><span>공지사항</span></a></li>\\n\\t\\t\\t\\t\\t\\t</ul>\\n\\n\\t\\t\\t\\t\\t\\t<script type=\"text/javascript\">\\n\\t\\t\\t\\t\\t\\t\\tvar html = \\'\\';\\n\\t\\t\\t\\t\\t\\t\\tvar logoutReturnUrl = window.location.href;\\n\\n\\t\\t\\t\\t\\t\\t\\tif(logoutReturnUrl == \\'\\'){\\n\\t\\t\\t\\t\\t\\t\\t\\tlogoutReturnUrl = \\'www.melon.com\\';\\n\\t\\t\\t\\t\\t\\t\\t}\\n\\n\\t\\t\\t\\t\\t\\t\\tif(isMelonLogin()){\\n\\n\\t\\t\\t\\t\\t\\t\\t\\tvar memberKey = getMemberKey()\\n\\t\\t\\t\\t\\t\\t\\t\\tvar memberInfo = svcMember.displayIdByMemberKey(memberKey);\\n\\t\\t\\t\\t\\t\\t\\t\\tvar memberType = svcMember.getMemberType().MEMBERTYPE;\\n\\t\\t\\t\\t\\t\\t\\t\\tvar gradeInfo = svcMember.gradeInfoByMemberKey(memberKey);\\n\\n\\t\\t\\t\\t\\t\\t\\t\\tvar memId = \\'\\';\\n\\t\\t\\t\\t\\t\\t\\t\\tif(memberType == undefined || memberType == null){\\n\\t\\t\\t\\t\\t\\t\\t\\t\\tmemberType = \\'0\\';\\n\\t\\t\\t\\t\\t\\t\\t\\t}\\n\\n\\t\\t\\t\\t\\t\\t\\t\\tif(memberInfo.DISPLAYID != undefined || memberInfo.DISPLAYID != null){\\n\\t\\t\\t\\t\\t\\t\\t\\t\\tmemId = memberInfo.DISPLAYID;\\n\\t\\t\\t\\t\\t\\t\\t\\t}\\n\\n\\t\\t\\t\\t\\t\\t\\t\\tif(memId.indexOf(\"@\") != -1 && memberType != \\'1\\'){//카카오계정이 아닌경우에만 @도메인 영역 삭제처리\\n\\t\\t\\t\\t\\t\\t\\t\\t\\tmemId = memId.split(\"@\")[0];\\n\\t\\t\\t\\t\\t\\t\\t\\t}\\n\\n\\t\\t\\t\\t\\t\\t\\t\\tvar fromMPS = getCookie(\"MPS\"); // 멜론 플레이어에서 왔는지 확인.\\n\\t\\t\\t\\t\\t\\t\\t\\tvar fromMPSYn = fromMPS == null || fromMPS.indexOf(\"MELONPLAYER\") < 0;\\n\\n\\t\\t\\t\\t\\t\\t\\t\\tvar gradeImg = \"\";\\n\\t\\t\\t\\t\\t\\t\\t\\tvar gradeName = gradeInfo.GRADE;\\n\\t\\t\\t\\t\\t\\t\\t\\tvar gradeImageUrl = gradeInfo.HTTPSIMAGEURL;\\n\\n\\t\\t\\t\\t\\t\\t\\t\\tif(gradeName == undefined || gradeName == null){\\n\\t\\t\\t\\t\\t\\t\\t\\t\\tgradeName = \\'일반\\';\\n\\t\\t\\t\\t\\t\\t\\t\\t}\\n\\n\\t\\t\\t\\t\\t\\t\\t\\ttry {\\n\\n\\t\\t\\t\\t\\t\\t\\t\\t\\tgradeImageUrl = gradeImageUrl.replace(\\'http:\\',\\'\\');\\n\\n\\t\\t\\t\\t\\t\\t\\t\\t\\tif(gradeName == \\'일반\\'){\\n\\t\\t\\t\\t\\t\\t\\t\\t\\t\\tgradeImageUrl = \"\";\\n\\t\\t\\t\\t\\t\\t\\t\\t\\t}\\n\\n\\t\\t\\t\\t\\t\\t\\t\\t\\tif(gradeImageUrl != \\'\\'){\\n\\t\\t\\t\\t\\t\\t\\t\\t\\t\\tgradeImg = \"<span class=\\\\\"icon_logon\\\\\"><img src=\\\\\"\"+gradeImageUrl+\"\\\\\" width=\\\\\"18\\\\\" height=\\\\\"18\\\\\" alt=\\\\\"\"+gradeName+\"\\\\\" /></span>\";\\n\\t\\t\\t\\t\\t\\t\\t\\t\\t}\\n\\t\\t\\t\\t\\t\\t\\t\\t\\t//카카오연동확인\\n\\t\\t\\t\\t\\t\\t\\t\\t\\tif(memberType == \\'1\\'){\\n\\t\\t\\t\\t\\t\\t\\t\\t\\t\\tgradeImg += \\'<span class=\"icon_logon\"><img src=\"//cdnimg.melon.co.kr/resource/image/web/common/icon_kakao.png\" width=\"18\" height=\"18\" alt=\"kakao\"></span>\\';\\n\\t\\t\\t\\t\\t\\t\\t\\t\\t}\\n\\t\\t\\t\\t\\t\\t\\t\\t} catch (e) {}\\n\\n\\t\\t\\t\\t\\t\\t\\t\\tvar logoutButtonHtml = \\'<button type=\"button\" title=\"로그아웃\" class=\"btn_top_logout\" onclick=\"javascript:MELON.WEBSVC.POC.logout(\\\\\\'\\\\\\');\"><img src=\"//cdnimg.melon.co.kr/resource/image/web/common/btn_top_logout.png\" width=\"44\" height=\"12\" alt=\"로그아웃\"></button>\\';\\n\\n\\t\\t\\t\\t\\t\\t\\t\\thtml = [\\'<div class=\"header_login\">\\',\\n\\t\\t\\t\\t\\t\\t\\t\\t\\t\\' <span class=\"icon_grade\">\\',\\n\\t\\t\\t\\t\\t\\t\\t\\t\\t\\'\\' + gradeImg + \\'\\',\\n\\t\\t\\t\\t\\t\\t\\t\\t\\t\\' </span>\\',\\n\\t\\t\\t\\t\\t\\t\\t\\t\\t\\' <span class=\"wrap_id\"><a href=\"javascript:location.href=_getHttpsMemberDomain()+ \\\\\\'/muid/web/help/myinfointro_inform.htm\\\\\\';\" class=\"user_id\"><strong>\\' + memId + \\'</strong></a> 님</span>\\',\\n\\t\\t\\t\\t\\t\\t\\t\\t\\tfromMPSYn ? logoutButtonHtml : \\'\\', //멜론 플레이어에서 로그아웃 싱크 안맞는 이슈로 인해 로그아웃 멜론 플레이어에서 왔을 시 버튼 제거\\n\\t\\t\\t\\t\\t\\t\\t\\t\\t\\'</div>\\'\\n\\t\\t\\t\\t\\t\\t\\t\\t].join(\\'\\');\\n\\t\\t\\t\\t\\t\\t\\t\\tdocument.write(html);\\n\\t\\t\\t\\t\\t\\t\\t}\\n\\t\\t\\t\\t\\t\\t</script>\\n\\n\\t\\t\\t\\t\\t</div>\\n\\t\\t\\t\\t\\t<!-- //140603_수정 -->\\n\\t\\t\\t\\t</div>\\n\\t\\t\\t\\t<!-- //상단 빠른 메뉴 -->\\n\\n\\t\\t\\t\\t<!-- 140603_수정 -->\\n\\t\\t\\t\\t\\n\\t\\t\\t\\t<h1><a href=\"//www.melon.com/index.htm\" title=\"MelOn 로고 - 홈으로 이동\" class=\"mlog\" data=\"LOG_PRT_CODE=1&amp;MENU_PRT_CODE=0&amp;MENU_ID_LV1=&amp;CLICK_AREA_PRT_CODE=M01&amp;ACTION_AF_CLICK=V1\"><img width=\"142\" height=\"99\" src=\"https://cdnimg.melon.co.kr/resource/image/web/common/logo_melon142x99.png\" alt=\"Melon\"></a></h1>\\n\\n\\t\\t\\t\\t<!-- //140603_수정 -->\\n\\t\\t\\t\\t<!-- 통합검색 영역 -->\\n\\t\\t\\t\\t<fieldset>\\n\\t\\t\\t\\t\\t<legend>통합검색영역</legend>\\n\\t\\t\\t\\t\\t<input type=\"text\" title=\"검색 입력 편집창\" placeholder=\"\" name=\"\" id=\"top_search\" style=\"width: 249px; display: block;\" onkeypress=\"if(event.keyCode == 13){goSearch();}\" class=\"ui-autocomplete-input\" autocomplete=\"off\"><span role=\"status\" aria-live=\"polite\" class=\"ui-helper-hidden-accessible\"></span><input type=\"hidden\" name=\"keywordLink\" id=\"keywordLink\" value=\"https://www.melon.com/video/detail2.htm?mvId=50266999&amp;WLFC=1SEARCH\">\\n\\t\\t\\t\\t\\t<button type=\"button\" style=\"display: none;\" id=\"top_search_autocomplete_toggle\" class=\"btn_icon btn_auto close\" title=\"자동검색 펼침\"><span class=\"odd_span\">자동검색 펼침</span></button> <!-- open/close 클래스 사용 -->\\n\\t\\t\\t\\t\\t<button type=\"button\" class=\"btn_icon search_m\" title=\"검색\"><span class=\"odd_span\">검색</span></button>\\n\\t\\t\\t\\t\\t<div class=\"auto_complete\" id=\"top_search_autocomplete\"><div class=\"auto_complete_cont\" style=\"display:block;\"><!-- 자동완성 레이어 --></div><ul class=\"ui-autocomplete ui-front ui-menu ui-widget ui-widget-content ui-corner-all\" id=\"ui-id-1\" tabindex=\"0\" style=\"display: none;\"></ul></div>\\n\\t\\t\\t\\t\\t<div class=\"auto_complete\" id=\"top_search_autocomplete_template\" style=\"display: none;\"> <!-- 자동완성 레이어 템플릿 -->\\n\\t\\t\\t\\t\\t\\t<!-- 텍스트 결과 -->\\n\\t\\t\\t\\t\\t\\t<ul class=\"text_result\">\\n\\t\\t\\t\\t\\t\\t\\t<li><a href=\"#\" class=\"autocomplete-label\"></a></li>\\n\\t\\t\\t\\t\\t\\t</ul>\\n\\t\\t\\t\\t\\t\\t<!-- 섬네일 결과 -->\\n\\t\\t\\t\\t\\t\\t<ul class=\"thumb_result\">\\n\\t\\t\\t\\t\\t\\t\\t<li class=\"cate\"></li>\\n\\t\\t\\t\\t\\t\\t\\t<li class=\"class02\">\\n\\t\\t\\t\\t\\t\\t\\t\\t<a href=\"#\">\\n\\t\\t\\t\\t\\t\\t\\t\\t\\t<span class=\"thumb_40\">\\n\\t\\t\\t\\t\\t\\t\\t\\t\\t\\t<span class=\"thumb_frame\"></span>\\n\\t\\t\\t\\t\\t\\t\\t\\t\\t\\t<img class=\"autocomplete-img\" width=\"40\" height=\"40\" alt=\"\">\\n\\t\\t\\t\\t\\t\\t\\t\\t\\t</span>\\n\\t\\t\\t\\t\\t\\t\\t\\t\\t<div class=\"info\">\\n\\t\\t\\t\\t\\t\\t\\t\\t\\t\\t<span class=\"autocomplete-label\"></span><br>\\n\\t\\t\\t\\t\\t\\t\\t\\t\\t\\t<span><span class=\"f11 autocomplete-info\"></span></span>\\n\\t\\t\\t\\t\\t\\t\\t\\t\\t</div>\\n\\t\\t\\t\\t\\t\\t\\t\\t</a>\\n\\t\\t\\t\\t\\t\\t\\t</li>\\n\\t\\t\\t\\t\\t\\t</ul>\\n\\t\\t\\t\\t\\t\\t<!-- 검색어가 없을 때 -->\\n\\t\\t\\t\\t\\t\\t<ul class=\"text_result\">\\n\\t\\t\\t\\t\\t\\t\\t<li class=\"result_none\">\\n\\t\\t\\t\\t\\t\\t\\t\\t<span>해당글자로 시작하는 단어가 없습니다.</span>\\n\\t\\t\\t\\t\\t\\t\\t</li>\\n\\t\\t\\t\\t\\t\\t</ul>\\n\\t\\t\\t\\t\\t</div>\\n\\t\\t\\t\\t</fieldset>\\n\\t\\t\\t\\t<form style=\"display: none\" id=\"searchFrm\" method=\"get\" action=\"\">\\n\\t\\t\\t\\t\\t<input type=\"hidden\" name=\"q\">\\n\\t\\t\\t\\t\\t<input type=\"hidden\" name=\"section\">\\n\\t\\t\\t\\t</form>\\n\\t\\t\\t\\t<!-- //통합검색 영역 -->\\n\\n\\t\\t\\t\\t<!-- 실시간 검색어 -->\\n\\t\\t\\t\\t<div class=\"realtime_soar_keyword\">\\n\\t\\t\\t\\t\\t<!-- 140519_수정 -->\\n\\t\\t\\t\\t\\t<a href=\"#none\" class=\"title\" style=\"display: inline-block;\">급상승 키워드</a>\\n\\t\\t\\t\\t\\t<!-- //140519_수정 -->\\n\\t\\t\\t\\t\\t<div class=\"keyword_overlay\">\\n\\t\\t\\t\\t\\t\\t<ol style=\"overflow:hidden; height:20px;\">\\n\\t<!-- 롤링 영역 -->\\n\\t\\n\\t\\t\\n\\t\\t\\t\\n\\t\\t\\t\\n\\t\\t\\t\\n\\t\\t\\t\\t\\n\\t\\t\\t\\t\\t\\n\\t\\t\\t\\t\\n\\t\\t\\t\\t\\n\\t\\t\\t\\t\\n\\t\\t\\t\\t\\n\\t\\t\\t\\n\\t\\t\\t<li style=\"width: 220px;\">\\n\\t\\t\\t\\t<strong class=\"order bg1 on\">1<span class=\"gubun\">.</span><span class=\"none\"> 위</span></strong>\\n\\t\\t\\t\\t<a href=\"javascript:melon.link.goTotalSearch(\\'바이브\\',\\'\\',\\'searchFrm\\',\\'\\',\\'hot_kwd\\');\" class=\"ellipsis\" title=\"바이브 - 페이지 이동\">바이브</a>\\n\\t\\t\\t\\t<span class=\"wrap_rank static\"> <span class=\"icon\">순위 동일</span> </span>\\n\\t\\t\\t</li>\\n\\t\\t\\n\\t\\t\\t\\n\\t\\t\\t\\n\\t\\t\\t\\n\\t\\t\\t\\t\\n\\t\\t\\t\\t\\n\\t\\t\\t\\t\\t\\n\\t\\t\\t\\t\\n\\t\\t\\t\\t\\n\\t\\t\\t\\t\\n\\t\\t\\t\\n\\t\\t\\t<li style=\"display: none; width: 220px;\">\\n\\t\\t\\t\\t<strong class=\"order bg2 \">2<span class=\"gubun\">.</span><span class=\"none\"> 위</span></strong>\\n\\t\\t\\t\\t<a href=\"javascript:melon.link.goTotalSearch(\\'희재\\',\\'\\',\\'searchFrm\\',\\'\\',\\'hot_kwd\\');\" class=\"ellipsis\" title=\"희재 - 페이지 이동\">희재</a>\\n\\t\\t\\t\\t<span class=\"wrap_rank new\"> <span class=\"icon\">새진입</span> </span>\\n\\t\\t\\t</li>\\n\\t\\t\\n\\t\\t\\t\\n\\t\\t\\t\\n\\t\\t\\t\\n\\t\\t\\t\\t\\n\\t\\t\\t\\t\\n\\t\\t\\t\\t<!-- 감소-->\\n\\t\\t\\t\\t\\t\\n\\t\\t\\t\\t\\n\\t\\t\\t\\t\\n\\t\\t\\t\\n\\t\\t\\t<li style=\"display: none; width: 220px;\">\\n\\t\\t\\t\\t<strong class=\"order bg3 \">3<span class=\"gubun\">.</span><span class=\"none\"> 위</span></strong>\\n\\t\\t\\t\\t<a href=\"javascript:melon.link.goTotalSearch(\\'이승환\\',\\'\\',\\'searchFrm\\',\\'\\',\\'hot_kwd\\');\" class=\"ellipsis\" title=\"이승환 - 페이지 이동\">이승환</a>\\n\\t\\t\\t\\t<span class=\"wrap_rank down\"> <span class=\"icon\">순위하락수</span> <span class=\"num\">1</span> </span>\\n\\t\\t\\t</li>\\n\\t\\t\\n\\t\\t\\t\\n\\t\\t\\t\\n\\t\\t\\t\\n\\t\\t\\t\\t\\n\\t\\t\\t\\t\\n\\t\\t\\t\\t\\n\\t\\t\\t\\t\\n\\t\\t\\t\\t\\t\\n\\t\\t\\t\\t\\n\\t\\t\\t\\n\\t\\t\\t<li style=\"display: none; width: 220px;\">\\n\\t\\t\\t\\t<strong class=\"order bg4 \">4<span class=\"gubun\">.</span><span class=\"none\"> 위</span></strong>\\n\\t\\t\\t\\t<a href=\"javascript:melon.link.goTotalSearch(\\'싸이 (PSY)\\',\\'\\',\\'searchFrm\\',\\'\\',\\'hot_kwd\\');\" class=\"ellipsis\" title=\"싸이 (PSY) - 페이지 이동\">싸이 (PSY)</a>\\n\\t\\t\\t\\t<span class=\"wrap_rank up\"> <span class=\"icon\">순위상승수</span> <span class=\"num\">70</span> </span>\\n\\t\\t\\t</li>\\n\\t\\t\\n\\t\\t\\t\\n\\t\\t\\t\\n\\t\\t\\t\\n\\t\\t\\t\\t\\n\\t\\t\\t\\t\\n\\t\\t\\t\\t\\n\\t\\t\\t\\t\\n\\t\\t\\t\\t\\t\\n\\t\\t\\t\\t\\n\\t\\t\\t\\n\\t\\t\\t<li style=\"display: none; width: 220px;\">\\n\\t\\t\\t\\t<strong class=\"order bg5 \">5<span class=\"gubun\">.</span><span class=\"none\"> 위</span></strong>\\n\\t\\t\\t\\t<a href=\"javascript:melon.link.goTotalSearch(\\'조성모\\',\\'\\',\\'searchFrm\\',\\'\\',\\'hot_kwd\\');\" class=\"ellipsis\" title=\"조성모 - 페이지 이동\">조성모</a>\\n\\t\\t\\t\\t<span class=\"wrap_rank up\"> <span class=\"icon\">순위상승수</span> <span class=\"num\">6</span> </span>\\n\\t\\t\\t</li>\\n\\t\\t\\n\\t\\t\\t\\n\\t\\t\\t\\n\\t\\t\\t\\n\\t\\t\\t\\t\\n\\t\\t\\t\\t\\t\\n\\t\\t\\t\\t\\n\\t\\t\\t\\t\\n\\t\\t\\t\\t\\n\\t\\t\\t\\t\\n\\t\\t\\t\\n\\t\\t\\t<li style=\"display: none; width: 220px;\">\\n\\t\\t\\t\\t<strong class=\"order bg6 \">6<span class=\"gubun\">.</span><span class=\"none\"> 위</span></strong>\\n\\t\\t\\t\\t<a href=\"javascript:melon.link.goTotalSearch(\\'헤이즈 (Heize)\\',\\'\\',\\'searchFrm\\',\\'\\',\\'hot_kwd\\');\" class=\"ellipsis\" title=\"헤이즈 (Heize) - 페이지 이동\">헤이즈 (Heize)</a>\\n\\t\\t\\t\\t<span class=\"wrap_rank static\"> <span class=\"icon\">순위 동일</span> </span>\\n\\t\\t\\t</li>\\n\\t\\t\\n\\t\\t\\t\\n\\t\\t\\t\\n\\t\\t\\t\\n\\t\\t\\t\\t\\n\\t\\t\\t\\t\\n\\t\\t\\t\\t\\t\\n\\t\\t\\t\\t\\n\\t\\t\\t\\t\\n\\t\\t\\t\\t\\n\\t\\t\\t\\n\\t\\t\\t<li style=\"display: none; width: 220px;\">\\n\\t\\t\\t\\t<strong class=\"order bg7 \">7<span class=\"gubun\">.</span><span class=\"none\"> 위</span></strong>\\n\\t\\t\\t\\t<a href=\"javascript:melon.link.goTotalSearch(\\'ITZY (있지)\\',\\'\\',\\'searchFrm\\',\\'\\',\\'hot_kwd\\');\" class=\"ellipsis\" title=\"ITZY (있지) - 페이지 이동\">ITZY (있지)</a>\\n\\t\\t\\t\\t<span class=\"wrap_rank new\"> <span class=\"icon\">새진입</span> </span>\\n\\t\\t\\t</li>\\n\\t\\t\\n\\t\\t\\t\\n\\t\\t\\t\\n\\t\\t\\t\\n\\t\\t\\t\\t\\n\\t\\t\\t\\t\\n\\t\\t\\t\\t\\n\\t\\t\\t\\t\\n\\t\\t\\t\\t\\t\\n\\t\\t\\t\\t\\n\\t\\t\\t\\n\\t\\t\\t<li style=\"display: none; width: 220px;\">\\n\\t\\t\\t\\t<strong class=\"order bg8 \">8<span class=\"gubun\">.</span><span class=\"none\"> 위</span></strong>\\n\\t\\t\\t\\t<a href=\"javascript:melon.link.goTotalSearch(\\'League of Legends\\',\\'\\',\\'searchFrm\\',\\'\\',\\'hot_kwd\\');\" class=\"ellipsis\" title=\"League of Legends - 페이지 이동\">League of Legends</a>\\n\\t\\t\\t\\t<span class=\"wrap_rank up\"> <span class=\"icon\">순위상승수</span> <span class=\"num\">64</span> </span>\\n\\t\\t\\t</li>\\n\\t\\t\\n\\t\\t\\t\\n\\t\\t\\t\\n\\t\\t\\t\\n\\t\\t\\t\\t\\n\\t\\t\\t\\t\\n\\t\\t\\t\\t\\n\\t\\t\\t\\t\\n\\t\\t\\t\\t\\t\\n\\t\\t\\t\\t\\n\\t\\t\\t\\n\\t\\t\\t<li style=\"display: none; width: 220px;\">\\n\\t\\t\\t\\t<strong class=\"order bg9 \">9<span class=\"gubun\">.</span><span class=\"none\"> 위</span></strong>\\n\\t\\t\\t\\t<a href=\"javascript:melon.link.goTotalSearch(\\'케이윌\\',\\'\\',\\'searchFrm\\',\\'\\',\\'hot_kwd\\');\" class=\"ellipsis\" title=\"케이윌 - 페이지 이동\">케이윌</a>\\n\\t\\t\\t\\t<span class=\"wrap_rank up\"> <span class=\"icon\">순위상승수</span> <span class=\"num\">3</span> </span>\\n\\t\\t\\t</li>\\n\\t\\t\\n\\t\\t\\t\\n\\t\\t\\t\\n\\t\\t\\t\\n\\t\\t\\t\\t\\n\\t\\t\\t\\t\\n\\t\\t\\t\\t\\t\\n\\t\\t\\t\\t\\n\\t\\t\\t\\t\\n\\t\\t\\t\\t\\n\\t\\t\\t\\n\\t\\t\\t<li style=\"display: none; width: 220px;\">\\n\\t\\t\\t\\t<strong class=\"order bg10 \">10<span class=\"gubun\">.</span><span class=\"none\"> 위</span></strong>\\n\\t\\t\\t\\t<a href=\"javascript:melon.link.goTotalSearch(\\'버스커 버스커\\',\\'\\',\\'searchFrm\\',\\'\\',\\'hot_kwd\\');\" class=\"ellipsis\" title=\"버스커 버스커 - 페이지 이동\">버스커 버스커</a>\\n\\t\\t\\t\\t<span class=\"wrap_rank new\"> <span class=\"icon\">새진입</span> </span>\\n\\t\\t\\t</li>\\n\\t\\t\\n\\t\\n\\t<!-- //롤링 영역 -->\\n</ol>\\n\\t\\t\\t\\t\\t\\t<!-- 140423_추가 -->\\n\\t\\t\\t\\t\\t\\t\\n\\t\\t\\t\\t\\t\\t<!-- //140423_추가 -->\\n\\t\\t\\t\\t\\t</div>\\n\\t\\t\\t\\t</div>\\n\\t\\t\\t\\t<!-- //실시간 검색어 -->\\n\\n\\t\\t\\t\\t<!-- 배너 영역 -->\\n\\t\\t\\t\\t<div class=\"cmn_banner\">\\n\\t<!-- 랜덤으로 뿌릴 것 -->\\n\\t\\n\\n\\t\\n</div>\\n\\t\\t\\t</div>\\n            <!-- 140314_gnb마크업 수정 -->\\n\\t\\t\\t<div id=\"gnb_menu\">\\n\\t\\t\\t\\t<ul>\\n\\t\\t\\t\\t\\t<li class=\"nth1\">\\n\\t\\t\\t\\t\\t\\t\\n\\t\\t\\t\\t\\t\\t<a href=\"//www.melon.com/chart/index.htm\" class=\"cur_menu mlog\" data=\"LOG_PRT_CODE=1&amp;MENU_PRT_CODE=0&amp;MENU_ID_LV1=&amp;CLICK_AREA_PRT_CODE=R01&amp;ACTION_AF_CLICK=V1\"><span class=\"cur_status none\">현재 선택된 메뉴-</span><span class=\"menu_bg menu01\">멜론차트</span></a>\\n\\t\\t\\t\\t\\t\\t<div class=\"lay_menu\">\\n\\t\\t\\t\\t\\t\\t\\t<ul>\\n\\t\\t\\t\\t\\t\\t\\t\\t<li class=\"first_child\"><a href=\"//www.melon.com/chart/index.htm\"><span class=\"menu_chart m1\">TOP100</span></a></li>\\n\\t\\t\\t\\t\\t\\t\\t\\t<li class=\"\"><a href=\"//www.melon.com/chart/hot100/index.htm\"><span class=\"menu_chart m6\">HOT100</span></a></li><!-- // MELONUIT-2465 -->\\n\\t\\t\\t\\t\\t\\t\\t\\t<li class=\"\"><a href=\"//www.melon.com/chart/day/index.htm\"><span class=\"menu_chart m2\">일간</span></a></li>\\n\\t\\t\\t\\t\\t\\t\\t\\t<li class=\"\"><a href=\"//www.melon.com/chart/week/index.htm\"><span class=\"menu_chart m3\">주간</span></a></li>\\n\\t\\t\\t\\t\\t\\t\\t\\t<li class=\"\"><a href=\"//www.melon.com/chart/month/index.htm\"><span class=\"menu_chart m4\">월간</span></a></li>\\n\\t\\t\\t\\t\\t\\t\\t\\t<li class=\"\"><a href=\"//www.melon.com/chart/age/index.htm\"><span class=\"menu_chart m5\">시대</span></a></li>\\n\\t\\t\\t\\t\\t\\t\\t</ul>\\n\\t\\t\\t\\t\\t\\t\\t<div class=\"chart_finder\">\\n\\t\\t\\t\\t\\t\\t\\t\\t<button type=\"button\" class=\"btn_chart_f\" onclick=\"location.href=\\'//www.melon.com/chart/search/index.htm\\'\"><span class=\"odd_span\">차트 파인더</span></button>\\n\\t\\t\\t\\t\\t\\t\\t</div>\\n\\t\\t\\t\\t\\t\\t</div>\\n\\t\\t\\t\\t\\t</li>\\n\\t\\t\\t\\t\\t<li class=\"nth2\">\\n\\t\\t\\t\\t\\t\\t\\n\\t\\t\\t\\t\\t\\t<a href=\"//www.melon.com/new/index.htm\" class=\"cur_menu mlog\" data=\"LOG_PRT_CODE=1&amp;MENU_PRT_CODE=0&amp;MENU_ID_LV1=&amp;CLICK_AREA_PRT_CODE=C01&amp;ACTION_AF_CLICK=V1\"><span class=\"cur_status none\">현재 선택된 메뉴-</span><span class=\"menu_bg menu02 \">최신 음악</span></a>\\n\\t\\t\\t\\t\\t\\t<div class=\"lay_menu\">\\n\\t\\t\\t\\t\\t\\t\\t<ul>\\n\\t\\t\\t\\t\\t\\t\\t\\t<li class=\"first_child\"><a href=\"//www.melon.com/new/index.htm\"><span class=\"menu_new m1\">최신곡</span></a></li>\\n\\t\\t\\t\\t\\t\\t\\t\\t<li class=\"\"><a href=\"//www.melon.com/new/album/index.htm\"><span class=\"menu_new m2\">최신앨범</span></a></li>\\n\\t\\t\\t\\t\\t\\t\\t\\t<li class=\"\"><a href=\"//www.melon.com/new/mv/index.htm\"><span class=\"menu_new m3\">최신 뮤직비디오</span></a></li>\\n\\t\\t\\t\\t\\t\\t\\t</ul>\\n\\t\\t\\t\\t\\t\\t</div>\\n\\t\\t\\t\\t\\t</li>\\n\\t\\t\\t\\t\\t<li class=\"nth3\">\\n\\t\\t\\t\\t\\t\\t\\n\\t\\t\\t\\t\\t\\t<a href=\"//www.melon.com/genre/song_list.htm?gnrCode=GN0100\" class=\"cur_menu mlog\" data=\"LOG_PRT_CODE=1&amp;MENU_PRT_CODE=0&amp;MENU_ID_LV1=&amp;CLICK_AREA_PRT_CODE=C03&amp;ACTION_AF_CLICK=V1\"><span class=\"cur_status none\">현재 선택된 메뉴-</span><span class=\"menu_bg menu03\">장르 음악</span></a>\\n\\t\\t\\t\\t\\t\\t<div class=\"lay_menu\">\\n\\t\\t\\t\\t\\t\\t\\t<ul>\\n\\t\\t\\t\\t\\t\\t\\t\\t<li class=\"first_child\"><a href=\"//www.melon.com/genre/song_list.htm?gnrCode=GN0100\"><span class=\"menu_gnr nm1\">한국대중음악</span></a></li>\\n\\t\\t\\t\\t\\t\\t\\t\\t<li class=\"\"><a href=\"//www.melon.com/genre/song_list.htm?gnrCode=GN0900\"><span class=\"menu_gnr nm2\">해외POP음악</span></a></li>\\n\\t\\t\\t\\t\\t\\t\\t\\t<li class=\"\"><a href=\"//www.melon.com/genre/song_list.htm?gnrCode=GN1500\"><span class=\"menu_gnr nm3\">그외 인기장르</span></a></li>\\n\\t\\t\\t\\t\\t\\t\\t</ul>\\n\\t\\t\\t\\t\\t\\t</div>\\n\\t\\t\\t\\t\\t</li>\\n\\t\\t\\t\\t\\t<li class=\"nth4\">\\n\\t\\t\\t\\t\\t\\t\\n\\t\\t\\t\\t\\t\\t<a href=\"//www.melon.com/dj/today/djtoday_list.htm\" class=\"cur_menu mlog\" data=\"LOG_PRT_CODE=1&amp;MENU_PRT_CODE=0&amp;MENU_ID_LV1=&amp;CLICK_AREA_PRT_CODE=S04&amp;ACTION_AF_CLICK=V1\"><span class=\"cur_status none\">현재 선택된 메뉴-</span><span class=\"menu_bg menu04\">멜론DJ</span></a>\\n\\t\\t\\t\\t\\t\\t<div class=\"lay_menu\">\\n\\t\\t\\t\\t\\t\\t\\t<ul>\\n\\t\\t\\t\\t\\t\\t\\t\\t<li class=\"first_child\"><a href=\"//www.melon.com/dj/today/djtoday_list.htm\"><span class=\"menu_dj m1\">오늘은 뭘 듣지</span></a></li>\\n\\t\\t\\t\\t\\t\\t\\t\\t<li class=\"\"><a href=\"//www.melon.com/dj/essential/djessential_list.htm\"><span class=\"menu_dj m2\">전문가 선곡</span></a></li>\\n\\t\\t\\t\\t\\t\\t\\t\\t<li class=\"\"><a href=\"//www.melon.com/dj/themegenre/djthemegenre_list.htm\"><span class=\"menu_dj m3\">#테마장르</span></a></li>\\n\\t\\t\\t\\t\\t\\t\\t\\t<li class=\"\"><a href=\"//www.melon.com/dj/powerdj/djpowerdj_list.htm\"><span class=\"menu_dj m4\">파워DJ</span></a></li>\\n\\t\\t\\t\\t\\t\\t\\t\\t<li class=\"\"><a href=\"//www.melon.com/dj/chart/djchart_list.htm\"><span class=\"menu_dj m5\">인기</span></a></li>\\n\\t\\t\\t\\t\\t\\t\\t</ul>\\n\\t\\t\\t\\t\\t\\t</div>\\n\\t\\t\\t\\t\\t</li>\\n\\t\\t\\t\\t\\t<li class=\"nth5\">\\n\\t\\t\\t\\t\\t\\t\\n\\t\\t\\t\\t\\t\\t<a href=\"//www.melon.com/tv/index.htm\" class=\"cur_menu mlog\" data=\"LOG_PRT_CODE=1&amp;MENU_PRT_CODE=0&amp;MENU_ID_LV1=&amp;CLICK_AREA_PRT_CODE=S05&amp;ACTION_AF_CLICK=V1\"><span class=\"cur_status none\">현재 선택된 메뉴-</span><span class=\"menu_bg menu05\">멜론TV</span></a>\\n\\t\\t\\t\\t\\t\\t<div class=\"lay_menu\">\\n\\t\\t\\t\\t\\t\\t\\t<ul>\\n\\t\\t\\t\\t\\t\\t\\t\\t<li class=\"first_child\"><a href=\"//www.melon.com/tv/index.htm\"><span class=\"menu_tv m1\">오늘은 뭘 볼까</span></a></li>\\n\\t\\t\\t\\t\\t\\t\\t\\t<li class=\"\"><a href=\"//www.melon.com/tv/mv/index.htm\"><span class=\"menu_tv m2\">뮤직비디오</span></a></li>\\n\\t\\t\\t\\t\\t\\t\\t\\t<li class=\"\"><a href=\"//www.melon.com/tv/menu/index.htm?menuSeq=1\"><span class=\"menu_tv m3\">멜론 오리지널</span></a></li>\\n\\t\\t\\t\\t\\t\\t\\t\\t<li class=\"\"><a href=\"//www.melon.com/tv/menu/index.htm?menuSeq=4\"><span class=\"menu_tv m4\">아티스트 업데이트</span></a></li>\\n\\t\\t\\t\\t\\t\\t\\t\\t<li class=\"\"><a href=\"//www.melon.com/tv/menu/index.htm?menuSeq=3\"><span class=\"menu_tv m5\">방송</span></a></li>\\n\\t\\t\\t\\t\\t\\t\\t</ul>\\n\\t\\t\\t\\t\\t\\t</div>\\n\\t\\t\\t\\t\\t</li>\\n\\t\\t\\t\\t\\t<li class=\"nth6\">\\n\\t\\t\\t\\t\\t\\t\\n\\t\\t\\t\\t\\t\\t<a href=\"//www.melon.com/artistplus/todayupdate/index.htm\" class=\"cur_menu mlog\" data=\"LOG_PRT_CODE=1&amp;MENU_PRT_CODE=0&amp;MENU_ID_LV1=&amp;CLICK_AREA_PRT_CODE=S07&amp;ACTION_AF_CLICK=V1\"><span class=\"cur_status none\">현재 선택된 메뉴-</span><span class=\"menu_bg menu06\">스타포스트</span></a>\\n\\t\\t\\t\\t\\t\\t<div class=\"lay_menu\">\\n\\t\\t\\t\\t\\t\\t\\t<ul>\\n\\t\\t\\t\\t\\t\\t\\t\\t<li class=\"first_child\"><a href=\"//www.melon.com/artistplus/todayupdate/index.htm\"><span class=\"menu_arti m1\">NOW</span></a></li>\\n\\t\\t\\t\\t\\t\\t\\t\\t<li class=\"\"><a href=\"//www.melon.com/artistplus/artistchart/index.htm\"><span class=\"menu_arti m3\">아티스트 랭킹</span></a></li>\\n\\t\\t\\t\\t\\t\\t\\t\\t<li class=\"\"><a href=\"//www.melon.com/artistplus/myranking/index.htm\"><span class=\"menu_arti m4\">마이 랭킹</span></a></li>\\n\\t\\t\\t\\t\\t\\t\\t</ul>\\n\\t\\t\\t\\t\\t\\t\\t<div class=\"menu_artist_btn\">\\n\\t                            <div class=\"artist_fan\">\\n\\t                                <button type=\"button\" class=\"btn_fan\" onclick=\"MELON.WEBSVC.POC.menu.goMyMusicFanSignArtist();\"><span class=\"odd_span\">팬맺은 아티스트</span></button>\\n\\t                            </div>\\n\\t                            <div class=\"artist_finder\">\\n\\t                                <button type=\"button\" class=\"btn_artist_f\" onclick=\"location.href=\\'//www.melon.com/artistplus/finder/index.htm\\'\"><span class=\"odd_span\">아티스트 파인더</span></button>\\n\\t                            </div>\\n\\t\\t\\t\\t\\t\\t\\t</div>\\n\\t\\t\\t\\t\\t\\t</div>\\n\\t\\t\\t\\t\\t</li>\\n\\t\\t\\t\\t\\t<!-- 160314 수정 -->\\n\\t\\t\\t\\t\\t<li class=\"nth7\">\\n\\t\\t\\t\\t\\t\\t\\n\\t\\t\\t\\t\\t\\t<a href=\"//www.melon.com/musicstory/today/index.htm\" class=\"cur_menu mlog\" data=\"LOG_PRT_CODE=1&amp;MENU_PRT_CODE=0&amp;MENU_ID_LV1=&amp;CLICK_AREA_PRT_CODE=S09&amp;ACTION_AF_CLICK=V1\"><span class=\"cur_status none\">현재 선택된 메뉴-</span><span class=\"menu_bg menu07\">매거진</span></a>\\n\\t\\t\\t\\t\\t</li>\\n\\t\\t\\t\\t\\t<!-- // 160314 수정 -->\\n\\t\\t\\t\\t\\t<li class=\"nth8\">\\n\\t\\t\\t\\t\\t\\t\\n\\t\\t\\t\\t\\t\\t<a href=\"//www.melon.com/mma/home.htm\" class=\"cur_menu mlog\" data=\"LOG_PRT_CODE=1&amp;MENU_PRT_CODE=0&amp;MENU_ID_LV1=&amp;CLICK_AREA_PRT_CODE=S11&amp;ACTION_AF_CLICK=V1\"><span class=\"cur_status none\">현재 선택된 메뉴-</span><span class=\"menu_bg menu08\">뮤직어워드</span></a>\\n\\t\\t\\t\\t\\t</li>\\n\\n\\t\\t\\t\\t\\t<li class=\"nth10 \">\\n\\t\\t\\t\\t\\t\\t\\n\\t\\t\\t\\t\\t\\t<a href=\"//www.melon.com/edu/index.htm\" data=\"LOG_PRT_CODE=1&amp;MENU_PRT_CODE=0&amp;MENU_ID_LV1=&amp;CLICK_AREA_PRT_CODE=C04&amp;ACTION_AF_CLICK=V1\" class=\"cur_menu mlog\"><span class=\"cur_status none\">현재 선택된 메뉴-</span><span class=\"menu_bg menu10\">어학</span></a>\\n\\t\\t\\t\\t\\t</li>\\n\\t\\t\\t\\t\\t<li class=\"nth11 last_child\">\\n\\t\\t\\t\\t\\t\\t<a href=\"https://musicwave.melon.com\" class=\"cur_menu\"><span class=\"cur_status none\">현재 선택된 메뉴-</span><span class=\"menu_bg menu11\">뮤직웨이브</span></a>\\n\\t\\t\\t\\t\\t</li>\\n\\n\\t\\t\\t\\t</ul>\\n\\t\\t\\t\\t<ul class=\"sub_gnb\">\\n\\t\\t\\t\\t\\t<li class=\"\">\\n\\t\\t\\t\\t\\t\\t\\n\\t\\t\\t\\t\\t\\t<a href=\"javascript:MELON.WEBSVC.POC.menu.goMyMusicMain();\" class=\"cur_menu mlog\" data=\"LOG_PRT_CODE=1&amp;MENU_PRT_CODE=0&amp;MENU_ID_LV1=&amp;CLICK_AREA_PRT_CODE=S01&amp;ACTION_AF_CLICK=V1\"><span class=\"cur_status none\">현재 선택된 메뉴-</span><span class=\"menu_bg menu09\">마이뮤직</span></a>\\n\\t\\t\\t\\t\\t</li>\\n\\t\\t\\t\\t</ul>\\n\\t\\t\\t</div>\\n\\t\\t</div>\\n\\t</div>\\n\\n\\t<!-- //header -->\\n\\n\\t<div id=\"cont_wrap\" class=\"clfix\">\\n\\t\\t<div id=\"conts_section\" class=\"my_fold\">\\n\\t\\t\\t<!-- contents -->\\n\\t\\t\\t\\n<!-- // header -->\\n<script type=\"text/javascript\">\\n\\tfunction defaultPickArtistImg(obj, width){\\n\\t\\tif(width == null || width == \\'\\') width = $(obj).width();\\n\\t\\tvar defaultImg = \"//cdnimg.melon.co.kr/resource/image/web/default/noArtist_\" + width + \".jpg\";\\n\\t\\tif(obj.src != defaultImg){\\n\\t\\t\\tobj.src = defaultImg;\\n\\t\\t}\\n\\t}\\n</script>\\n<!-- contents -->\\n<div type=\"hidden\" item=\"lyricEntity\">\\n<div id=\"conts\">\\n\\t<div class=\"page_header\">\\n\\t\\t<h2 class=\"title\">곡 정보</h2>\\n\\t</div>\\n\\t<form id=\"downloadfrm\" name=\"downloadfrm\">\\n\\t\\t<!-- 곡 상세 -->\\n\\t\\t<div class=\"section_info\">\\n\\t\\t\\t<div class=\"wrap_info\">\\n\\t\\t\\t\\t<div class=\"thumb\" id=\"d_song_org\">\\n\\t\\t\\t\\t\\t<a href=\"#\" class=\"image_typeAll\">\\n\\t\\t\\t\\t\\t\\t<img onerror=\"WEBPOCIMG.defaultAlbumImg(this);\" width=\"282\" height=\"282\" src=\"https://cdnimg.melon.co.kr/cm2/album/images/113/64/412/11364412_20231114104942_500.jpg?5ceb4fd8a684547a92d8ac291d340ad7/melon/resize/282/quality/80/optimize\" alt=\"\">\\n\\t\\t\\t\\t\\t\\t<span class=\"bg_album_frame\"></span>\\n\\t\\t\\t\\t\\t\\t\\n\\t\\t\\t\\t\\t\\t\\t\\n\\t\\t\\t\\t\\t\\t\\t\\n\\t\\t\\t\\t\\t\\t\\t\\t<button type=\"button\" title=\"듣기\" class=\"button_icons type04 play\" onclick=\"javascript:melon.play.playSong(\\'29010101\\',\\'36963705\\');\"><span class=\"none\">듣기</span></button>\\n\\t\\t\\t\\t\\t\\t\\t\\n\\t\\t\\t\\t\\t\\t\\n\\t\\t\\t\\t\\t</a>\\n\\t\\t\\t\\t</div>\\n\\t\\t\\t\\t<div class=\"entry\">\\n\\t\\t\\t\\t\\t<div class=\"info\">\\n\\t\\t\\t\\t\\t\\t\\n\\t\\t\\t\\t\\t\\t\\n\\t\\t\\t\\t\\t\\t\\t\\n\\t\\t\\t\\t\\t\\t\\t\\n\\t\\t\\t\\t\\t\\t<div class=\"song_name\">\\n\\t\\t\\t\\t\\t\\t\\t\\n\\t\\t\\t\\t\\t\\t\\n\\t\\t\\t\\t\\t\\t\\t<strong class=\"none\">곡명</strong>\\n\\t\\t\\t\\t\\t\\t\\t\\n\\t\\t\\t\\t\\t\\t\\t\\n\\t\\t\\t\\t\\t\\t\\t\\n\\t\\t\\t\\t\\t\\t\\t\\n\\t\\t\\t\\t\\t\\t\\tBreaking the rules\\n\\t\\t\\t\\t\\t\\t</div>\\n\\t\\t\\t\\t\\t\\t\\n\\t\\t\\t\\t\\t\\t\\t\\n\\t\\t\\t\\t\\t\\t\\t\\n\\t\\t\\t\\t\\t\\t\\t\\t<div class=\"artist\">\\n\\t\\t\\t\\t\\t\\t\\t\\t\\t\\n\\t\\t\\t\\t\\t\\t\\t\\t\\t\\t<a href=\"javascript:melon.link.goArtistDetail(\\'2963597\\')\" title=\"페리블루 (Ferry Blue)\" class=\"artist_name\"><span>페리블루 (Ferry Blue)</span><span class=\"thumb_atist\"><img onerror=\"WEBPOCIMG.defaultArtistImg(this);\" src=\"https://cdnimg.melon.co.kr/cm2/artistcrop/images/029/63/597/2963597_20231114151543.jpg\" width=\"52\" height=\"52\"></span></a>\\n\\t\\t\\t\\t\\t\\t\\t\\t\\t\\n\\t\\t\\t\\t\\t\\t\\t\\t</div>\\n\\t\\t\\t\\t\\t\\t\\t\\n\\t\\t\\t\\t\\t\\t\\n\\t\\t\\t\\t\\t</div>\\n\\t\\t\\t\\t\\t<div class=\"meta\">\\n\\t\\t\\t\\t\\t\\t<dl class=\"list\">\\n\\t\\t\\t\\t\\t\\t\\t<dt>앨범</dt>\\n\\t\\t\\t\\t\\t\\t\\t<dd><a href=\"javascript:melon.link.goAlbumDetail(\\'11364412\\');\">Breaking the rules</a></dd>\\n\\t\\t\\t\\t\\t\\t\\t<dt>발매일</dt>\\n\\t\\t\\t\\t\\t\\t\\t<dd>2023.11.15</dd>\\n\\t\\t\\t\\t\\t\\t\\t<dt>장르</dt>\\n\\t\\t\\t\\t\\t\\t\\t<dd>댄스, 인디음악</dd>\\n\\t\\t\\t\\t\\t\\t\\t\\n\\t\\t\\t\\t\\t\\t\\t\\t<dt>FLAC</dt>\\n\\t\\t\\t\\t\\t\\t\\t\\t<dd>Flac 16bit</dd>\\n\\t\\t\\t\\t\\t\\t\\t\\n\\t\\t\\t\\t\\t\\t</dl>\\n\\t\\t\\t\\t\\t</div>\\n\\t\\t\\t\\t\\t<div class=\"button d_song_like\">\\n\\t\\t\\t\\t\\t\\t<button type=\"button\" class=\"button_etc like type02\" id=\"btnLike\" title=\"Breaking the rules 좋아요\" data-song-no=\"36963705\" data-song-menuid=\"29010101\" data-target-id=\"d_like_count\">\\n\\t\\t\\t\\t\\t\\t\\t<span class=\"odd_span\">좋아요</span>\\n\\t\\t\\t\\t\\t\\t\\t<span id=\"d_like_count\" class=\"cnt\">48</span>\\n\\t\\t\\t\\t\\t\\t</button>\\n\\t\\t\\t\\t\\t\\t\\n\\t\\t\\t\\t\\t\\t\\t\\n\\t\\t\\t\\t\\t\\t\\t\\n\\t\\t\\t\\t\\t\\t\\t\\t<button type=\"button\" title=\"곡 다운\" class=\"btn\" onclick=\"javascript:melon.buy.goBuyProduct(\\'downloadfrm\\', \\'36963705\\', \\'3C0001\\', \\'\\',\\'0\\', \\'\\');\">\\n\\t\\t\\t\\t\\t\\t\\t\\t\\t<span class=\"button_icons download type03\"></span>\\n\\t\\t\\t\\t\\t\\t\\t\\t\\t<span class=\"text\">곡 다운</span>\\n\\t\\t\\t\\t\\t\\t\\t\\t\\t<span class=\"button_icons arrow_link02\"></span>\\n\\t\\t\\t\\t\\t\\t\\t\\t</button>\\n\\t\\t\\t\\t\\t\\t\\t\\n\\t\\t\\t\\t\\t\\t\\n\\t\\t\\t\\t\\t\\t\\n\\t\\t\\t\\t\\t\\t\\t\\n\\t\\t\\t\\t\\t\\t\\t\\t\\n\\t\\t\\t\\t\\t\\t\\t\\t\\n\\t\\t\\t\\t\\t\\t\\t\\t\\t<button type=\"button\" title=\"FLAC 다운\" class=\"btn\" onclick=\"javascript:melon.buy.goBuyProduct(\\'downloadfrm\\', \\'36963705\\', \\'3C0001\\', \\'\\',\\'110\\', \\'\\');\">\\n\\t\\t\\t\\t\\t\\t\\t\\t\\t\\t<span class=\"button_icons download type03\"></span>\\n\\t\\t\\t\\t\\t\\t\\t\\t\\t\\t<span class=\"text\">FLAC 다운</span>\\n\\t\\t\\t\\t\\t\\t\\t\\t\\t\\t<span class=\"button_icons arrow_link02\"></span>\\n\\t\\t\\t\\t\\t\\t\\t\\t\\t</button>\\n\\t\\t\\t\\t\\t\\t\\t\\t\\n\\t\\t\\t\\t\\t\\t\\t\\n\\t\\t\\t\\t\\t\\t\\n\\t\\t\\t\\t\\t\\t\\n\\t\\t\\t\\t\\t\\t\\t\\n\\t\\t\\t\\t\\t\\t\\t\\n\\t\\t\\t\\t\\t\\t\\t\\t<button type=\"button\" title=\"선물하기\" class=\"btn\" onclick=\"javascript:melon.buy.goPresentOnlyOne(\\'song\\', 36963705, \\'29010101\\');\">\\n\\t\\t\\t\\t\\t\\t\\t\\t\\t<span class=\"button_icons type03 gift\"></span>\\n\\t\\t\\t\\t\\t\\t\\t\\t\\t<span class=\"text\">선물하기</span>\\n\\t\\t\\t\\t\\t\\t\\t\\t\\t<span class=\"button_icons arrow_link02\"></span>\\n\\t\\t\\t\\t\\t\\t\\t\\t</button>\\n\\t\\t\\t\\t\\t\\t\\t\\n\\t\\t\\t\\t\\t\\t\\n\\t\\t\\t\\t\\t</div>\\n\\t\\t\\t\\t\\t<div class=\"share\">\\n\\t\\t\\t\\t\\t\\t<dl>\\n\\t\\t\\t\\t\\t\\t\\t<dt>댓글</dt>\\n\\t\\t\\t\\t\\t\\t\\t<dd>\\n\\t\\t\\t\\t\\t\\t\\t\\t<a href=\"javascript:goReview();\">\\n\\t\\t\\t\\t\\t\\t\\t\\t\\t<span id=\"revCnt\" class=\"text\">0개</span>\\n\\t\\t\\t\\t\\t\\t\\t\\t\\t<span class=\"button_icons arrow_link02\"></span>\\n\\t\\t\\t\\t\\t\\t\\t\\t</a>\\n\\t\\t\\t\\t\\t\\t\\t</dd>\\n\\t\\t\\t\\t\\t\\t\\t<dt>공유</dt>\\n\\t\\t\\t\\t\\t\\t\\t<dd>\\n\\t\\t\\t\\t\\t\\t\\t\\t<div class=\"wrap_sns\">\\n\\t\\t\\t\\t\\t\\t\\t\\t\\t<button type=\"button\" title=\"친구에게 음악메시지 보내기\" class=\"bullet_icons sns frend\" onclick=\"javascript:melon.link.goMultiMessagePop(\\'song\\',\\'36963705\\', \\'29010101\\');\"><span class=\"none\">친구</span></button>\\n\\t\\t\\t\\t\\t\\t\\t\\t\\t<button type=\"button\" title=\"페이스북\" id=\"songFacebook\" class=\"bullet_icons sns facebook\" data-menuid=\"29010101\"><span class=\"none\">페이스북</span></button>\\n\\t\\t\\t\\t\\t\\t\\t\\t\\t<button type=\"button\" title=\"트위터\" id=\"songTwitter\" class=\"bullet_icons sns twitter\" data-menuid=\"29010101\"><span class=\"none\">트위터</span></button>\\n\\t\\t\\t\\t\\t\\t\\t\\t</div>\\n\\t\\t\\t\\t\\t\\t\\t</dd>\\n\\t\\t\\t\\t\\t\\t</dl>\\n\\t\\t\\t\\t\\t\\t\\n\\t\\t\\t\\t\\t</div>\\n\\t\\t\\t\\t\\t<div class=\"etc\">\\n\\t\\t\\t\\t\\t\\t\\n\\t\\t\\t\\t\\t\\t\\t\\n\\t\\t\\t\\t\\t\\t\\t\\n\\t\\t\\t\\t\\t\\t\\t\\t<button type=\"button\" title=\"담기\" class=\"btn\" onclick=\"javascript:melon.play.addPlayList(\\'36963705\\');\">\\n\\t\\t\\t\\t\\t\\t\\t\\t\\t<span class=\"button_icons type03 scrap\"></span>\\n\\t\\t\\t\\t\\t\\t\\t\\t\\t<span class=\"cnt\">담기</span>\\n\\t\\t\\t\\t\\t\\t\\t\\t</button>\\n\\t\\t\\t\\t\\t\\t\\t\\n\\t\\t\\t\\t\\t\\t\\n\\t\\t\\t\\t\\t</div>\\n\\t\\t\\t\\t</div>\\n\\t\\t\\t</div>\\n\\t\\t\\t<!-- 20171116 -->\\n\\t\\t\\t\\n\\t\\t\\t<!-- //20171116 -->\\n\\t\\t</div>\\n\\t\\t<!-- //곡 상세 -->\\n\\t</form>\\n\\n\\t<!-- 가사 -->\\n\\t<div class=\"section_lyric\">\\n\\t\\t<div class=\"page_header bline\">\\n\\t\\t\\t<h5 class=\"title\">가사</h5>\\n\\t\\t\\t<div class=\"button\" id=\"lyricPrintReportBtn\">\\n\\t\\t\\t\\t<button type=\"button\" title=\"프린트\" class=\"button_rbox d_print\"><span class=\"cnt\">프린트</span></button>\\n\\t\\t\\t\\t<button type=\"button\" title=\"가사오류신고\" class=\"button_rbox d_report\"><span class=\"cnt\">가사오류신고</span></button>\\n\\t\\t\\t</div>\\n\\t\\t</div>\\n\\t\\t<div class=\"wrap_lyric\" id=\"lyricArea\">\\n\\t\\t\\t\\n\\t\\t\\t\\t\\n\\t\\t\\t\\t\\t<div class=\"lyric\" id=\"d_video_summary\"><!-- height:auto; 로 변경시, 확장됨 -->\\n\\t\\t\\t\\t\\t\\t\\t끝이 보이지 않는 어둠 속에<br>한 줄기 빛이 되어준 너<br>헤어나올 수 없는 Like a Black hole<br>침식 되어 가는 나<br>텅 빈 나의 눈 속에 니가 들어와<br>눈 부시게 가득 채워<br>푸른빛 물든 설렘의 색깔은 Blue<br>다시 빛 나도록<br>따라와 다시 한 번 꽃을 피워줄게<br>파도 위에 올라타봐<br>다 알아 내 매력에 빠져버린 너를<br>You wanna be my love forever babe<br>Breaking the rules<br>forget the button, to stop me<br>Come out, in front of me<br>Breaking the rules<br>forget the button, to stop me<br>Come out, in front of me<br>숨겨 놓았던 내 속에 Wonder land<br>살며시 보여주고 싶어<br>중력 같았던 널 향한 이끌림<br>손을 뻗어 만져봐<br>Yeah, Yeah!<br>날 가뒀던 선들의 모순<br>날 눌렀던 악몽의 굴레<br>지겨워 벗어날래 이젠<br>거침없이 널 펼쳐봐<br>우리란 바다에 닥친 거센 바람에<br>지지 않을래 더 큰 파랑을 일 차례<br>두려워할 필요 없어 널 그대로 보여 줘<br>Don\\'t be Fake<br>따라와 다시 한 번 꽃을 피워줄게<br>파도 위에 올라타봐<br>다 알아 내 매력에 빠져버린 너를<br>You wanna be my love forever babe<br>Breaking the rules<br>forget the button, to stop me<br>Come out, in front of me<br>Breaking the rules<br>forget the button, to stop me<br>Come out, in front of me<br>감춰 두었던 부끄러웠던 내 모습<br>이젠 보내줄게<br>두 손에 꽉쥐어진 빛바랜 후회들은<br>이제 인정해 Game over<br>Yeah Yeah Yeah<br>따라와 다시 한 번 꽃을 피워줄게<br>파도 위에 올라타봐<br>다 알아 내 매력에 빠져버린 너를<br>You wanna be my love forever babe<br>Breaking the rules<br>forget the button, to stop me<br>Come out, in front of me<br>Breaking the rules<br>forget the button, to stop me<br>Come out, in front of me\\n\\t\\t\\t\\t\\t</div>\\n\\t\\t\\t\\t\\t<button type=\"button\" title=\"Breaking the rules 가사 더보기\" class=\"button_more arrow_d\" data-control=\"expose\" data-expose-type=\"more\" data-expose-target=\"#d_video_summary\">\\n\\t\\t\\t\\t\\t\\t<span class=\"text\">펼치기</span>\\n\\t\\t\\t\\t\\t\\t<i class=\"button_icons etc arrow_d\"></i>\\n\\t\\t\\t\\t\\t</button>\\n\\t\\t\\t\\t\\n\\t\\t\\t\\t\\n\\t\\t\\t\\n\\t\\t</div>\\n\\t</div>\\n\\t<!-- //가사 -->\\n\\n\\t\\t<!-- 작사 / 작곡 -->\\n\\t\\t\\n\\t\\t\\t<div class=\"section_prdcr\">\\n\\t\\t\\t\\t<div class=\"page_header bline\">\\n\\t\\t\\t\\t\\t<h5 class=\"title\">작사 / 작곡</h5>\\n\\t\\t\\t\\t</div>\\n\\t\\t\\t\\t<ul class=\"list_person clfix\">\\n\\t\\t\\t\\t\\t<!-- 작사가 정보-->\\n\\t\\t\\t\\t\\t\\n\\t\\t\\t\\t\\t\\t\\n\\t\\t\\t\\t\\t\\t\\t<li>\\n\\t\\t\\t\\t\\t\\t\\t\\t<div class=\"thumb\">\\n\\t\\t\\t\\t\\t\\t\\t\\t\\t<a href=\"javascript:melon.link.goArtistDetail(3617330)\" class=\"image_typeAll\">\\n\\t\\t\\t\\t\\t\\t\\t\\t\\t\\t<img onerror=\"javascript:defaultPickArtistImg(this, \\'60\\');\" src=\"//cdnimg.melon.co.kr/resource/image/web/default/noArtist_60.jpg\" alt=\"\">\\n\\t\\t\\t\\t\\t\\t\\t\\t\\t\\t<span class=\"bg_album_frame\"></span>\\n\\t\\t\\t\\t\\t\\t\\t\\t\\t</a>\\n\\t\\t\\t\\t\\t\\t\\t\\t</div>\\n\\t\\t\\t\\t\\t\\t\\t\\t<div class=\"entry\">\\n\\t\\t\\t\\t\\t\\t\\t\\t\\t<div class=\"ellipsis artist\">\\n\\t\\t\\t\\t\\t\\t\\t\\t\\t\\t<a href=\"javascript:melon.link.goArtistDetail(3617330)\" class=\"artist_name\" title=\"아티스트상세 이동\">Dipunch</a>\\n\\t\\t\\t\\t\\t\\t\\t\\t\\t</div>\\n\\t\\t\\t\\t\\t\\t\\t\\t\\t<div class=\"meta\">\\n\\t\\t\\t\\t\\t\\t\\t\\t\\t\\t<span class=\"type\">작사</span>\\n\\t\\t\\t\\t\\t\\t\\t\\t\\t</div>\\n\\t\\t\\t\\t\\t\\t\\t\\t</div>\\n\\t\\t\\t\\t\\t\\t\\t</li>\\n\\t\\t\\t\\t\\t\\t\\n\\t\\t\\t\\t\\t\\t\\t<li>\\n\\t\\t\\t\\t\\t\\t\\t\\t<div class=\"thumb\">\\n\\t\\t\\t\\t\\t\\t\\t\\t\\t<a href=\"javascript:melon.link.goArtistDetail(3617331)\" class=\"image_typeAll\">\\n\\t\\t\\t\\t\\t\\t\\t\\t\\t\\t<img onerror=\"javascript:defaultPickArtistImg(this, \\'60\\');\" src=\"//cdnimg.melon.co.kr/resource/image/web/default/noArtist_60.jpg\" alt=\"\">\\n\\t\\t\\t\\t\\t\\t\\t\\t\\t\\t<span class=\"bg_album_frame\"></span>\\n\\t\\t\\t\\t\\t\\t\\t\\t\\t</a>\\n\\t\\t\\t\\t\\t\\t\\t\\t</div>\\n\\t\\t\\t\\t\\t\\t\\t\\t<div class=\"entry\">\\n\\t\\t\\t\\t\\t\\t\\t\\t\\t<div class=\"ellipsis artist\">\\n\\t\\t\\t\\t\\t\\t\\t\\t\\t\\t<a href=\"javascript:melon.link.goArtistDetail(3617331)\" class=\"artist_name\" title=\"아티스트상세 이동\">SS</a>\\n\\t\\t\\t\\t\\t\\t\\t\\t\\t</div>\\n\\t\\t\\t\\t\\t\\t\\t\\t\\t<div class=\"meta\">\\n\\t\\t\\t\\t\\t\\t\\t\\t\\t\\t<span class=\"type\">작사</span>\\n\\t\\t\\t\\t\\t\\t\\t\\t\\t</div>\\n\\t\\t\\t\\t\\t\\t\\t\\t</div>\\n\\t\\t\\t\\t\\t\\t\\t</li>\\n\\t\\t\\t\\t\\t\\t\\n\\t\\t\\t\\t\\t\\n\\t\\t\\t\\t\\t<!-- 작곡가 정보 -->\\n\\t\\t\\t\\t\\t\\n\\t\\t\\t\\t\\t\\t\\n\\t\\t\\t\\t\\t\\t\\t<li>\\n\\t\\t\\t\\t\\t\\t\\t\\t<div class=\"thumb\">\\n\\t\\t\\t\\t\\t\\t\\t\\t\\t<a href=\"javascript:melon.link.goArtistDetail(3617330)\" class=\"image_typeAll\">\\n\\t\\t\\t\\t\\t\\t\\t\\t\\t\\t<img onerror=\"javascript:defaultPickArtistImg(this, \\'60\\');\" src=\"//cdnimg.melon.co.kr/resource/image/web/default/noArtist_60.jpg\" alt=\"\">\\n\\t\\t\\t\\t\\t\\t\\t\\t\\t\\t<span class=\"bg_album_frame\"></span>\\n\\t\\t\\t\\t\\t\\t\\t\\t\\t</a>\\n\\t\\t\\t\\t\\t\\t\\t\\t</div>\\n\\t\\t\\t\\t\\t\\t\\t\\t<div class=\"entry\">\\n\\t\\t\\t\\t\\t\\t\\t\\t\\t<div class=\"ellipsis artist\">\\n\\t\\t\\t\\t\\t\\t\\t\\t\\t\\t<a href=\"javascript:melon.link.goArtistDetail(3617330)\" class=\"artist_name\" title=\"아티스트상세 이동\">Dipunch</a>\\n\\t\\t\\t\\t\\t\\t\\t\\t\\t</div>\\n\\t\\t\\t\\t\\t\\t\\t\\t\\t<div class=\"meta\">\\n\\t\\t\\t\\t\\t\\t\\t\\t\\t\\t<span class=\"type\">작곡</span>\\n\\t\\t\\t\\t\\t\\t\\t\\t\\t</div>\\n\\t\\t\\t\\t\\t\\t\\t\\t</div>\\n\\t\\t\\t\\t\\t\\t\\t</li>\\n\\t\\t\\t\\t\\t\\t\\n\\t\\t\\t\\t\\t\\t\\t<li>\\n\\t\\t\\t\\t\\t\\t\\t\\t<div class=\"thumb\">\\n\\t\\t\\t\\t\\t\\t\\t\\t\\t<a href=\"javascript:melon.link.goArtistDetail(3617331)\" class=\"image_typeAll\">\\n\\t\\t\\t\\t\\t\\t\\t\\t\\t\\t<img onerror=\"javascript:defaultPickArtistImg(this, \\'60\\');\" src=\"//cdnimg.melon.co.kr/resource/image/web/default/noArtist_60.jpg\" alt=\"\">\\n\\t\\t\\t\\t\\t\\t\\t\\t\\t\\t<span class=\"bg_album_frame\"></span>\\n\\t\\t\\t\\t\\t\\t\\t\\t\\t</a>\\n\\t\\t\\t\\t\\t\\t\\t\\t</div>\\n\\t\\t\\t\\t\\t\\t\\t\\t<div class=\"entry\">\\n\\t\\t\\t\\t\\t\\t\\t\\t\\t<div class=\"ellipsis artist\">\\n\\t\\t\\t\\t\\t\\t\\t\\t\\t\\t<a href=\"javascript:melon.link.goArtistDetail(3617331)\" class=\"artist_name\" title=\"아티스트상세 이동\">SS</a>\\n\\t\\t\\t\\t\\t\\t\\t\\t\\t</div>\\n\\t\\t\\t\\t\\t\\t\\t\\t\\t<div class=\"meta\">\\n\\t\\t\\t\\t\\t\\t\\t\\t\\t\\t<span class=\"type\">작곡</span>\\n\\t\\t\\t\\t\\t\\t\\t\\t\\t</div>\\n\\t\\t\\t\\t\\t\\t\\t\\t</div>\\n\\t\\t\\t\\t\\t\\t\\t</li>\\n\\t\\t\\t\\t\\t\\t\\n\\t\\t\\t\\t\\t\\n\\t\\t\\t\\t\\t<!-- 편곡가 정보 -->\\n\\t\\t\\t\\t\\t\\n\\t\\t\\t\\t\\t\\t\\n\\t\\t\\t\\t\\t\\t\\t<li>\\n\\t\\t\\t\\t\\t\\t\\t\\t<div class=\"thumb\">\\n\\t\\t\\t\\t\\t\\t\\t\\t\\t<a href=\"javascript:melon.link.goArtistDetail(3617330)\" class=\"image_typeAll\">\\n\\t\\t\\t\\t\\t\\t\\t\\t\\t\\t<img onerror=\"javascript:defaultPickArtistImg(this, \\'60\\');\" src=\"//cdnimg.melon.co.kr/resource/image/web/default/noArtist_60.jpg\" alt=\"\">\\n\\t\\t\\t\\t\\t\\t\\t\\t\\t\\t<span class=\"bg_album_frame\"></span>\\n\\t\\t\\t\\t\\t\\t\\t\\t\\t</a>\\n\\t\\t\\t\\t\\t\\t\\t\\t</div>\\n\\t\\t\\t\\t\\t\\t\\t\\t<div class=\"entry\">\\n\\t\\t\\t\\t\\t\\t\\t\\t\\t<div class=\"ellipsis artist\">\\n\\t\\t\\t\\t\\t\\t\\t\\t\\t\\t<a href=\"javascript:melon.link.goArtistDetail(3617330)\" class=\"artist_name\" title=\"아티스트상세 이동\">Dipunch</a>\\n\\t\\t\\t\\t\\t\\t\\t\\t\\t</div>\\n\\t\\t\\t\\t\\t\\t\\t\\t\\t<div class=\"meta\">\\n\\t\\t\\t\\t\\t\\t\\t\\t\\t\\t<span class=\"type\">편곡</span>\\n\\t\\t\\t\\t\\t\\t\\t\\t\\t</div>\\n\\t\\t\\t\\t\\t\\t\\t\\t</div>\\n\\t\\t\\t\\t\\t\\t\\t</li>\\n\\t\\t\\t\\t\\t\\t\\n\\t\\t\\t\\t\\t\\n\\t\\t\\t\\t</ul>\\n\\t\\t\\t</div>\\n\\t\\t\\n\\t\\t<!-- //작사 / 작곡 -->\\n\\n\\t\\t<!-- 관련영상 -->\\n\\t\\t<div class=\"section_movie\" style=\"display:none;\">\\n\\t\\t\\t<div class=\"page_header\">\\n\\t\\t\\t\\t<h5 class=\"title\">관련비디오</h5>\\n\\t\\t\\t</div>\\n\\t\\t\\t\\n<div class=\"service_list_video type03 d_video_list\">\\n<h3 class=\"none\">영상 리스트</h3>\\t\\n\\n</div>\\t\\t\\t\\t\\t\\t\\n<script type=\"text/javascript\">\\n$(function(){\\n\\n\\t\\t/* 좋아요 셋팅부 */\\n\\t    var LIKE_SET = {\\n\\t        likeCnt  : \\'<span class=\\\\\"odd_span\\\\\">{TXT}</span>\\\\n<span class=\\\\\"cnt\\\\\">\\\\n<span class=\\\\\"none\\\\\">총건수</span>\\\\n{CNT}</span>\\',\\n\\t        likeObj  : $(\\'div.d_video_list button.like\\'),\\n\\t        likeAttr : \\'data-video-no\\',\\n\\t        likeUrl  : \\'/commonlike/getMvLikeWithReadCnt.json\\'\\n\\t    };\\n\\n\\t    /* 좋아요 공통부 */\\n\\t    var contsIdList = LIKE_SET[\\'likeObj\\'].map(function() { return $(this).attr(LIKE_SET[\\'likeAttr\\']); }).get().join(\\',\\');\\n\\t    var tmpl, title;\\n\\t    if ( contsIdList === \\'\\' || contsIdList === null  ) { return; }\\n\\t    $.get(LIKE_SET[\\'likeUrl\\'], { contsIds : contsIdList }, function(data) {\\n\\t        var robj;\\n\\t        $.each(data.contsLike, function(i, v) {\\n\\t        \\tvar SUMMCNT = MELON.WEBSVC.number.addComma(v.LOVECNT);\\n\\t        \\tvar VIEWCNT = MELON.WEBSVC.number.addComma(v.READCNT);\\n\\t            robj  = LIKE_SET[\\'likeObj\\'].eq(i);\\n\\t            tmpl  = LIKE_SET[\\'likeCnt\\'];\\n\\t            title = robj.attr(\\'title\\').split(\\' 좋아요\\');\\n\\t            \\n\\t            robj[v.LOVEYN == \\'Y\\' ? \\'addClass\\' : \\'removeClass\\'](\\'on\\').attr(\\'title\\', title[0] + (v.LOVEYN == \\'Y\\' ? \\' 좋아요 취소\\' : \\' 좋아요\\'));\\n\\t            robj.html(\\n\\t                tmpl.replace(/\\\\{TXT\\\\}/g, (v.LOVEYN == \\'Y\\' ? \\'좋아요 취소\\' : \\'좋아요\\')).replace(/\\\\{CNT\\\\}/g, SUMMCNT)\\n\\t            );\\n\\t            \\n\\t            $(\\'.section_movie\\').find(\\'.service_list_video > ul > li\\').eq(i).find(\\'.view > .cnt\\').text(VIEWCNT);\\n\\t            \\n\\t            /*\\n\\t\\t\\t\\tif(v.LIKEYN == \\'Y\\') {\\n\\t\\t\\t\\t\\t$(\\'.section_movie\\').find(\\'.service_list_video > ul > li\\').eq(i).find(\\'.button_etc.like\\').addClass(\\'on\\').attr(\\'title\\', title[0] + \\' 좋아요 취소\\');\\n\\t\\t\\t\\t\\t$(\\'.section_movie\\').find(\\'.service_list_video > ul > li\\').eq(i).find(\\'.button_etc.like > .odd_span\\').text(\\'좋아요 취소\\');\\n\\t\\t\\t\\t}\\n\\t\\t\\t\\telse {\\n\\t\\t\\t\\t\\t$(\\'.section_movie\\').find(\\'.service_list_video > ul > li\\').eq(i).find(\\'.button_etc.like\\').removeClass(\\'on\\').attr(\\'title\\', title[0] + \\' 좋아요\\');\\n\\t\\t\\t\\t\\t$(\\'.section_movie\\').find(\\'.service_list_video > ul > li\\').eq(i).find(\\'.button_etc.like > .odd_span\\').text(\\'좋아요\\');\\n\\t\\t\\t\\t}\\n\\t            $(\\'.section_movie\\').find(\\'.service_list_video > ul > li\\').eq(i).find(\\'.button_etc.like > .cnt\\').text(SUMMCNT);\\n\\t            */\\n\\t            \\n\\t        });\\n\\t    }).done(function(){\\n        });\\t\\n\\t\\n});\\n</script>\\t\\t\\t\\t\\t\\n\\t\\t\\t<div class=\"page\">\\n\\t\\t\\t\\t\\t\\t\\t<span class=\"wrap_btn\">\\n\\t\\t\\t\\t\\t\\t\\t\\t<a href=\"#\" title=\"이전\" class=\"btn page_prev disabled\"><span class=\"odd_span\">이전</span></a>\\n\\t\\t\\t\\t\\t\\t\\t\\t<a href=\"#\" title=\"다음\" class=\"btn page_next\"><span class=\"odd_span\">다음</span></a>\\n\\t\\t\\t\\t\\t\\t\\t</span>\\n\\t\\t\\t</div>\\n\\t\\t</div>\\n\\t\\t<!-- //관련영상 -->\\n\\n\\t\\t<!-- 나도 한마디 -->\\n\\t\\t<div id=\"section_cmt\" class=\"section_cmt\">\\n\\t\\t\\t<div class=\"page_header\">\\n\\t\\t\\t\\t<h5 class=\"title\">댓글</h5>\\n\\t\\t\\t</div>\\n\\t\\t\\t\\n\\t\\t\\t<div class=\"d_cmtpgn \" id=\"d_cmtpgn\" data-sqwidget=\"templateType:pc-summary-type;textareaType:large-size;pageType:song-page\" data-sqwidget-settings=\"cmtPocType:pc.web;pocId:LP10;menuId:;chnlSeq:103;contsRefValue:36963705;listPageUrl://www.melon.com//song/detail.htm?songId=36963705\">\\t\\t\\t\\t<div id=\"d_cmtpgn_cmt_write_box\" class=\"re_notice  d_cmtpgn_cmt_edit_box\" data-cmt-id=\"-1\">\\t\\t<div class=\"thumb_wrap\">\\t\\t<a class=\"thumb d_cmtpgn_user\" data-member-key=\"null\" id=\"commentWriteBoxImage\">\\t\\t\\t<img onerror=\"this.src=\\'//cdnimg.melon.co.kr/resource/image/cmt/web/common/noArtist02_300.jpg/melon/resize/120\\'\" src=\"//cdnimg.melon.co.kr/resource/image/cmt/web/common/noArtist01_300.jpg/melon/resize/120\" width=\"54\" height=\"54\" alt=\"\">\\t\\t\\t<span class=\"thumb_frame\"></span>\\t\\t</a>\\t</div>\\t\\t<div class=\"re_textarea_wrap\">\\t\\t\\t<div title=\"나도 한마디 입력 창 (1000자 이내 입력 가능)\" class=\"textarea\" style=\"min-height: 60px; overflow: hidden;\">\\t\\t\\t\\t<div class=\"ancm d_cmtpgn_cmt_guide\" style=\"min-height: 54px;\"><p>* 게시물의 저작권 등 분쟁, 개인정보 노출로 인한 책임은 작성자 또는 게시자에게 있음을 유의해 주세요.</p></div>\\t\\t\\t\\t<div class=\"scroll d_cmtpgn_cmt_edit_area\" style=\"display: none; max-height: 144px;\"></div>\\t\\t\\t\\t<span class=\"num_board d_cmtpgn_char_count\">\\t\\t\\t\\t\\t<span class=\"none\">현재 입력 글자수</span>\\t\\t\\t\\t\\t<strong class=\"d_cmtpgn_char_cnt\">0</strong>\\t\\t\\t\\t\\t/\\t\\t\\t\\t\\t<span class=\"none\">총 입력 가능 글자수</span>\\t\\t\\t\\t\\t1000자\\t\\t\\t\\t</span>\\t\\t\\t</div>\\t\\t\\t<div class=\"wrap_btn\">\\t\\t<div class=\"wrap_btn_atach_cmt d_cmtpgn_atach_btn_wrapper\">\\t\\t\\t<div class=\"wrap_btn_attach first_child\">\\t\\t<button type=\"button\" title=\"음악 첨부\" class=\"btn_atach_cmt sound\" aria-haspopup=\"true\" data-control=\"dropdown\"><span class=\"odd_span\">음원</span></button>\\t\\t<div style=\"position:absolute; left:0; bottom:-8px; *bottom:-5px; display:none;\" class=\"mt8 d_dropdown d_notpos d_cmtpgn_atach_music_layer\"><div class=\"l_popup_cmt\" style=\"width:456px;\">\\t\\t<div class=\"cntt\">\\t\\t\\t<h1>음악 첨부</h1>\\t\\t\\t<div class=\"wrap_search d_cmtpgn_atach_srch_box\">\\t\\t\\t\\t<input type=\"text\" class=\"d_cmtpgn_atach_music_srch_hidden\" style=\"display: none;\">\\t\\t\\t\\t<input type=\"text\" title=\"검색 입력 창 (검색어를 입력해 주세요)\" placeholder=\"검색어를 입력해 주세요\" class=\"text31 d_cmtpgn_atach_music_srch_input\" style=\"width:344px;\">\\t\\t\\t\\t<button type=\"button\" title=\"검색\" class=\"btn_b31 d_cmtpgn_atach_music_srch_btn\"><span class=\"odd_span\"><span class=\"even_span\">검색</span></span></button>\\t\\t\\t</div>\\t\\t\\t<div class=\"search_loading d_cmtpgn_loading\" style=\"display: none;\">\\t\\t\\t\\t<img src=\"//cdnimg.melon.co.kr/resource/image/cmt/web/common/img_loading.gif\" width=\"40\" height=\"40\" alt=\"\">\\t\\t\\t\\t<p>잠시 기다려 주세요.</p>\\t\\t\\t</div>\\t\\t\\t<p class=\"search_wrong d_cmtpgn_noresult\" style=\"display: none;\">검색 된 내용이 없습니다.</p>\\t\\t\\t<p class=\"search_wrong d_cmtpgn_fallback\" style=\"display: none;\">접속이 지연되고 있습니다.<br>잠시 후 다시 이용해 주시기 바랍니다.<br>이용에 불편을 드려 대단히 죄송합니다.</p>\\t\\t</div>\\t\\t<button type=\"button\" title=\"음악 첨부 닫기\" class=\"btn_close d_cmtpgn_layer_close_btn\"><span class=\"odd_span\">닫기</span></button>\\t\\t<span class=\"shadow\"></span>\\t\\t<span class=\"bullet\" style=\"left:9px;\"></span>\\t</div></div>\\t</div>\\t\\t\\t<div class=\"wrap_btn_attach\">\\t\\t<button type=\"button\" title=\"사진 첨부\" class=\"btn_atach_cmt photo\" aria-haspopup=\"true\" data-control=\"dropdown\"><span class=\"odd_span\">사진</span></button>\\t\\t<div style=\"position:absolute; left:-29px; bottom:-8px; *bottom:-5px; display:none;\" class=\"mt8 d_dropdown d_notpos d_cmtpgn_atach_image_layer\"><div class=\"l_popup_cmt\" style=\"width:456px;\">\\t<form name=\"imageUploadForm\" method=\"post\" enctype=\"multipart/form-data\" encoding=\"multipart/form-data\" action=\"https://cmt.melon.com/hs_upload_jsonp_html2.php?callback=parent._imageAtachUploadHandler\" target=\"d_cmtpgn_atach_image_frame\">\\t\\t<div class=\"cntt\">\\t\\t\\t<h1>사진 첨부</h1>\\t\\t\\t<div class=\"wrap_search\">\\t\\t\\t\\t<input type=\"file\" title=\"첨부 이미지 찾아보기\" placeholder=\"파일을 선택해 주세요\" class=\"text31 d_cmtpgn_atach_image_input\" style=\"width:408px;padding:0\">\\t\\t\\t</div>\\t\\t\\t<div class=\"wrap_btn_c\">\\t\\t\\t\\t<button type=\"button\" title=\"사진 첨부 등록 완료\" class=\"btn_emphs_small d_cmtpgn_atach_image_btn\"><span class=\"odd_span\"><span class=\"even_span\">등록</span></span></button>\\t\\t\\t\\t<button type=\"button\" title=\"사진 첨부 취소\" class=\"btn_emphs02_small d_close\"><span class=\"odd_span\"><span class=\"even_span\">취소</span></span></button>\\t\\t\\t</div>\\t\\t</div>\\t\\t<button type=\"button\" title=\"사진 첨부 닫기\" class=\"btn_close d_cmtpgn_layer_close_btn\"><span class=\"odd_span\">닫기</span></button>\\t\\t<span class=\"shadow\"></span>\\t\\t<span class=\"bullet\" style=\"left:38px;\"></span>\\t</form>\\t</div></div>\\t</div>\\t\\t\\t<div class=\"wrap_btn_attach\">\\t\\t<button type=\"button\" title=\"영상 첨부\" class=\"btn_atach_cmt video\" aria-haspopup=\"true\" data-control=\"dropdown\"><span class=\"odd_span\">영상</span></button>\\t\\t<div style=\"position:absolute; left:-59px; bottom:-8px; *bottom:-5px; display:none;\" class=\"mt8 d_dropdown d_notpos d_cmtpgn_atach_video_layer\"><div class=\"l_popup_cmt\" style=\"width:456px;\">\\t\\t<div class=\"cntt\">\\t\\t\\t<h1>영상 첨부</h1>\\t\\t\\t<div class=\"wrap_search d_cmtpgn_atach_srch_box\">\\t\\t\\t\\t<input type=\"text\" class=\"d_cmtpgn_atach_video_srch_hidden\" style=\"display: none;\">\\t\\t\\t\\t<input type=\"text\" title=\"검색 입력 창 (검색어를 입력해 주세요)\" placeholder=\"검색어를 입력해 주세요\" class=\"text31 d_cmtpgn_atach_video_srch_input\" style=\"width:344px;\">\\t\\t\\t\\t<button type=\"button\" title=\"검색\" class=\"btn_b31 d_cmtpgn_atach_video_srch_btn\"><span class=\"odd_span\"><span class=\"even_span\">검색</span></span></button>\\t\\t\\t</div>\\t\\t\\t<div class=\"search_loading d_cmtpgn_loading\" style=\"display: none;\">\\t\\t\\t\\t<img src=\"//cdnimg.melon.co.kr/resource/image/cmt/web/common/img_loading.gif\" width=\"40\" height=\"40\" alt=\"\">\\t\\t\\t\\t<p>잠시 기다려 주세요.</p>\\t\\t\\t</div>\\t\\t\\t<p class=\"search_wrong d_cmtpgn_noresult\" style=\"display: none;\">검색 된 내용이 없습니다.</p>\\t\\t\\t<p class=\"search_wrong d_cmtpgn_fallback\" style=\"display: none;\">접속이 지연되고 있습니다.<br>잠시 후 다시 이용해 주시기 바랍니다.<br>이용에 불편을 드려 대단히 죄송합니다.</p>\\t\\t</div>\\t\\t<button type=\"button\" title=\"영상 첨부 닫기\" class=\"btn_close d_cmtpgn_layer_close_btn\"><span class=\"odd_span\">닫기</span></button>\\t\\t<span class=\"shadow\"></span>\\t\\t<span class=\"bullet\" style=\"left:68px;\"></span>\\t</div></div>\\t</div>\\t\\t\\t<div class=\"wrap_btn_attach\">\\t\\t<button type=\"button\" title=\"링크 첨부\" class=\"btn_atach_cmt link\" aria-haspopup=\"true\" data-control=\"dropdown\"><span class=\"odd_span\">링크</span></button>\\t\\t<div style=\"position:absolute; left:-89px; bottom:-8px; *bottom:-5px; display:none;\" class=\"mt8 d_dropdown d_notpos d_cmtpgn_atach_link_layer\"><div class=\"l_popup_cmt\" style=\"width:456px;\">\\t\\t<div class=\"cntt\">\\t\\t\\t<h1>링크 첨부</h1>\\t\\t\\t<div class=\"wrap_search type02\">\\t\\t\\t\\t<div class=\"select_wrap d_cmtpgn_atach_link_option_wrapper\" style=\"display: none;\">\\t\\t\\t\\t\\t<select title=\"링크 종류 선택\" class=\"d_selectbox\" style=\"width: 60px; display: none;\">\\t\\t\\t\\t\\t\\t<option value=\"link_video\">영상링크</option>\\t\\t\\t\\t\\t\\t\\t\\t\\t\\t\\t</select><div class=\"select_type01\"><span class=\"select_box\" tabindex=\"0\" title=\"링크 종류 선택\"><span class=\"sel_r\" style=\"width: 60px;\">영상링크</span></span><div class=\"select_open\" style=\"position: absolute; display: none;\" tabindex=\"0\"><ul><li class=\"on\"><a href=\"#\" data-value=\"link_video\" data-text=\"영상링크\">영상링크</a></li></ul></div></div>\\t\\t\\t\\t</div>\\t\\t\\t\\t<input type=\"text\" title=\"링크 첨부 입력 창 (첨부 URL을 입력해 주세요)\" placeholder=\"http://\" class=\"text31 d_cmtpgn_atach_link_input\" style=\"width:408px;\">\\t\\t\\t</div>\\t\\t\\t<p class=\"bul_info02 d_atach_video_link_guide\">영상링크 첨부는 유튜브 영상 링크만 가능합니다.</p>\\t\\t\\t<div class=\"wrap_btn_c\">\\t\\t\\t\\t<button type=\"button\" title=\"링크 첨부 등록 완료\" class=\"btn_emphs_small d_cmtpgn_atach_link_btn\"><span class=\"odd_span\"><span class=\"even_span\">등록</span></span></button>\\t\\t\\t\\t<button type=\"button\" title=\"링크 첨부 취소\" class=\"btn_emphs02_small d_close\"><span class=\"odd_span\"><span class=\"even_span\">취소</span></span></button>\\t\\t\\t</div>\\t\\t</div>\\t\\t<button type=\"button\" title=\"링크 첨부 닫기\" class=\"btn_close d_cmtpgn_layer_close_btn\"><span class=\"odd_span\">닫기</span></button>\\t\\t<span class=\"shadow\"></span>\\t\\t<span class=\"bullet\" style=\"left:97px;\"></span>\\t</div></div>\\t</div>\\t\\t</div>\\t\\t<span class=\"wrap_btn_sns d_cmtpgn_sns_btn_wrapper\">\\t\\t\\t\\t\\t\\t\\t\\t\\t\\t\\t\\t\\t\\t\\t\\t\\t</span>\\t</div>\\t\\t\\t<div class=\"wrap_btn02\">\\t\\t<button type=\"button\" title=\"글 등록\" class=\"btn_reg d_cmtpgn_cmt_reg_btn\"><span class=\"odd_span\"><span class=\"even_span\">등록</span></span></button>\\t</div>\\t\\t</div>\\t</div><div class=\"clfix mb8\" id=\"d_cmtpgn_cmt_count_wrapper\" style=\"\"><div class=\"fl_left\">\\t\\t<strong class=\"fc_strong\">총 <span class=\"fc_point d_cmtpgn_srch_cnt\">0</span>개</strong>\\t</div>\\t<ul class=\"list_sort fl_right d_cmtpgn_sort_option_wrapper\" style=\"\">\\t\\t<li class=\"on first_child\"><strong title=\"최신순으로 보기\">최신순</strong></li>\\t\\t<li><a href=\"#cmtpgn=&amp;pageNo=1&amp;sortType=1&amp;srchType=2&amp;srchWord=\" title=\"추천순으로 보기\">추천순</a></li>\\t\\t<li><a href=\"#cmtpgn=&amp;pageNo=1&amp;sortType=2&amp;srchType=2&amp;srchWord=\" title=\"답글순으로 보기\">답글순</a></li>\\t</ul></div>\\t\\t<div class=\"list_cmt\" id=\"d_cmtpgn_cmt_list_wrapper\" style=\"\">\\t\\t\\t<div class=\"search_loading d_cmtpgn_loading\" style=\"display: none;\">\\t\\t\\t\\t<img src=\"//cdnimg.melon.co.kr/resource/image/cmt/web/common/img_loading.gif\" width=\"40\" height=\"40\" alt=\"\">\\t\\t\\t\\t<p>잠시 기다려 주세요.</p>\\t\\t\\t</div>\\t\\t\\t<p class=\"search_wrong d_cmtpgn_nodata\" style=\"\">등록된 글이 없습니다.</p><div class=\"wrap_check_sys d_cmtpgn_fallback\" style=\"display: none; margin-top: 40px; margin-bottom: 40px;\">\\t\\t<div>\\t\\t\\t<div class=\"img_check_sys\" style=\"width:320px\"></div>\\t\\t\\t<div class=\"msge\">\\t\\t\\t\\t<h3>접속이 지연되고 있습니다.</h3>\\t\\t\\t\\t<p>잠시 후 다시 이용해 주시기 바랍니다.<br>이용에 불편을 드려 대단히 죄송합니다.</p>\\t\\t\\t</div>\\t\\t</div>\\t</div>\\t\\t</div>\\t\\t<div class=\"paginate\" id=\"d_cmtpgn_paginate_wrapper\" style=\"display: none;\"></div>\\t<div class=\"wrap_search\" id=\"d_cmtpgn_srch_wrapper\" style=\"display: none;\"><div class=\"select_wrap d_cmtpgn_srch_option_wrapper\">\\t\\t<select title=\"검색 방법 선택\" class=\"d_selectbox\" style=\"width: 55px; display: none;\" data-class=\"select_type02\">\\t\\t\\t<option value=\"2\" selected=\"selected\">내용</option>\\t\\t\\t<option value=\"1\">작성자</option>\\t\\t</select><div class=\"select_type02\"><span class=\"select_box\" tabindex=\"0\" title=\"검색 방법 선택\"><span class=\"sel_r\" style=\"width: 55px;\">내용</span></span><div class=\"select_open\" style=\"position: absolute; display: none;\" tabindex=\"0\"><ul><li class=\"on\"><a href=\"#\" data-value=\"2\" data-text=\"내용\">내용</a></li><li><a href=\"#\" data-value=\"1\" data-text=\"작성자\">작성자</a></li></ul></div></div>\\t</div>\\t<input type=\"text\" title=\"검색 입력 창 (검색어를 입력해 주세요)\" placeholder=\"검색어를 입력해 주세요\" class=\"input_text d_cmtpgn_srch_input\" style=\"width:184px;\">\\t<button type=\"button\" title=\"검색\" class=\"btn_base02 d_cmtpgn_cmt_srch_btn\"><span class=\"odd_span\"><span class=\"even_span\">검색</span></span></button></div>\\t<div id=\"reprt_popup\" class=\"layer_popup ui-draggable d_modal_container\" style=\"position: absolute; left: 50%; top: 50%; min-width: 260px; z-index: 9900; background: padding-box rgb(255, 255, 255); outline: none; width: 528.011px; margin-left: -265px; margin-top: -318px; display: none\">\\t\\t<h1 class=\"title\">신고사유</h1>\\t\\t<div class=\"cntt\">\\t\\t\\t<div class=\"reprt\">\\t\\t\\t\\t<div class=\"heading\">\\t\\t\\t\\t\\t<p class=\"txt1\">신고는 반대의견을 표시하는 기능이 아닙니다.</p>\\t\\t\\t\\t\\t<p class=\"txt2\">신고 대신 반대의견이나 답글을 적어 보시는 것은 어떨까요?<br>허위신고일 경우, 신고자의 서비스 활동이 제한될 수 있습니다.</p>\\t\\t\\t\\t</div>\\t\\t\\t\\t<ul class=\"entry\">\\t\\t\\t\\t\\t<li class=\"item d_input_check on\">\\t\\t\\t\\t\\t\\t<label><input type=\"radio\" class=\"input_check\" name=\"reprt_radio\" id=\"option1\" value=\"advrt\" checked=\"checked\"><span class=\"icon\"></span>영리목적/홍보성</label>\\t\\t\\t\\t\\t</li>\\t\\t\\t\\t\\t<li class=\"item d_input_check\">\\t\\t\\t\\t\\t\\t<label><input type=\"radio\" class=\"input_check\" name=\"reprt_radio\" id=\"option2\" value=\"badinfo\"><span class=\"icon\"></span>불법정보</label>\\t\\t\\t\\t\\t</li>\\t\\t\\t\\t\\t<li class=\"item d_input_check\">\\t\\t\\t\\t\\t\\t<label><input type=\"radio\" class=\"input_check\" name=\"reprt_radio\" id=\"option3\" value=\"badthing\"><span class=\"icon\"></span>음란성/선정성</label>\\t\\t\\t\\t\\t</li>\\t\\t\\t\\t\\t<li class=\"item d_input_check\">\\t\\t\\t\\t\\t\\t<label><input type=\"radio\" class=\"input_check\" name=\"reprt_radio\" id=\"option4\" value=\"abuse\"><span class=\"icon\"></span>욕설/인신공격</label>\\t\\t\\t\\t\\t</li>\\t\\t\\t\\t\\t<li class=\"item d_input_check\">\\t\\t\\t\\t\\t\\t<label><input type=\"radio\" class=\"input_check\" name=\"reprt_radio\" id=\"option5\" value=\"privacyd\"><span class=\"icon\"></span>개인정보노출</label>\\t\\t\\t\\t\\t</li>\\t\\t\\t\\t\\t<li class=\"item d_input_check\">\\t\\t\\t\\t\\t\\t<label><input type=\"radio\" class=\"input_check\" name=\"reprt_radio\" id=\"option6\" value=\"papering\"><span class=\"icon\"></span>같은 내용 도배</label>\\t\\t\\t\\t\\t</li>\\t\\t\\t\\t\\t<li class=\"item etc d_input_check\">\\t\\t\\t\\t\\t\\t<label><input type=\"radio\" class=\"input_check\" name=\"reprt_radio\" id=\"option7\" value=\"etc\"><span class=\"icon\"></span>기타</label>\\t\\t\\t\\t\\t\\t<div class=\"text-area-wrap\">\\t\\t\\t\\t\\t\\t\\t<textarea name=\"\" id=\"d_cmtpgn_reprt_reson\" cols=\"30\" rows=\"10\" placeholder=\"기타 항목 선택 후 입력해 주세요.\" readonly=\"readonly\" disabled=\"\"></textarea>\\t\\t\\t\\t\\t\\t\\t<span class=\"count\"><em>0</em> / 80자</span>\\t\\t\\t\\t\\t\\t</div>\\t\\t\\t\\t\\t</li>\\t\\t\\t\\t\\t<li class=\"item etc d_input_check\">\\t\\t\\t\\t\\t\\t<label><input type=\"radio\" class=\"input_check\" name=\"reprt_radio\" id=\"option8\" value=\"illegalcamera\"><span class=\"icon\"></span>불법촬영물등 유통신고</label>\\t\\t\\t\\t\\t\\t<button type=\"button\" class=\"more arrow_d\" data-control=\"expose\" data-expose-type=\"display\" data-expose-target=\"#cmt_more_type01\">더보기</button>\\t\\t\\t\\t\\t\\t<div id=\"cmt_more_type01\" tabindex=\"-1\">\\t\\t\\t\\t\\t\\t\\t<p class=\"alert\">\\t\\t\\t\\t\\t\\t\\t\\t불법촬영물등 유통 신고는 전기통신사업법 시행령에 따라, 신고인의\\t\\t\\t\\t\\t\\t\\t\\t개인정보 수집·이용 동의와 신고 사유 등 신고서 제출이 필요합니다.\\t\\t\\t\\t\\t\\t\\t</p>\\t\\t\\t\\t\\t\\t\\t<p class=\"alert\">\\t\\t\\t\\t\\t\\t\\t\\t음란, 청소년 유해 사유로 신고하시면, 신고서 제출이 더 빠르게 조치됩니다.\\t\\t\\t\\t\\t\\t\\t</p>\\t\\t\\t\\t\\t\\t</div>\\t\\t\\t\\t\\t</li>\\t\\t\\t\\t\\t<li class=\"item etc d_input_check\">\\t\\t\\t\\t\\t\\t<label><input type=\"radio\" class=\"input_check\" name=\"reprt_radio\" id=\"option9\" value=\"breakright\"><span class=\"icon\"></span>권리침해신고</label>\\t\\t\\t\\t\\t\\t<button type=\"button\" class=\"more arrow_d\" data-control=\"expose\" data-expose-type=\"display\" data-expose-target=\"#cmt_more_type02\">더보기</button>\\t\\t\\t\\t\\t\\t<div id=\"cmt_more_type02\" tabindex=\"-1\">\\t\\t\\t\\t\\t\\t\\t<p class=\"alert\">명예훼손, 저작권 등 권리침해 신고는&nbsp;<a id=\"policyRightLink\" href=\"#\">고객센터</a>에서<br>증빙서류를 다운받아 작성 후 추가 접수해 주세요.</p>\\t\\t\\t\\t\\t\\t</div>\\t\\t\\t\\t\\t</li>\\t\\t\\t\\t</ul>\\t\\t\\t\\t<div class=\"button_group half center\">\\t\\t\\t\\t\\t<button type=\"button\" class=\"btn gray\">확인</button>\\t\\t\\t\\t</div>\\t\\t\\t</div>\\t\\t</div>\\t\\t<button type=\"button\" title=\"닫기\" class=\"btn_close d_close\"><span>닫기</span></button>\\t\\t<span class=\"shadow\"></span>\\t</div><textarea id=\"d_cmtpgn_dummy_textarea\" cols=\"30\" rows=\"20\" style=\"display:block; width:652px; height:0px; margin:0; padding:0; border:0;\"></textarea><form id=\"d_cmtpgn_dummy_form\" name=\"d_cmtpgn_dummy_form\"></form></div>\\n\\t\\t</div>\\n\\t\\t<!-- //나도 한마디 -->\\n\\n\\t\\t<!-- 스타일이 유사한 인기곡 -->\\n\\t\\t\\n\\t\\t<!-- //스타일이 유사한 인기곡 -->\\n\\n\\t\\t<!-- 이 곡이 포함된 DJ 플레이리스트 -->\\n\\t\\t\\n\\t\\t\\t<div class=\"section_playlist\">\\n\\t\\t\\t\\t<div class=\"page_header\">\\n\\t\\t\\t\\t\\t<h5 class=\"title\">이 곡이 포함된 DJ 플레이리스트</h5>\\n\\t\\t\\t\\t</div>\\n\\t\\t\\t\\t<div class=\"service_list_album type04 d_djcol_list\">\\n\\t\\t\\t\\t\\t<h3 class=\"none\">앨범리스트</h3>\\n\\t\\t\\t\\t\\t<ul>\\n\\t\\t\\t\\t\\t\\t\\n\\t\\t\\t\\t\\t\\t\\t<li>\\n\\t\\t\\t\\t\\t\\t\\t\\t<div class=\"thumb\">\\n\\t\\t\\t\\t\\t\\t\\t\\t\\t\\n\\t\\t\\t\\t\\t\\t\\t\\t\\t\\n\\t\\t\\t\\t\\t\\t\\t\\t\\t\\t\\n\\t\\t\\t\\t\\t\\t\\t\\t\\t\\t\\t<a href=\"javascript:MELON.WEBSVC.POC.link.goDjPlaylistDetail(\\'0\\',\\'Y\\',\\'N\\',\\'492865860\\');\" title=\"NEW WEEKLY｜뒤집은 베개처럼 신선한 최신 인디곡♥ - 페이지 이동\" class=\"image_typeAll\">\\n\\t\\t\\t\\t\\t\\t\\t\\t\\t\\t\\t\\t<img onerror=\"WEBPOCIMG.defaultPlaylistImg(this);\" src=\"https://cdnimg.melon.co.kr/svc/user_images/plylst/2021/04/526/26/492865860_org.png?tm=20231120105619/melon/resize/180/quality/80/optimize\" alt=\"\">\\n\\t\\t\\t\\t\\t\\t\\t\\t\\t\\t\\t\\t<span class=\"bg_album_frame\"></span>\\n\\t\\t\\t\\t\\t\\t\\t\\t\\t\\t\\t</a>\\n\\t\\t\\t\\t\\t\\t\\t\\t\\t\\t\\n\\t\\t\\t\\t\\t\\t\\t\\t\\t\\t\\n\\t\\t\\t\\t\\t\\t\\t\\t\\t\\t\\n\\t\\t\\t\\t\\t\\t\\t\\t\\t\\n\\t\\t\\t\\t\\t\\t\\t\\t\\t\\n\\t\\t\\t\\t\\t\\t\\t\\t</div>\\n\\t\\t\\t\\t\\t\\t\\t\\t<div class=\"entry\">\\n\\t\\t\\t\\t\\t\\t\\t\\t\\t<div class=\"info\">\\n\\t\\t\\t\\t\\t\\t\\t\\t\\t\\t\\n\\t\\t\\t\\t\\t\\t\\t\\t\\t\\t\\t\\n\\t\\t\\t\\t\\t\\t\\t\\t\\t\\t\\t\\n\\t\\t\\t\\t\\t\\t\\t\\t\\t\\t\\t\\t<a href=\"javascript:MELON.WEBSVC.POC.link.goDjPlaylistDetail(\\'0\\',\\'Y\\',\\'N\\',\\'492865860\\');\" class=\"ellipsis album_name\" title=\"NEW WEEKLY｜뒤집은 베개처럼 신선한 최신 인디곡♥ -이동\">NEW WEEKLY｜뒤집은 베개처럼 신선한 최신 인디곡♥</a>\\n\\t\\t\\t\\t\\t\\t\\t\\t\\t\\t\\t\\t<a href=\"javascript:MELON.WEBSVC.POC.link.goMyMusic(\\'52525825\\');\" class=\"ellipsis artist_name\" title=\"뮤직앤뉴. 이동\">뮤직앤뉴.</a>\\n\\t\\t\\t\\t\\t\\t\\t\\t\\t\\t\\t\\n\\t\\t\\t\\t\\t\\t\\t\\t\\t\\t\\n\\t\\t\\t\\t\\t\\t\\t\\t\\t</div>\\n\\n\\t\\t\\t\\t\\t\\t\\t\\t\\t<div class=\"meta\">\\n\\t\\t\\t\\t\\t\\t\\t\\t\\t\\t<button type=\"button\" class=\"button_etc like btn_djplylst_like\" title=\"NEW WEEKLY｜뒤집은 베개처럼 신선한 최신 인디곡♥ 좋아요\" data-djcol-no=\"492865860\" data-djcol-menuid=\"29010101\"><span class=\"odd_span\">좋아요</span> <span class=\"cnt\"> <span class=\"none\">총건수</span> 181 </span></button>\\n\\t\\t\\t\\t\\t\\t\\t\\t\\t\\t<i class=\"bar\"></i>\\n\\t\\t\\t\\t\\t\\t\\t\\t\\t\\t<span class=\"tot_song\" title=\"NEW WEEKLY｜뒤집은 베개처럼 신선한 최신 인디곡♥ 수록곡\">1,000곡</span>\\n\\t\\t\\t\\t\\t\\t\\t\\t\\t</div>\\n\\n\\t\\t\\t\\t\\t\\t\\t\\t\\t\\n\\t\\t\\t\\t\\t\\t\\t\\t\\t\\t<div class=\"tag_list\">\\n\\t\\t\\t\\t\\t\\t\\t\\t\\t\\t\\t\\n\\t\\t\\t\\t\\t\\t\\t\\t\\t\\t\\t\\t\\n\\t\\t\\t\\t\\t\\t\\t\\t\\t\\t\\t\\t\\t<a href=\"javascript:MELON.WEBSVC.POC.link.goDjTagHub(\\'188\\');\" class=\"tag_item\"><span>#최신곡</span></a>\\n\\t\\t\\t\\t\\t\\t\\t\\t\\t\\t\\t\\t\\n\\t\\t\\t\\t\\t\\t\\t\\t\\t\\t\\t\\n\\t\\t\\t\\t\\t\\t\\t\\t\\t\\t\\t\\t\\n\\t\\t\\t\\t\\t\\t\\t\\t\\t\\t\\t\\t\\t<a href=\"javascript:MELON.WEBSVC.POC.link.goDjTagHub(\\'3\\');\" class=\"tag_item\"><span>#기분전환</span></a>\\n\\t\\t\\t\\t\\t\\t\\t\\t\\t\\t\\t\\t\\n\\t\\t\\t\\t\\t\\t\\t\\t\\t\\t\\t\\n\\t\\t\\t\\t\\t\\t\\t\\t\\t\\t</div>\\n\\t\\t\\t\\t\\t\\t\\t\\t\\t\\n\\t\\t\\t\\t\\t\\t\\t\\t</div>\\n\\t\\t\\t\\t\\t\\t\\t</li>\\n\\t\\t\\t\\t\\t\\t\\n\\t\\t\\t\\t\\t\\t\\t<li>\\n\\t\\t\\t\\t\\t\\t\\t\\t<div class=\"thumb\">\\n\\t\\t\\t\\t\\t\\t\\t\\t\\t\\n\\t\\t\\t\\t\\t\\t\\t\\t\\t\\n\\t\\t\\t\\t\\t\\t\\t\\t\\t\\t\\n\\t\\t\\t\\t\\t\\t\\t\\t\\t\\t\\t<a href=\"javascript:MELON.WEBSVC.POC.link.goDjPlaylistDetail(\\'0\\',\\'Y\\',\\'N\\',\\'522951289\\');\" title=\"2023년 여자아이돌 노래모음 - 페이지 이동\" class=\"image_typeAll\">\\n\\t\\t\\t\\t\\t\\t\\t\\t\\t\\t\\t\\t<img onerror=\"WEBPOCIMG.defaultPlaylistImg(this);\" src=\"https://cdnimg.melon.co.kr/svc/user_images/plylst/2023/04/44/91/522951289_org.jpg?tm=20231124060642/melon/resize/180/quality/80/optimize\" alt=\"\">\\n\\t\\t\\t\\t\\t\\t\\t\\t\\t\\t\\t\\t<span class=\"bg_album_frame\"></span>\\n\\t\\t\\t\\t\\t\\t\\t\\t\\t\\t\\t</a>\\n\\t\\t\\t\\t\\t\\t\\t\\t\\t\\t\\n\\t\\t\\t\\t\\t\\t\\t\\t\\t\\t\\n\\t\\t\\t\\t\\t\\t\\t\\t\\t\\t\\n\\t\\t\\t\\t\\t\\t\\t\\t\\t\\n\\t\\t\\t\\t\\t\\t\\t\\t\\t\\n\\t\\t\\t\\t\\t\\t\\t\\t</div>\\n\\t\\t\\t\\t\\t\\t\\t\\t<div class=\"entry\">\\n\\t\\t\\t\\t\\t\\t\\t\\t\\t<div class=\"info\">\\n\\t\\t\\t\\t\\t\\t\\t\\t\\t\\t\\n\\t\\t\\t\\t\\t\\t\\t\\t\\t\\t\\t\\n\\t\\t\\t\\t\\t\\t\\t\\t\\t\\t\\t\\n\\t\\t\\t\\t\\t\\t\\t\\t\\t\\t\\t\\t<a href=\"javascript:MELON.WEBSVC.POC.link.goDjPlaylistDetail(\\'0\\',\\'Y\\',\\'N\\',\\'522951289\\');\" class=\"ellipsis album_name\" title=\"2023년 여자아이돌 노래모음 -이동\">2023년 여자아이돌 노래모음</a>\\n\\t\\t\\t\\t\\t\\t\\t\\t\\t\\t\\t\\t<a href=\"javascript:MELON.WEBSVC.POC.link.goMyMusic(\\'4390466\\');\" class=\"ellipsis artist_name\" title=\"슬픈새벽달빛 이동\">슬픈새벽달빛</a>\\n\\t\\t\\t\\t\\t\\t\\t\\t\\t\\t\\t\\n\\t\\t\\t\\t\\t\\t\\t\\t\\t\\t\\n\\t\\t\\t\\t\\t\\t\\t\\t\\t</div>\\n\\n\\t\\t\\t\\t\\t\\t\\t\\t\\t<div class=\"meta\">\\n\\t\\t\\t\\t\\t\\t\\t\\t\\t\\t<button type=\"button\" class=\"button_etc like btn_djplylst_like\" title=\"2023년 여자아이돌 노래모음 좋아요\" data-djcol-no=\"522951289\" data-djcol-menuid=\"29010101\"><span class=\"odd_span\">좋아요</span> <span class=\"cnt\"> <span class=\"none\">총건수</span> 61 </span></button>\\n\\t\\t\\t\\t\\t\\t\\t\\t\\t\\t<i class=\"bar\"></i>\\n\\t\\t\\t\\t\\t\\t\\t\\t\\t\\t<span class=\"tot_song\" title=\"2023년 여자아이돌 노래모음 수록곡\">646곡</span>\\n\\t\\t\\t\\t\\t\\t\\t\\t\\t</div>\\n\\n\\t\\t\\t\\t\\t\\t\\t\\t\\t\\n\\t\\t\\t\\t\\t\\t\\t\\t\\t\\t<div class=\"tag_list\">\\n\\t\\t\\t\\t\\t\\t\\t\\t\\t\\t\\t\\n\\t\\t\\t\\t\\t\\t\\t\\t\\t\\t\\t\\t\\n\\t\\t\\t\\t\\t\\t\\t\\t\\t\\t\\t\\t\\t<a href=\"javascript:MELON.WEBSVC.POC.link.goDjTagHub(\\'126\\');\" class=\"tag_item\"><span>#여자아이돌</span></a>\\n\\t\\t\\t\\t\\t\\t\\t\\t\\t\\t\\t\\t\\n\\t\\t\\t\\t\\t\\t\\t\\t\\t\\t\\t\\n\\t\\t\\t\\t\\t\\t\\t\\t\\t\\t\\t\\t\\n\\t\\t\\t\\t\\t\\t\\t\\t\\t\\t\\t\\t\\t<a href=\"javascript:MELON.WEBSVC.POC.link.goDjTagHub(\\'105872\\');\" class=\"tag_item\"><span>#2023년</span></a>\\n\\t\\t\\t\\t\\t\\t\\t\\t\\t\\t\\t\\t\\n\\t\\t\\t\\t\\t\\t\\t\\t\\t\\t\\t\\n\\t\\t\\t\\t\\t\\t\\t\\t\\t\\t</div>\\n\\t\\t\\t\\t\\t\\t\\t\\t\\t\\n\\t\\t\\t\\t\\t\\t\\t\\t</div>\\n\\t\\t\\t\\t\\t\\t\\t</li>\\n\\t\\t\\t\\t\\t\\t\\n\\n\\t\\t\\t\\t\\t</ul>\\n\\t\\t\\t\\t</div>\\n\\t\\t\\t</div>\\n\\t\\t\\n\\t\\t<!-- //수록곡이 포함된 DJ 플레이리스트 -->\\n\\n\\t\\t<!-- 좋아요 한 사람 -->\\n\\t\\t<div class=\"section_intst\">\\n\\t\\t\\t<div class=\"page_header bline\">\\n\\t\\t\\t\\t<h5 class=\"title\">좋아요 한 사람</h5>\\n\\t\\t\\t</div>\\n\\t\\t\\t<div class=\"wrap_list_intst\">\\n<link rel=\"stylesheet\" href=\"https://static.melon.co.kr/static/web/resource/style/w1/9f/d/qqjvaaccsavbr.css\" type=\"text/css\">\\n\\n\\t\\t\\t\\t\\t\\t<ul class=\"list_person clfix\">\\n\\t\\t\\t\\t\\t\\t\\n\\t\\t\\t\\t\\t\\t\\t<li>\\n\\t\\t\\t\\t\\t\\t\\t\\t<div class=\"thumb\">\\n\\t\\t\\t\\t\\t\\t\\t\\t\\t<a href=\"javascript:melon.link.goMyMusic(\\'52525825\\');\" class=\"image_typeAll\">\\n\\t\\t\\t\\t\\t\\t\\t\\t\\t\\t<img onerror=\"javascript:defaultPickArtistImg(this, \\'60\\');\" width=\"60\" height=\"60\" src=\"https://cdnimg.melon.co.kr/svc/user_images/user/526/26/52525825_86.jpg?tm=20231116050716\" alt=\"\">\\n\\t\\t\\t\\t\\t\\t\\t\\t\\t\\t<span class=\"bg_album_frame\"></span>\\n\\t\\t\\t\\t\\t\\t\\t\\t\\t</a>\\n\\t\\t\\t\\t\\t\\t\\t\\t</div>\\n\\t\\t\\t\\t\\t\\t\\t\\t<div class=\"entry\">\\n\\t\\t\\t\\t\\t\\t\\t\\t\\t<div class=\"artist_name\">\\n\\t\\t\\t\\t\\t\\t\\t\\t\\t\\t\\n\\t\\t\\t\\t\\t\\t\\t\\t\\t\\t\\t<span class=\"label_dj dj-normal\">DJ</span>\\n\\t\\t\\t\\t\\t\\t\\t\\t\\t\\t\\n\\t\\t\\t\\t\\t\\t\\t\\t\\t\\t<a href=\"javascript:melon.link.goMyMusic(\\'52525825\\');\" class=\"user_id ellipsis\" title=\"아티스트상세 이동\">\\n\\t\\t\\t\\t\\t\\t\\t\\t\\t\\t\\t뮤직앤뉴.\\n\\t\\t\\t\\t\\t\\t\\t\\t\\t\\t</a>\\n\\t\\t\\t\\t\\t\\t\\t\\t\\t\\t\\n\\t\\t\\t\\t\\t\\t\\t\\t\\t</div>\\n\\t\\t\\t\\t\\t\\t\\t\\t\\t<div class=\"meta\">\\n\\t\\t\\t\\t\\t\\t\\t\\t\\t\\t<span class=\"type\">국내 R&amp;B/Soul</span>\\n\\t\\t\\t\\t\\t\\t\\t\\t\\t\\t<span class=\"have_list\">\\n\\t\\t\\t\\t\\t\\t\\t\\t\\t\\t\\t<span class=\"bullet_icons play_song\"></span>\\n\\t\\t\\t\\t\\t\\t\\t\\t\\t\\t\\t\\n\\t\\t\\t\\t\\t\\t\\t\\t\\t\\t\\t\\t\\n\\t\\t\\t\\t\\t\\t\\t\\t\\t\\t\\t\\t\\n\\t\\t\\t\\t\\t\\t\\t\\t\\t\\t\\t\\t\\t<span class=\"text\">0</span>\\n\\t\\t\\t\\t\\t\\t\\t\\t\\t\\t\\t\\t\\n\\t\\t\\t\\t\\t\\t\\t\\t\\t\\t\\t\\n\\t\\t\\t\\t\\t\\t\\t\\t\\t\\t</span>\\n\\t\\t\\t\\t\\t\\t\\t\\t\\t</div>\\n\\t\\t\\t\\t\\t\\t\\t\\t</div>\\n\\t\\t\\t\\t\\t\\t\\t</li>\\n\\t\\t\\t\\t\\t\\t\\t<li>\\n\\t\\t\\t\\t\\t\\t\\t\\n\\t\\t\\t\\t\\t\\t\\t</li><li>\\n\\t\\t\\t\\t\\t\\t\\t\\t<div class=\"thumb\">\\n\\t\\t\\t\\t\\t\\t\\t\\t\\t<a href=\"javascript:melon.link.goMyMusic(\\'55497042\\');\" class=\"image_typeAll\">\\n\\t\\t\\t\\t\\t\\t\\t\\t\\t\\t<img onerror=\"javascript:defaultPickArtistImg(this, \\'60\\');\" width=\"60\" height=\"60\" src=\"https://cdnimg.melon.co.kr/svc/user_images/user/555/98/55497042_86.jpg?tm=20220121115700\" alt=\"\">\\n\\t\\t\\t\\t\\t\\t\\t\\t\\t\\t<span class=\"bg_album_frame\"></span>\\n\\t\\t\\t\\t\\t\\t\\t\\t\\t</a>\\n\\t\\t\\t\\t\\t\\t\\t\\t</div>\\n\\t\\t\\t\\t\\t\\t\\t\\t<div class=\"entry\">\\n\\t\\t\\t\\t\\t\\t\\t\\t\\t<div class=\"artist_name\">\\n\\t\\t\\t\\t\\t\\t\\t\\t\\t\\t\\n\\t\\t\\t\\t\\t\\t\\t\\t\\t\\t\\t<span class=\"label_dj dj-normal\">DJ</span>\\n\\t\\t\\t\\t\\t\\t\\t\\t\\t\\t\\n\\t\\t\\t\\t\\t\\t\\t\\t\\t\\t<a href=\"javascript:melon.link.goMyMusic(\\'55497042\\');\" class=\"user_id ellipsis\" title=\"아티스트상세 이동\">\\n\\t\\t\\t\\t\\t\\t\\t\\t\\t\\t\\tCtheTeen\\n\\t\\t\\t\\t\\t\\t\\t\\t\\t\\t</a>\\n\\t\\t\\t\\t\\t\\t\\t\\t\\t\\t\\n\\t\\t\\t\\t\\t\\t\\t\\t\\t</div>\\n\\t\\t\\t\\t\\t\\t\\t\\t\\t<div class=\"meta\">\\n\\t\\t\\t\\t\\t\\t\\t\\t\\t\\t<span class=\"type\">댄스</span>\\n\\t\\t\\t\\t\\t\\t\\t\\t\\t\\t<span class=\"have_list\">\\n\\t\\t\\t\\t\\t\\t\\t\\t\\t\\t\\t<span class=\"bullet_icons play_song\"></span>\\n\\t\\t\\t\\t\\t\\t\\t\\t\\t\\t\\t\\n\\t\\t\\t\\t\\t\\t\\t\\t\\t\\t\\t\\t\\n\\t\\t\\t\\t\\t\\t\\t\\t\\t\\t\\t\\t\\n\\t\\t\\t\\t\\t\\t\\t\\t\\t\\t\\t\\t\\t<span class=\"text\">12</span>\\n\\t\\t\\t\\t\\t\\t\\t\\t\\t\\t\\t\\t\\n\\t\\t\\t\\t\\t\\t\\t\\t\\t\\t\\t\\n\\t\\t\\t\\t\\t\\t\\t\\t\\t\\t</span>\\n\\t\\t\\t\\t\\t\\t\\t\\t\\t</div>\\n\\t\\t\\t\\t\\t\\t\\t\\t</div>\\n\\t\\t\\t\\t\\t\\t\\t</li>\\n\\t\\t\\t\\t\\t\\t\\t<li>\\n\\t\\t\\t\\t\\t\\t\\t\\n\\t\\t\\t\\t\\t\\t\\t</li><li>\\n\\t\\t\\t\\t\\t\\t\\t\\t<div class=\"thumb\">\\n\\t\\t\\t\\t\\t\\t\\t\\t\\t<a href=\"javascript:melon.link.goMyMusic(\\'52367176\\');\" class=\"image_typeAll\">\\n\\t\\t\\t\\t\\t\\t\\t\\t\\t\\t<img onerror=\"javascript:defaultPickArtistImg(this, \\'60\\');\" width=\"60\" height=\"60\" src=\"https://cdnimg.melon.co.kr/resource/image/web/default/noArtist_300_160727.jpg/melon/resize/60\" alt=\"\">\\n\\t\\t\\t\\t\\t\\t\\t\\t\\t\\t<span class=\"bg_album_frame\"></span>\\n\\t\\t\\t\\t\\t\\t\\t\\t\\t</a>\\n\\t\\t\\t\\t\\t\\t\\t\\t</div>\\n\\t\\t\\t\\t\\t\\t\\t\\t<div class=\"entry\">\\n\\t\\t\\t\\t\\t\\t\\t\\t\\t<div class=\"artist_name\">\\n\\t\\t\\t\\t\\t\\t\\t\\t\\t\\t\\n\\t\\t\\t\\t\\t\\t\\t\\t\\t\\t<a href=\"javascript:melon.link.goMyMusic(\\'52367176\\');\" class=\"user_id ellipsis\" title=\"아티스트상세 이동\">\\n\\t\\t\\t\\t\\t\\t\\t\\t\\t\\t\\t신림1a\\n\\t\\t\\t\\t\\t\\t\\t\\t\\t\\t</a>\\n\\t\\t\\t\\t\\t\\t\\t\\t\\t\\t\\n\\t\\t\\t\\t\\t\\t\\t\\t\\t</div>\\n\\t\\t\\t\\t\\t\\t\\t\\t\\t<div class=\"meta\">\\n\\t\\t\\t\\t\\t\\t\\t\\t\\t\\t<span class=\"type\">댄스</span>\\n\\t\\t\\t\\t\\t\\t\\t\\t\\t\\t<span class=\"have_list\">\\n\\t\\t\\t\\t\\t\\t\\t\\t\\t\\t\\t<span class=\"bullet_icons play_song\"></span>\\n\\t\\t\\t\\t\\t\\t\\t\\t\\t\\t\\t\\n\\t\\t\\t\\t\\t\\t\\t\\t\\t\\t\\t\\t\\n\\t\\t\\t\\t\\t\\t\\t\\t\\t\\t\\t\\t\\n\\t\\t\\t\\t\\t\\t\\t\\t\\t\\t\\t\\t\\t<span class=\"text\">0</span>\\n\\t\\t\\t\\t\\t\\t\\t\\t\\t\\t\\t\\t\\n\\t\\t\\t\\t\\t\\t\\t\\t\\t\\t\\t\\n\\t\\t\\t\\t\\t\\t\\t\\t\\t\\t</span>\\n\\t\\t\\t\\t\\t\\t\\t\\t\\t</div>\\n\\t\\t\\t\\t\\t\\t\\t\\t</div>\\n\\t\\t\\t\\t\\t\\t\\t</li>\\n\\t\\t\\t\\t\\t\\t\\t<li>\\n\\t\\t\\t\\t\\t\\t\\t\\n\\t\\t\\t\\t\\t\\t\\t</li><li>\\n\\t\\t\\t\\t\\t\\t\\t\\t<div class=\"thumb\">\\n\\t\\t\\t\\t\\t\\t\\t\\t\\t<a href=\"javascript:melon.link.goMyMusic(\\'61804657\\');\" class=\"image_typeAll\">\\n\\t\\t\\t\\t\\t\\t\\t\\t\\t\\t<img onerror=\"javascript:defaultPickArtistImg(this, \\'60\\');\" width=\"60\" height=\"60\" src=\"https://cdnimg.melon.co.kr/resource/image/web/default/noArtist_300_160727.jpg/melon/resize/60\" alt=\"\">\\n\\t\\t\\t\\t\\t\\t\\t\\t\\t\\t<span class=\"bg_album_frame\"></span>\\n\\t\\t\\t\\t\\t\\t\\t\\t\\t</a>\\n\\t\\t\\t\\t\\t\\t\\t\\t</div>\\n\\t\\t\\t\\t\\t\\t\\t\\t<div class=\"entry\">\\n\\t\\t\\t\\t\\t\\t\\t\\t\\t<div class=\"artist_name\">\\n\\t\\t\\t\\t\\t\\t\\t\\t\\t\\t\\n\\t\\t\\t\\t\\t\\t\\t\\t\\t\\t<a href=\"javascript:melon.link.goMyMusic(\\'61804657\\');\" class=\"user_id ellipsis\" title=\"아티스트상세 이동\">\\n\\t\\t\\t\\t\\t\\t\\t\\t\\t\\t\\tlofearss\\n\\t\\t\\t\\t\\t\\t\\t\\t\\t\\t</a>\\n\\t\\t\\t\\t\\t\\t\\t\\t\\t\\t\\n\\t\\t\\t\\t\\t\\t\\t\\t\\t</div>\\n\\t\\t\\t\\t\\t\\t\\t\\t\\t<div class=\"meta\">\\n\\t\\t\\t\\t\\t\\t\\t\\t\\t\\t<span class=\"type\">J-POP</span>\\n\\t\\t\\t\\t\\t\\t\\t\\t\\t\\t<span class=\"have_list\">\\n\\t\\t\\t\\t\\t\\t\\t\\t\\t\\t\\t<span class=\"bullet_icons play_song\"></span>\\n\\t\\t\\t\\t\\t\\t\\t\\t\\t\\t\\t\\n\\t\\t\\t\\t\\t\\t\\t\\t\\t\\t\\t\\t\\n\\t\\t\\t\\t\\t\\t\\t\\t\\t\\t\\t\\t\\n\\t\\t\\t\\t\\t\\t\\t\\t\\t\\t\\t\\t\\t<span class=\"text\">5</span>\\n\\t\\t\\t\\t\\t\\t\\t\\t\\t\\t\\t\\t\\n\\t\\t\\t\\t\\t\\t\\t\\t\\t\\t\\t\\n\\t\\t\\t\\t\\t\\t\\t\\t\\t\\t</span>\\n\\t\\t\\t\\t\\t\\t\\t\\t\\t</div>\\n\\t\\t\\t\\t\\t\\t\\t\\t</div>\\n\\t\\t\\t\\t\\t\\t\\t</li>\\n\\t\\t\\t\\t\\t\\t\\t<li>\\n\\t\\t\\t\\t\\t\\t\\t\\n\\t\\t\\t\\t\\t\\t</li></ul></div>\\n\\t\\t\\t<div class=\"page\">\\n\\t\\t\\t\\t\\t\\t\\t\\t<span class=\"page_num\" style=\"display:none\">\\n\\t\\t\\t\\t\\t\\t\\t\\t\\t<span class=\"none\">현제 페이지</span><strong class=\"d_now_page\">1</strong>\\n\\t\\t\\t\\t\\t\\t\\t\\t\\t/\\n\\t\\t\\t\\t\\t\\t\\t\\t<span class=\"none\">전체 페이지</span><span class=\"d_total_page\">12</span>\\n\\t\\t\\t\\t\\t\\t\\t\\t</span>\\n\\t\\t\\t\\t<span class=\"wrap_btn\">\\n\\t\\t\\t\\t\\t\\t\\t\\t<a href=\"#\" title=\"이전\" class=\"btn page_prev disabled withLikeBtnTmp\" id=\"withLikeBtnTmp1\" data-orderby-type=\"MELONDJ_YN\" data-limit-count=\"12\" data-view-type=\"withLikeUserSong\" data-view-contsid=\"36963705\"><span class=\"odd_span\">이전</span></a>\\n\\t\\t\\t\\t\\t\\t\\t\\t<a href=\"#\" title=\"다음\" class=\"btn page_next withLikeBtnTmp\" id=\"withLikeBtnTmp2\" data-orderby-type=\"MELONDJ_YN\" data-limit-count=\"12\" data-view-type=\"withLikeUserSong\" data-view-contsid=\"36963705\"><span class=\"odd_span\">다음</span></a>\\n\\t\\t\\t\\t\\t\\t\\t</span>\\n\\t\\t\\t</div>\\n\\t\\t</div>\\n\\t\\t<!-- //좋아요 한 사람 -->\\n\\n\\t</div>\\n\\t<!-- //contents -->\\n</div>\\n</div>\\n\\n<!-- C. 전체 공통 스크립트 -->\\n\\n\\t<script type=\"text/javascript\">\\n\\t\\tvar httpWww = \"http://www.melon.com\";\\n\\t\\tvar httpsWww = \"https://www.melon.com\";\\n\\t\\tvar POC_ID = \"LP10\";\\n\\t\\tvar deployPhase = \"\";\\n\\t</script>\\n\\n\\t\\n\\t<script type=\"text/javascript\" src=\"/resource/script/web/common/melonweb_openlib.js\"></script>\\n\\n\\t<script type=\"text/javascript\" src=\"https://static.melon.co.kr/static/web/resource/script/w1/ys/4/xiezkqccd.js\"></script>\\n\\t<script type=\"text/javascript\" src=\"https://static.melon.co.kr/static/web/resource/script/w1/hy/8/iy9juiy6jeu0084r0.js\"></script>\\n\\t<script type=\"text/javascript\" src=\"/resource/script/web/common/MPAPI.js?tm=20171129\"></script> \\n\\t<script type=\"text/javascript\" src=\"https://static.melon.co.kr/static/web/resource/script/w1/o4/1/t62bffu2qqxblp7.js\"></script>\\n\\t\\n\\n<script type=\"text/javascript\" src=\"https://static.melon.co.kr/static/web/resource/script/w1/4u/8/jegl1o85g7s.js\"></script>\\n\\n\\t<script type=\"text/javascript\" src=\"/resource/script/web/chart/json2.js\"></script>\\n\\t<script type=\"text/javascript\" src=\"/resource/script/web/common/melonweb_zam.js?tm=2016042816\"></script>\\n\\t<script type=\"text/javascript\" src=\"https://static.melon.co.kr/static/web/resource/script/w1/8k/8/1ed5h822hvv.js\"></script>\\n\\t<script type=\"text/javascript\" src=\"https://static.melon.co.kr/statistics/js/mlog.28ba021f940fcdaa81ff.js\"></script>\\n\\t<script type=\"text/javascript\" src=\"//t1.daumcdn.net/tiara/js/v1/tiara.min.js\"></script>\\n\\t<script type=\"text/javascript\" src=\"/resource/script/web/event/bluebird.min.js\"></script>\\n\\t<script type=\"text/javascript\" src=\"/resource/script/web/common/melonweb_newtiara.js?tm=1623820031532\"></script>\\n\\t<script type=\"text/javascript\" src=\"/resource/script/web/clean/melonweb_clean.js?tm=20210914\"></script>\\n\\n\\n\\t<script type=\"text/javascript\">\\n\\t\\tvar melon = MELON.WEBSVC.POC;\\n\\t\\tvar menuId = \\'29010101\\';\\n\\t\\tif(menuId != null && menuId != \\'\\'){\\n\\t\\t\\ttiara.sendLog(menuId);\\n\\t\\t}\\n\\n\\t\\tdocument.domain=\"melon.com\";\\n\\n\\t\\t//pocId 쿠키설정 실행\\n\\t\\ttry {\\n\\t\\t\\tmelon.setPocId();\\n\\t\\t} catch (e){}\\n\\t</script>\\n\\t\\n\\t<script type=\"text/javascript\" src=\"/resource/script/web/common/socket.io.js\"></script>\\n\\n<script type=\"text/javascript\" src=\"/resource/script/web/dj/melonweb_dj_custom.js?tm=20220817\"></script>\\n<!-- D. 해당 메뉴 관련 공통 스크립트 -->\\n<script type=\"text/javascript\" src=\"https://static.melon.co.kr/static/web/resource/script/w1/l7/6/un971rm8f9.js\"></script>\\n\\n<!-- D. 화면 내부 전용 스크립트 -->\\n<script type=\"text/javascript\">\\n\\t$(function() {\\n\\t\\t\"use strict\";\\n\\n\\t\\tvar songId = \\'36963705\\';\\n\\t\\tvar snsGate = \\'\\';\\n\\n\\t\\tif(snsGate == \\'Y\\'){\\n\\t\\t\\t//공유를 통해서 진입시\\n\\t\\t\\tif(MELON.WEBSVC.POC.getPocId() == \\'IT10\\' || MELON.WEBSVC.POC.isIPad()){\\n\\t\\t\\t\\t//아이패드인 경우는 아이패드 앱의 곡상세로 랜딩\\n\\t\\t\\t\\tMELON.WEBSVC.POC.link.ipadAppLaunch(\\'melonipad://details/song?cid=\\'+songId);\\n\\t\\t\\t}\\n\\t\\t}\\n\\n\\t\\tvar $doc = $(document),\\n\\t\\t\\t\\tWEBSVC = MELON.WEBSVC,\\n\\t\\t\\t\\tPBPGN = MELON.PBPGN,\\n\\t\\t\\t\\taddComma = WEBSVC.number.addComma;\\n\\t\\t//DJ 좋아요..\\n\\t\\tWEBSVC.DJCollection.init();\\n\\n\\t\\tvar lyricItemYN = \\'Y\\';\\n\\t\\tvar adultFlg = \\'0\\';\\n\\n\\t\\tif(lyricItemYN == \\'N\\'){\\n\\t\\t\\t$(\"#lyricPrintReportBtn\").hide();\\n\\t\\t}\\n\\n\\t\\t// 가사가 존재 && 19금 곡일 경우, 회원 API 호출\\n\\t\\tif(lyricItemYN == \\'Y\\' && adultFlg  == \\'1\\'){\\n            $(\"#lyricPrintReportBtn\").hide();\\n            // 로그인\\n\\t\\t\\tif(MELON.WEBSVC.POC.login.isMelonLogin()) {\\n\\t\\t\\t\\t//2022.08.17 회원 쿠키 사용 제거\\n\\t\\t\\t\\tvar memberInfo = svcMember.checkAgeAuthByKey(getMemberKey(), MELON.WEBSVC.POC.getPocId());\\n\\t\\t\\t\\t// 성인인증 완료한 경우만 가사정보 호출\\n\\t\\t\\t\\tif(memberInfo.AUTHYN == \\'Y\\' && memberInfo.ADULTAUTHFLG == \\'1\\'){\\n\\t\\t\\t\\t\\t$.ajax({\\n\\t\\t\\t\\t\\t\\ttype:\"get\",\\n\\t\\t\\t\\t\\t\\turl: \\'/song/lyricInfo.json\\',\\n\\t\\t\\t\\t\\t\\tdataType:\"json\",\\n\\t\\t\\t\\t\\t\\tasync:true,\\n\\t\\t\\t\\t\\t\\tdata : {\\n\\t\\t\\t\\t\\t\\t\\tsongId: \\'36963705\\'\\n\\t\\t\\t\\t\\t\\t},\\n\\t\\t\\t\\t\\t\\tsuccess:function(obj){\\n\\t\\t\\t\\t\\t\\t\\t$(\".lyric\").html(obj.lyric);\\n\\t\\t\\t\\t\\t\\t\\t$(\"#lyricPrintReportBtn\").show();\\n\\t\\t\\t\\t\\t\\t},\\n\\t\\t\\t\\t\\t\\terror: function(request,error) {\\n\\t\\t\\t\\t\\t\\t}\\n\\t\\t\\t\\t\\t});\\n\\t\\t\\t\\t}\\n\\n\\t\\t\\t\\t// adultAuthFlg : 19금컨텐츠 이용을 위한 성인인증 플래그\\n\\t\\t\\t\\t// 0: 19금 컨텐츠 이용 불가 ( 본인인증+19세미만 케이스 [인증1년 경과 무관] )\\n\\t\\t\\t\\t// 1: 이용가능 ( 본인인증+인증 1년미만+19세이상 )\\n\\t\\t\\t\\t// 2: 본인인증 필요 ( 미본인인증 케이스 )\\n\\t\\t\\t\\t// 3: 재인증 필요 ( 본인인증+인증 1년 경과+19세이상)\\n\\n\\t\\t\\t\\t// 기존 memberAuthFlg 기준  >> 1 : 성인 - 본인인증 O, 성인인증 O\\n\\t\\t\\t\\tif(memberInfo.AUTHYN == \\'Y\\' && memberInfo.ADULTAUTHFLG == \\'1\\'){\\n\\t\\t\\t\\t\\tvar lyricHtml  = \\'<div class=\"lyric\" id=\"d_video_summary\"></div>\\';\\n\\t\\t\\t\\t\\tlyricHtml += \\'<button type=\"button\" title=\"Breaking the rules 가사 더보기\" class=\"button_more arrow_d\" data-control=\"expose\" data-expose-type=\"more\" data-expose-target=\"#d_video_summary\">\\';\\n\\t\\t\\t\\t\\tlyricHtml += \\'\\t<span class=\"text\">펼치기</span>\\';\\n\\t\\t\\t\\t\\tlyricHtml += \\'\\t<i class=\"button_icons etc arrow_d\"></i>\\';\\n\\t\\t\\t\\t\\tlyricHtml += \\'</button>\\';\\n\\t\\t\\t\\t}\\n\\t\\t\\t\\t// 기존 memberAuthFlg 기준  >> 3 : 미성년 - 본인인증 O, 성인인증 X , 4 : 미성년 - 본인인증 X, 성인인증 X\\n\\t\\t\\t\\telse if(memberInfo.ADULTAUTHFLG == \\'0\\' || memberInfo.ADULTAUTHFLG == \\'2\\'){\\n\\t\\t\\t\\t\\tvar lyricHtml  = \\'<div class=\"lyric_none\">\\';\\n\\t\\t\\t\\t\\tlyricHtml += \\'\\t<span class=\"icon_point_green\"></span>청소년 보호법에 따라 19세 미만의 청소년이 이용할 수 없는 콘텐츠 입니다.\\';\\n\\t\\t\\t\\t\\tlyricHtml += \\'</div>\\';\\n\\t\\t\\t\\t}\\n\\t\\t\\t\\t// 기존 memberAuthFlg 기준  >> (0 : 성인 - 본인인증 X, 성인인증 X), (2 : 성인 - 본인인증 O, 성인인증 X), (-1 : 오류)\\n\\t\\t\\t\\telse{\\n\\t\\t\\t\\t\\tvar lyricHtml = \\'<div class=\"lyric_none\">\\';\\n\\t\\t\\t\\t\\tlyricHtml += \\'\\t<span class=\"icon_point_green\"></span>청소년 보호법에 따라 성인 인증이 필요한 콘텐츠 입니다. 성인 인증 후 이용해 주세요.\\';\\n\\t\\t\\t\\t\\tlyricHtml += \\'\\t<button type=\"button\" title=\"성인 인증\" class=\"btn_base02 adult_register\"><span class=\"odd_span\"><span class=\"even_span\">성인 인증</span></span></button>\\';\\n\\t\\t\\t\\t\\tlyricHtml += \\'</div>\\';\\n\\t\\t\\t\\t}\\n\\t\\t\\t// 비로그인\\n\\t\\t\\t}else{\\n\\t\\t\\t\\tvar lyricHtml = \\'<div class=\"lyric_none\">\\';\\n\\t\\t\\t\\tlyricHtml += \\'\\t<span class=\"icon_point_green\"></span>청소년 보호법에 따라 성인 인증이 필요한 콘텐츠 입니다. 성인 인증 후 이용해 주세요.\\';\\n\\t\\t\\t\\tlyricHtml += \\'\\t<button type=\"button\" title=\"성인 인증\" class=\"btn_base02 adult_register\"><span class=\"odd_span\"><span class=\"even_span\">성인 인증</span></span></button>\\';\\n\\t\\t\\t\\tlyricHtml += \\'</div>\\';\\n\\t\\t\\t}\\n\\n\\t\\t\\t// 가사 셋팅\\n\\t\\t\\tif(lyricHtml != null) {\\n\\t\\t\\t\\t$(\\'#lyricArea\\').html(lyricHtml);\\n\\t\\t\\t}\\n\\t\\t}\\n\\n\\t\\ttry  {\\n\\n\\t\\t\\t/* 좋아요 셋팅부 */\\n\\t\\t\\tvar LIKE_SET = {\\n\\t\\t\\t\\tlikeCnt  : \"<span class=\\\\\"odd_span\\\\\">{TXT}</span>\\\\n<span id=\\\\\"d_like_count\\\\\" class=\\\\\"cnt\\\\\">\\\\n<span class=\\\\\"none\\\\\">총건수</span>\\\\n{CNT}</span>\",\\n\\t\\t\\t\\tlikeObj  : $(\\'#btnLike\\'),\\n\\t\\t\\t\\tlikeAttr : \\'data-song-no\\',\\n\\t\\t\\t\\tlikeUrl  : \\'/commonlike/getSongLike.json\\'\\n\\t\\t\\t};\\n\\n\\t\\t\\t/* 좋아요 공통부 */\\n\\t\\t\\tvar contsIdList = LIKE_SET[\\'likeObj\\'].map(function() { return $(this).attr(LIKE_SET[\\'likeAttr\\']); }).get().join(\\',\\');\\n\\t\\t\\tvar tmpl, title;\\n\\t\\t\\tif ( contsIdList === \\'\\' || contsIdList === null  ) { return; }\\n\\t\\t\\t$.get(LIKE_SET[\\'likeUrl\\'], { contsIds : contsIdList }, function(data) {\\n\\t\\t\\t\\tvar robj;\\n\\t\\t\\t\\t$.each(data.contsLike, function(i, v) {\\n\\t\\t\\t\\t\\tvar SUMMCNT = MELON.WEBSVC.number.addComma(v.SUMMCNT);\\n\\t\\t\\t\\t\\trobj  = $(\\'#btnLike\\');\\n\\t\\t\\t\\t\\ttmpl  = LIKE_SET[\\'likeCnt\\'];\\n\\t\\t\\t\\t\\ttitle = robj.attr(\\'title\\').split(\\' 좋아요\\');\\n\\t\\t\\t\\t\\t/*\\n                    robj[v.LIKEYN == \\'Y\\' ? \\'addClass\\' : \\'removeClass\\'](\\'on\\').attr(\\'title\\', title[0] + (v.LIKEYN == \\'Y\\' ? \\' 좋아요 취소\\' : \\' 좋아요\\'));\\n                    robj.html(\\n                        tmpl.replace(/\\\\{TXT\\\\}/g, (v.LIKEYN == \\'Y\\' ? \\'좋아요 취소\\' : \\'좋아요\\')).replace(/\\\\{CNT\\\\}/g, SUMMCNT)\\n                    );\\n                    */\\n\\t\\t\\t\\t\\tif(v.LIKEYN == \\'Y\\') {\\n\\t\\t\\t\\t\\t\\t$(\\'.section_info\\').find(\\'.entry .button_etc.like\\').addClass(\\'on\\').attr(\\'title\\', title[0] + \\' 좋아요 취소\\');\\n\\t\\t\\t\\t\\t\\t$(\\'.section_info\\').find(\\'.entry .button_etc.like > .odd_span\\').text(\\'좋아요 취소\\');\\n\\t\\t\\t\\t\\t}\\n\\t\\t\\t\\t\\telse {\\n\\t\\t\\t\\t\\t\\t$(\\'.section_info\\').find(\\'.entry .button_etc.like\\').removeClass(\\'on\\').attr(\\'title\\', title[0] + \\' 좋아요\\');\\n\\t\\t\\t\\t\\t\\t$(\\'.section_info\\').find(\\'.entry .button_etc.like > .odd_span\\').text(\\'좋아요\\');\\n\\t\\t\\t\\t\\t}\\n\\t\\t\\t\\t\\t$(\\'.section_info\\').find(\\'.entry .button_etc.like > .cnt\\').text(SUMMCNT);\\n\\t\\t\\t\\t});\\n\\t\\t\\t}).done(function(){\\n\\t\\t\\t});\\n\\n\\t\\t} catch (e) {\\n\\t\\t\\tconsole.log(e);\\n\\t\\t}\\n\\n\\t\\t$.ajax({\\n\\t\\t\\ttype:\"get\",\\n\\t\\t\\turl: \\'/song/songReviewCnt.json\\',\\n\\t\\t\\tdataType:\"json\",\\n\\t\\t\\tasync:true,\\n\\t\\t\\tdata : {\\n\\t\\t\\t\\tsongId: \\'36963705\\'\\n\\t\\t\\t},\\n\\t\\t\\tsuccess:function(obj){\\n\\t\\t\\t\\tvar revCnt = MELON.WEBSVC.number.addComma(obj.reviewValidCmtCnt);\\n\\t\\t\\t\\tif(revCnt > 999999) revCnt=\\'999,999+\\';\\n\\t\\t\\t\\t$(\"#revCnt\").text(revCnt+\"개\");\\n\\t\\t\\t},\\n\\t\\t\\terror: function(request,error) {\\n\\t\\t\\t}\\n\\t\\t});\\n\\n\\t\\t\\n\\t\\ttry  {\\n\\n\\t\\t\\t// DJ플레이리스트의 좋아요 처리\\n\\n\\t\\t\\t/* 좋아요 셋팅부 */\\n\\t\\t\\tvar LIKE_SET = {\\n\\t\\t\\t\\tlikeCnt  : \\'<span class=\"odd_span\">{TXT}</span> <span class=\"cnt\"> <span class=\"none\">총건수</span> {CNT} </span>\\',\\n\\t\\t\\t\\tlikeObj  : $(\\'.btn_djplylst_like\\'),\\n\\t\\t\\t\\tlikeAttr : \\'data-djcol-no\\',\\n\\t\\t\\t\\tlikeUrl  : \\'/dj/common/djcommon_listLikeCnt.json\\'\\n\\t\\t\\t};\\n\\n\\t\\t\\t/* 좋아요 공통부 */\\n\\t\\t\\tvar contsIdList = LIKE_SET[\\'likeObj\\'].map(function() { return $(this).attr(LIKE_SET[\\'likeAttr\\']); }).get().join(\\',\\');\\n\\n\\t\\t\\tvar tmpl, title;\\n\\t\\t\\t$.get(LIKE_SET[\\'likeUrl\\'], { contsIds : contsIdList }, function(data) {\\n\\t\\t\\t\\tvar robj;\\n\\t\\t\\t\\t$.each(data.contsLike, function(i, v) {\\n\\t\\t\\t\\t\\tvar SUMMCNT = MELON.WEBSVC.number.addComma(v.SUMMCNT);\\n\\t\\t\\t\\t\\trobj  = LIKE_SET[\\'likeObj\\'].eq(i);\\n\\t\\t\\t\\t\\ttmpl  = LIKE_SET[\\'likeCnt\\'];\\n\\t\\t\\t\\t\\ttitle = robj.attr(\\'title\\').split(\\' 좋아요\\');\\n\\t\\t\\t\\t\\trobj[v.LIKEYN == \\'Y\\' ? \\'addClass\\' : \\'removeClass\\'](\\'on\\').attr(\\'title\\', title[0] + (v.LIKEYN == \\'Y\\' ? \\' 좋아요 취소\\' : \\' 좋아요\\'));\\n\\n\\t\\t\\t\\t\\trobj.html(\\n\\t\\t\\t\\t\\t\\t\\ttmpl.replace(/\\\\{TXT\\\\}/g, (v.LIKEYN == \\'Y\\' ? \\'좋아요 취소\\' : \\'좋아요\\')).replace(/\\\\{CNT\\\\}/g, SUMMCNT)\\n\\t\\t\\t\\t\\t);\\n\\t\\t\\t\\t});\\n\\t\\t\\t}).done(function(){\\n\\t\\t\\t});\\n\\n\\t\\t} catch (e) {\\n\\t\\t\\tconsole.log(e);\\n\\t\\t}\\n\\t\\t\\n\\n\\t\\t// 뮤직 비디오 탭\\n\\t\\t$(\\'.section_mv\\').toggleSlider({\\n\\t\\t\\ttype:\\'count-on\\',\\n\\t\\t\\tselectors: {\\n\\t\\t\\t\\ttabs: \\'>div.wrap_page>div.page>span.wrap_btn>a\\',\\n\\t\\t\\t\\tcontents: \\'>div.wrap_list_mv>ul\\',\\n\\t\\t\\t\\tnowpages: \\'>div.wrap_page>div.page>span.page_num>strong\\',\\n\\t\\t\\t\\ttotalpages: \\'>div.wrap_page>div.page>span.page_num>span\\'\\n\\t\\t\\t}\\n\\t\\t});\\n\\n\\t\\t$(\\'.section_info\\').each(function() {\\n\\t\\t\\tif ($(this).find(\\'.song_name\\').height() > 30) {\\n\\t\\t\\t\\t$(this).find(\\'.song_name\\').addClass(\\'multi\\');\\n\\t\\t\\t}\\n\\t\\t});\\n\\n\\t\\t//melon.show.moreButton(\\'d_video_summary\\', 240);\\n\\n\\t\\t// 좋아요한 사람\\n\\t\\t$(\\'.section_intst\\').ajaxToggle({\\n\\t\\t\\ttype:\\'count-on\\',\\n\\t\\t\\tselectors: {\\n\\t\\t\\t\\t// 버튼 영역 [d_btn]은 공통이기 때문에 특정 클래스를 준다.\\n\\t\\t\\t\\ttabs: \\'a.withLikeBtnTmp\\',\\n\\t\\t\\t\\tnowpages: \\'strong.d_now_page\\',\\n\\t\\t\\t\\t// 토탈 페이지 DP 영역\\n\\t\\t\\t\\ttotalpages: \\'span.d_total_page\\',\\n\\t\\t\\t\\t// AJAX 호출후 InnerHtml 해줘야할 영역\\n\\t\\t\\t\\tcontents: \\'div.wrap_list_intst\\',\\n\\t\\t\\t\\t//orderlayer : \\'a.orderClass\\' // 정렬 Layer\\n\\t\\t\\t}\\n\\t\\t});\\n\\n\\t\\t// 좋아요한 사람 정렬 클릭\\n\\t\\t$(\\'a.orderClass\\').on(\\'click\\', function(e){\\n\\t\\t\\t$(\\'.list_sort\\').find(\">li\").each(function() {\\n\\t\\t\\t\\t$(this).removeClass(\"on\");\\n\\t\\t\\t})\\n\\t\\t\\t$(this).parent().addClass(\"on\");\\n\\t\\t\\tvar inputId = this.id;\\n\\t\\t\\t$(\"a.withLikeBtnTmp\").each(function() {\\n\\t\\t\\t\\t$(this).attr(\"data-orderby-type\",inputId);\\n\\t\\t\\t});\\n\\t\\t});\\n\\n\\t\\t// 프린트\\n\\t\\t$(\\'.d_print\\').on(\\'click\\', function(){\\n\\t\\t\\tWEBSVC.openPopup(\\'/song/popup/lyricPrint.htm?songId=36963705\\', 560, 616, \\'no\\');\\n\\t\\t});\\n\\n\\t\\t// 가사오류신고\\n\\t\\t$(\\'.d_report\\').on(\\'click\\', function(){\\n\\t\\t\\tif(!MELON.WEBSVC.POC.login.isMelonLogin()) {\\n\\t\\t\\t\\tMELON.WEBSVC.POC.login.loginPopupLayerd();\\n\\t\\t\\t\\t//alert(\"로그인 후 사용 가능합니다.\")\\n\\t\\t\\t\\treturn;\\n\\t\\t\\t}\\n\\n\\t\\t\\tWEBSVC.openPopup(\\'/song/popup/lyricInsertError.htm?songId=36963705\\', 560, 590);\\n\\t\\t});\\n\\n\\t\\t// 가사등록하기\\n\\t\\t$(\\'.d_register\\').on(\\'click\\', function(){\\n\\t\\t\\tif(!MELON.WEBSVC.POC.login.isMelonLogin()) {\\n\\t\\t\\t\\tMELON.WEBSVC.POC.login.loginPopupLayerd();\\n\\t\\t\\t\\t//alert(\"로그인 후 사용 가능합니다.\")\\n\\t\\t\\t\\treturn;\\n\\t\\t\\t}\\n\\t\\t\\tWEBSVC.openPopup(\\'/song/popup/lyricRegist.htm?songId=36963705\\', 560, 590);\\n\\t\\t});\\n\\n\\t\\t// 성인인증\\n\\t\\t$(\\'.adult_register\\').on(\\'click\\', function(){\\n\\t\\t\\tif(!MELON.WEBSVC.POC.login.isMelonLogin()) {\\n\\t\\t\\t\\tMELON.WEBSVC.POC.login.loginPopupLayerd();\\n\\t\\t\\t\\t//alert(\"로그인 후 사용 가능합니다.\")\\n\\t\\t\\t\\treturn;\\n\\t\\t\\t}\\n\\t\\t\\tniceAuthPop(\\'nineteen\\',\\'Y\\',\\'\\',\\'\\',true,\\'00\\');\\n\\t\\t});\\n\\n\\t\\t/************ SNS *****************/\\n\\t\\t$(\"#songFacebook\").click(function(){\\n\\t\\t\\t$.songName = \"Breaking the rules\";\\n\\t\\t\\t$.albumName = \"Breaking the rules\";\\n\\t\\t\\t$.artistName = \"페리블루 (Ferry Blue)\";\\n\\t\\t\\t$.imgUrl = $(\"#d_song_org img\").attr(\"src\");\\n\\t\\t\\t$.menuId = $(this).attr(\"data-menuId\");\\n\\t\\t\\tmelon.sns.facebook({\\n\\t\\t\\t\\ttype \\t\\t: \"son\",\\n\\t\\t\\t\\tcontsId \\t: \"36963705\",\\n\\t\\t\\t\\tsongName \\t: $.songName,\\n\\t\\t\\t\\talbumName\\t: $.albumName,\\n\\t\\t\\t\\tartistName  : $.artistName,\\n\\t\\t\\t\\timgUrl      : $.imgUrl,\\n\\t\\t\\t\\tmenuId\\t\\t: $.menuId\\n\\t\\t\\t});\\n\\t\\t});\\n\\t\\t//트위터\\n\\t\\t$(\"#songTwitter\").click(function(){\\n\\t\\t\\t$.songName = \"Breaking the rules\";\\n\\t\\t\\t$.albumName = \"Breaking the rules\";\\n\\t\\t\\t$.artistName = \"페리블루 (Ferry Blue)\";\\n\\t\\t\\t$.menuId = $(this).attr(\"data-menuId\");\\n\\t\\t\\tmelon.sns.twitter({\\n\\t\\t\\t\\ttype \\t\\t: \"son\",\\n\\t\\t\\t\\tcontsId \\t: \"36963705\",\\n\\t\\t\\t\\tsongName \\t: $.songName,\\n\\t\\t\\t\\talbumName\\t: $.albumName,\\n\\t\\t\\t\\tartistName  : $.artistName,\\n\\t\\t\\t\\tmenuId\\t\\t: $.menuId\\n\\t\\t\\t});\\n\\t\\t});\\n\\n\\t\\t$(\\'#btnLike\\').on(\\'click\\', function(){\\n\\t\\t\\tvar $btn = $(this),\\n\\t\\t\\t\\t\\tsongNo = $btn.attr(\\'data-song-no\\'),\\n\\t\\t\\t\\t\\tmenuId = $btn.attr(\\'data-song-menuId\\'),\\n\\t\\t\\t\\t\\ttitle = $btn.attr(\\'title\\').split(\\' 좋아요\\'),\\n\\t\\t\\t\\t\\tisLike = $btn.hasClass(\\'on\\'), doLike = !isLike,\\n\\t\\t\\t\\t\\taddComma = WEBSVC.number.addComma,\\n\\t\\t\\t\\t\\t$target = (function(){\\n\\t\\t\\t\\t\\t\\tvar targetId = $btn.attr(\\'data-target-id\\');\\n\\t\\t\\t\\t\\t\\tif(!targetId) { return $btn; }\\n\\t\\t\\t\\t\\t\\ttargetId = targetId.substr(0, 1) === \\'#\\' ? targetId : \\'#\\' + targetId;\\n\\t\\t\\t\\t\\t\\treturn $(targetId);\\n\\t\\t\\t\\t\\t})(),\\n\\t\\t\\t\\t\\tdefer, event;\\n\\n\\t\\t\\t$btn.trigger((event = $.Event(\\'likebefore\\')), [songNo, doLike]);\\n\\t\\t\\tif(event.isDefaultPrevented()){ return; }\\n\\n\\t\\t\\tif(isLike) {\\n\\t\\t\\t\\tdefer = WEBSVC.SongList.dislike(songNo,menuId)\\n\\t\\t\\t} else {\\n\\t\\t\\t\\tdefer = WEBSVC.SongList.like(songNo,menuId);\\n\\t\\t\\t}\\n\\t\\t\\tdefer.done(function(json) {\\n\\t\\t\\t\\tvar tmpl = \\'\\';\\n\\t\\t\\t\\tif(json.result === true) {\\n\\t\\t\\t\\t\\t$btn.trigger((event = $.Event(\\'likechanged\\')), [songNo, title[0], doLike, json.data.SUMMCNT.toString().replace(/(\\\\d)(?=(?:\\\\d{3})+$)/g, \"$1,\")]);\\n\\t\\t\\t\\t\\tif(event.isDefaultPrevented()){ return; }\\n\\n\\t\\t\\t\\t\\t$btn[doLike ? \\'addClass\\' : \\'removeClass\\'](\\'on\\').attr(\\'title\\', title[0] + (doLike ? \\' 좋아요 취소\\' : \\' 좋아요\\'));\\n\\n\\t\\t\\t\\t\\t$target.html(json.data.SUMMCNT.toString().replace(/(\\\\d)(?=(?:\\\\d{3})+$)/g, \"$1,\"));\\n\\n\\t\\t\\t\\t\\t// 131114_수정\\n\\t\\t\\t\\t\\tdoLike && WEBSVC.alert2(\\'좋아요 반영되었습니다.\\',{opener :$btn, removeOnClose:true});//140113_수정\\n\\t\\t\\t\\t\\t//loadTopLike();\\n\\t\\t\\t\\t\\t!doLike && WEBSVC.alert2(\\'좋아요 취소되었습니다.\\',{opener :$btn, removeOnClose:true});\\n\\n\\t\\t\\t\\t\\tif(json.data.SUMMCNT > 0) {\\n\\t\\t\\t\\t\\t\\t$(\\'.section_intst\\').attr(\\'style\\', \\'display:\\');\\n\\t\\t\\t\\t\\t}\\n\\t\\t\\t\\t\\telse {\\n\\t\\t\\t\\t\\t\\t$(\\'.section_intst\\').attr(\\'style\\', \\'display:none\\');\\n\\t\\t\\t\\t\\t}\\n\\n\\t\\t\\t\\t\\tloadBottomLike();\\n\\t\\t\\t\\t\\tloadLikeUserTotCount();\\n\\t\\t\\t\\t} else {\\n\\t\\t\\t\\t\\talert(json.errorMessage);\\n\\t\\t\\t\\t\\t//토큰 유효성체크\\n\\t\\t\\t\\t\\tif(json.tockenValid != undefined && json.tockenValid == false){\\n\\t\\t\\t\\t\\t\\tvar pocId = MELON.WEBSVC.POC.getPocId();\\n\\t\\t\\t\\t\\t\\tif(\\'WP42\\' == pocId){\\n\\t\\t\\t\\t\\t\\t\\ttry {\\n\\t\\t\\t\\t\\t\\t\\t\\tMelonAPI.window(\"forceLogout\", \"\");\\n\\t\\t\\t\\t\\t\\t\\t} catch(e) {\\n\\t\\t\\t\\t\\t\\t\\t}\\n\\t\\t\\t\\t\\t\\t}else{\\n\\t\\t\\t\\t\\t\\t\\tlocation.href = json.returnUrl;\\n\\t\\t\\t\\t\\t\\t}\\n\\t\\t\\t\\t\\t}\\n\\n\\t\\t\\t\\t}\\n\\t\\t\\t}).fail(function(msg){\\n\\t\\t\\t\\talert(msg);\\n\\t\\t\\t});\\n\\t\\t});\\n\\n\\t\\tfunction loadTopLike() {\\n\\t\\t\\t$.ajax({\\n\\t\\t\\t\\turl: \\'/song/songTopLikeUser.htm\\',\\n\\t\\t\\t\\tdata: {\\n\\t\\t\\t\\t\\tcontsId : \\'36963705\\',\\n\\t\\t\\t\\t\\tviewPage : \\'1\\'\\n\\t\\t\\t\\t},\\n\\t\\t\\t\\tasync : false\\n\\t\\t\\t}).done(function(html) {\\n\\t\\t\\t\\t$(\\'#songTopLikeUserLayer\\').html(html);\\n\\t\\t\\t});\\n\\t\\t}\\n\\n\\t\\tfunction loadBottomLike() {\\n\\t\\t\\t$.ajax({\\n\\t\\t\\t\\turl: \\'/song/withLikeUserSong.htm\\',\\n\\t\\t\\t\\tdata: {\\n\\t\\t\\t\\t\\tcontsId : \\'36963705\\',\\n\\t\\t\\t\\t\\tviewPage : \\'1\\'\\n\\t\\t\\t\\t},\\n\\t\\t\\t\\tasync : false\\n\\t\\t\\t}).done(function(html) {\\n\\t\\t\\t\\t$(\\'.wrap_list_intst\\').html(html);\\n\\t\\t\\t});\\n\\t\\t}\\n\\n\\t\\tloadBottomLike();\\n\\n\\t\\tfunction loadLikeUserTotCount() {\\n\\t\\t\\t$.ajax({\\n\\t\\t\\t\\turl: \\'/song/withLikeUserSong.json\\',\\n\\t\\t\\t\\tdataType:\"json\",\\n\\t\\t\\t\\tdata: {\\n\\t\\t\\t\\t\\tcontsId : \\'36963705\\',\\n\\t\\t\\t\\t\\tviewPage : \\'1\\'\\n\\t\\t\\t\\t},\\n\\t\\t\\t\\tasync : false\\n\\t\\t\\t}).done(function(json) {\\n\\t\\t\\t\\tif(json.withLikeListTotCountPg == 0)\\n\\t\\t\\t\\t\\t$(\"#bottomListUserLayer\").hide();\\n\\t\\t\\t\\telse\\n\\t\\t\\t\\t\\t$(\"#bottomListUserLayer\").show();\\n\\t\\t\\t\\t$(\"#withLikeBtnTmp1\").attr(\"data-limit-count\",json.withLikeListTotCountPg);\\n\\t\\t\\t\\t$(\"#withLikeBtnTmp2\").attr(\"data-limit-count\",json.withLikeListTotCountPg);\\n\\t\\t\\t\\t$(\\'div.section_intst\\').ajaxToggle({\\n\\t\\t\\t\\t\\ttype:\\'count-on\\',\\n\\t\\t\\t\\t\\tselectors: {\\n\\t\\t\\t\\t\\t\\t// 버튼 영역 [d_btn]은 공통이기 때문에 특정 클래스를 준다.\\n\\t\\t\\t\\t\\t\\ttabs: \\'a.withLikeBtnTmp\\',\\n\\t\\t\\t\\t\\t\\tnowpages: \\'strong.d_now_page\\',\\n\\t\\t\\t\\t\\t\\t// 토탈 페이지 DP 영역\\n\\t\\t\\t\\t\\t\\ttotalpages: \\'span.d_total_page\\',\\n\\t\\t\\t\\t\\t\\t// AJAX 호출후 InnerHtml 해줘야할 영역\\n\\t\\t\\t\\t\\t\\tcontents: \\'div.wrap_list_intst\\',\\n\\t\\t\\t\\t\\t\\t//orderlayer : \\'a.orderClass\\' // 정렬 Layer\\n\\t\\t\\t\\t\\t}\\n\\t\\t\\t\\t});\\n\\t\\t\\t});\\n\\t\\t}\\n\\n\\t\\tloadLikeUserTotCount();\\n\\n\\t\\tfunction loadMvInfo() {\\n\\t\\t\\t$.ajax({\\n\\t\\t\\t\\turl: \\'/song/songMvInfo.htm\\',\\n\\t\\t\\t\\tdata: {\\n\\t\\t\\t\\t\\tsongId : \\'36963705\\'\\n\\t\\t\\t\\t},\\n\\t\\t\\t\\tasync : false\\n\\t\\t\\t}).done(function(html) {\\n\\t\\t\\t\\t$(\\'.service_list_video\\').html(html);\\n\\t\\t\\t});\\n\\t\\t}\\n\\n\\t\\t//loadMvInfo();\\n\\n\\t\\t// 관련비디오 탭\\n\\t\\t$(\\'.section_movie\\').toggleSlider({\\n\\t\\t\\ttype:\\'count-on\\',\\n\\t\\t\\tselectors: {\\n\\t\\t\\t\\ttabs: \\'>div.page>span.wrap_btn>a\\',\\n\\t\\t\\t\\tcontents: \\'>div.service_list_video>ul\\',\\n\\t\\t\\t\\tnowpages: \\'>div.page>span.page_num>strong\\',\\n\\t\\t\\t\\ttotalpages: \\'>div.page>span.page_num>span\\'\\n\\t\\t\\t}\\n\\t\\t});\\n\\n\\t});\\n\\n\\tfunction goReview(){\\n\\t\\tvar position = $(\"#section_cmt\").offset();\\n\\t\\t$(\"html, body\").animate({scrollTop : position.top}, 0);\\n\\t}\\n</script>\\n<script type=\"text/javascript\">document.domain=\\'melon.com\\';</script>\\n<!-- 플러그인 스크립트 -->\\n<script type=\"text/javascript\" src=\"//cmt.melon.com/cmt/plugin/release/melonweb_cmtpgn_pc_sumry_type.js\"></script>\\n\\n<script type=\"application/ld+json\">\\n\\t{\\n\\t\\t\"@context\": \"http://schema.org\",\\n\\t\\t\"@type\": \"MusicRecording\",\\n\\t\\t\"@id\" : \"http://www.melon.com/album/detail.htm?albumId=36963705&ref=google\",\\n\\t\\t\"url\": [\\n\\t\\t\\t\"http://www.melon.com/album/detail.htm?albumId=36963705&ref=google\",\\n\\t\\t\\t\"android-app://com.iloen.melon/melonapp/details/song/36963705?autoplay=Y&ref=google&pvmenuid=1000000455&contstype=N10001&contsid=36963705\"\\n\\t\\t],\\n\\t\\t\"image\": \"https://cdnimg.melon.co.kr/cm2/album/images/113/64/412/11364412_20231114104942.jpg\",\\n\\t\\t\"name\": \"Breaking the rules\",\\n\\t\\t\"sameAs\": \"http://www.melon.com/song/detail.htm?songId=36963705\",\\n\\t\\t\"description\": \"Breaking the rules\",\\n\\t\\t\"inAlbum\" :{\\n\\t\\t\\t\"@type\" : \"MusicAlbum\" ,\\n\\t\\t\\t\"@id\" : \"http://www.melon.com/album/detail.htm?albumId=11364412\",\\n\\t\\t\\t\"name\" : \"Breaking the rules\"\\n\\t\\t},\\n\\t\\t\"potentialAction\": {\\n\\t\\t\\t\"@type\": \"ListenAction\",\\n\\t\\t\\t\"target\": [\\n\\t\\t\\t\\t\"http://www.melon.com/album/detail.htm?albumId=36963705&ref=google\",\\n\\t\\t\\t\\t\"android-app://com.iloen.melon/melonapp/details/song/36963705?autoplay=Y&ref=google&pvmenuid=1000000455&contstype=N10001&contsid=36963705\"\\n\\t\\t\\t],\\n\\t\\t\\t\"expectsAcceptanceOf\": {\\n\\t\\t\\t\\t\"@type\": \"Offer\",\\n\\t\\t\\t\\t\"eligibleRegion\": {\\n\\t\\t\\t\\t\\t\"@type\": \"Country\",\\n\\t\\t\\t\\t\\t\"name\": \"KR\"\\n\\t\\t\\t\\t}\\n\\t\\t\\t}\\n\\t\\t}\\n\\t}\\n</script>\\n\\n<input type=\"hidden\" id=\"ref\" value=\"\">\\n\\n\\n\\t\\t\\t<!-- //contents -->\\n\\t\\t</div>\\n\\t</div>\\n\\t<!-- footer -->\\n\\t<div id=\"footer\" class=\"my_fold\">\\n\\t\\t<div class=\"btn_top_wrap\" style=\"position: fixed; display: none;\">\\n\\t\\t\\t<a href=\"#skip_nav\" class=\"btn_top\" title=\"맨 위로 가기\" style=\"\"><span>맨 위로 가기</span></a>\\n\\t\\t</div>\\n\\n\\t\\t\\n\\t\\t<!-- MELONUIT-738 -->\\n\\t\\t<div id=\"popNotice\" class=\"wrap_pop_notice MELONUIT-738\">\\n\\t\\t\\t\\n\\t\\t</div>\\n\\t\\t<!-- //MELONUIT-738 -->\\n\\n\\t\\t<div class=\"footer_cont\">\\n\\t\\t\\t<div class=\"footer_menu\">\\n<!-- \\t\\t\\t\\t<ul class=\"fl_left\"> -->\\n<!-- \\t\\t\\t\\t\\t<li class=\"menu01 d_melon_ticket\"><a href=\"http://ticket.melon.com/main/index.htm\"><span>MelOn Ticket</span></a></li> -->\\n\\n<!-- \\t\\t\\t\\t\\t<li class=\"menu04\"><a href=\"http://aztweb.melon.com/aztalk/guide/web/main.htm\"><span>aztalk</span></a></li> -->\\n<!-- \\t\\t\\t\\t</ul> -->\\n\\t\\t\\t\\t<ul class=\"fl_right\">\\n\\t\\t\\t\\t\\t<!-- MELONUIT-1799 -->\\n\\t\\t\\t\\t\\t<li class=\"menu05\" id=\"d_melon6\"><a href=\"//www.melon.com/m6/campaign.htm\"><span>멜론6.0 둘러보기</span></a></li>\\n\\t\\t\\t\\t\\t<!-- //MELONUIT-1799 -->\\n\\t\\t\\t\\t\\t<li class=\"menu10\" id=\"d_studio\"><a href=\"//studio.melon.com/\"><span>멜론 스튜디오</span></a></li>\\n\\t\\t\\t\\t\\t<li class=\"menu06\"><a href=\"//www.melon.com/customer/serviceintro/index.htm\"><span>Windows 플레이어</span></a></li><!-- 160824 수정 -->\\n\\t\\t\\t\\t\\t<li class=\"menu07\"><a href=\"//www.melon.com/customer/serviceintro/multi_pc_web.htm\"><span>Mac 플레이어</span></a></li>\\n\\t\\t\\t\\t\\t<li class=\"menu09\"><a href=\"//www.melon.com/customer/serviceintro/ipad.htm\"><span>iPad</span></a></li>\\n\\t\\t\\t\\t\\t<li class=\"menu08\"><a href=\"//faqs2.melon.com/customer/index.htm\"><span>고객센터</span></a></li>\\n\\t\\t\\t\\t</ul>\\n\\t\\t\\t</div>\\n\\t\\t\\t<ul class=\"footer_policy clfix\">\\n\\t\\t\\t\\n\\t\\t\\t\\t<li class=\"first_child\"><a href=\"//info.melon.com/terms/web/terms1_1.html\" title=\"이용약관 \" target=\"_blank\">이용약관</a></li>\\n\\t\\t\\t\\t<li><a href=\"//info.melon.com/terms/web/terms1_3.html\" title=\"위치기반서비스 이용약관 \" target=\"_blank\"><strong>위치기반서비스 이용약관</strong></a></li>\\n\\t\\t\\t\\t<li><a href=\"//info.melon.com/terms/web/terms3.html\" title=\"개인정보처리방침 \" target=\"_blank\"><strong>개인정보처리방침</strong></a></li>\\n\\t\\t\\t\\t<li><a href=\"//info.melon.com/terms/web/terms5_1.html\" title=\"청소년보호정책\" target=\"_blank\">청소년보호정책</a></li>\\n\\t\\t\\t\\t<li><a href=\"//faqs2.melon.com/customer/faq/informFaq.htm?no=1&amp;faqId=QUES20140616000001&amp;SEARCH_KEY=&amp;SEARCH_PAR_CATEGORY=CATE20130909000006&amp;SEARCH_CATEGORY=CATE20130909000021\" title=\"제휴/프로모션문의\">제휴/프로모션문의</a></li>\\n\\t\\t\\t\\t<li><a href=\"javascript:openEmailCollectionReject();\" title=\"이메일주소무단수집거부 \">이메일주소무단수집거부</a></li>\\n\\t\\t\\t\\t<li class=\"last_child\"><a href=\"//partner.melon.com/partrct/login/web/login_loginProcess.htm?t=s\" title=\"파트너센터\" target=\"_blank\">파트너센터</a></li>\\n\\t\\t\\t</ul>\\n\\t\\t\\t<!--160531 수정 lyr-->\\n\\n\\t\\t\\t<p>\\n\\t\\t\\t\\t<span class=\"first\"><strong>(주)카카오엔터테인먼트</strong>&nbsp;&nbsp;경기도 성남시 분당구 판교역로 221</span>\\n\\t\\t\\t\\t<span>대표이사 : 이진수, 김성수</span>\\n\\t\\t\\t\\t<span>사업자등록번호 : 220-88-02594</span>\\n\\t\\t\\t\\t<span>통신판매업신고번호 : 2018-성남분당B-0004 <a href=\"https://www.ftc.go.kr/bizCommPop.do?wrkr_no=2208802594\" title=\"사업자정보확인\" class=\"btn_arrow\" target=\"_blank\">사업자정보확인</a></span>\\n\\t\\t\\t\\t<br>\\n\\t\\t\\t\\t<span class=\"first\">문의전화 : 1566-7727 (평일 09:00-18:00, 유료)</span>\\n\\t\\t\\t\\t<span>이메일 : <a href=\"mailto:melon_info@kakaoent.com\" class=\"btn_footer_mail\">melon_info@kakaoent.com</a></span>\\n\\t\\t\\t\\t<span>호스팅서비스사업자 : (주)카카오엔터테인먼트</span>\\n\\t\\t\\t\\t<span><a href=\"//kakaoent.com\" class=\"btn_footer_mail\" target=\"_blank\">© Kakao Entertainment Corp.</a></span>\\n\\t\\t\\t</p>\\n\\t\\t\\t<!--//160531 수정 lyr-->\\n\\n\\t\\t\\t<!--모바일 웹 버전, 태블릿에서만 적용됨. display none, block 으로 적용-->\\n\\t\\t\\t<!--140602 추가 lyr-->\\n\\t\\t\\t<div class=\"mobile_btn_wrap\" style=\"display:none;\">\\n\\t\\t\\t\\t<p>접속하신 단말/브라우저에서는 멜론 서비스의 사용이 일부 제한될 수 있습니다. 양해부탁드립니다.</p>\\n\\t\\t\\t\\t<a href=\"#\" class=\"btn\" title=\"모바일 웹 버전\">\\n\\t\\t\\t\\t\\t<span class=\"odd_span\">\\n\\t\\t\\t\\t\\t\\t<span class=\"even_span\">모바일 웹 버전</span>\\n\\t\\t\\t\\t\\t</span>\\n\\t\\t\\t\\t</a>\\n\\t\\t\\t</div>\\n\\t\\t\\t<!--//140602 추가 lyr-->\\n\\t\\t</div>\\n\\n\\t\\t<a href=\"#\" class=\"btn_top\" title=\"맨 위로 가기\" style=\"display: none;\">맨 위로 가기</a>\\n\\n<!-- MELONUIT-1148 20200121 ISMS 인증서 팝업 -->\\n<div id=\"pop_isms\" class=\"wrap_pop_notice wrap_pop_isms\">\\n\\t<div class=\"pop_isms_inner\">\\n\\t\\t<h1 class=\"title\">정보보호 및 개인정보보호 관리체계 인증</h1>\\n\\t\\t<div class=\"cntt\">\\n\\t\\t\\t<p class=\"txt01\">정보보호 및 개인정보보호를 위한 일련의 조치와 활동이<br>인증기준에 적합함을 인터넷진흥원 또는 인증기간이 증명하는 제도</p>\\n\\t\\t\\t<ul class=\"list_isms\">\\n\\t\\t\\t\\t<li>[인증범위]  인터넷 서비스 운영 (카카오, 다음, 멜론)</li>\\n\\t\\t\\t\\t<li>[유효기간]  2019.12.26 ~ 2022.12.25</li>\\n\\t\\t\\t</ul>\\n\\t\\t</div>\\n\\t</div>\\n\\t<button type=\"button\" title=\"닫기\" class=\"btn_close d_close\"><span>닫기</span></button>\\n\\t<span class=\"shadow\"></span>\\n</div>\\n<!-- //MELONUIT-1148 20200121 ISMS 인증서 팝업 -->\\n\\n\\t\\t<script type=\"text/javascript\">\\n\\t\\t\\t$(function() {\\n\\t\\t\\t\\t//favicon 분기 처리\\n\\t\\t\\t\\tvar pocId = MELON.WEBSVC.POC.getPocId();\\n\\t\\t\\t\\tif(\\'AS20\\' == pocId || \\'HT10\\' == pocId){\\n\\t\\t\\t\\t\\t$(\\'link#favicon\\').attr(\\'href\\',\\'//cdnimg.melon.co.kr/resource/mobile40/cds/common/image/favicon.ico\\');\\n\\t\\t\\t\\t\\t$(\\'title\\').text(\\'Melon\\');\\n\\t\\t\\t\\t}else if(\\'IS20\\' == pocId || \\'IT10\\' == pocId){\\n\\t\\t\\t\\t\\t$(\\'link#favicon\\').attr(\\'type\\',\\'\\');\\n\\t\\t\\t\\t\\t$(\\'link#favicon\\').attr(\\'rel\\',\\'apple-touch-icon-precomposed\\');\\n\\t\\t\\t\\t\\t$(\\'link#favicon\\').attr(\\'href\\',\\'//cdnimg.melon.co.kr/resource/mobile40/cds/common/image/mobile_apple_120x120.png\\');\\n\\t\\t\\t\\t\\t$(\\'link#favicon\\').after(\\'<link rel=\"apple-touch-icon-precomposed\" sizes=\"180x180\" href=\"//cdnimg.melon.co.kr/resource/mobile40/cds/common/image/mobile_apple_180x180.png\" />\\');\\n\\t\\t\\t\\t\\t$(\\'title\\').text(\\'Melon\\');\\n\\t\\t\\t\\t}\\n\\n\\t\\t\\t\\t// 엣지 브라우저이고 해당 팝업이 뜬 적이 없는 경우 체크하여 팝업을 띄운다.\\n\\t\\t\\t\\tvar isEdge = (navigator.userAgent.indexOf(\"Edge\") > 0);\\n\\t\\t\\t\\tvar edgeCheckYN = getCookie(\"EDGE_CHECK\") != \\'Y\\';\\n\\n\\n\\t\\t\\t\\t// 타블렛이고 해당 팝업이 뜬 적이 없는 경우 체크하여 팝업을 띄운다.\\n\\t\\t\\t\\tvar tabletCheckYN = getCookie(\"TABLET_CHECK\") != \\'Y\\';\\n\\n\\t\\t\\t\\tif(melon.isTablet() && tabletCheckYN){\\n\\t\\t\\t\\t\\twindow.open(\\'//www.melon.com/error_page/error_tabletTypeA.html\\',\\'tabletPopTypeA\\',\\'scrollbars=no, resizable=no, location=no, width=560, height=483\\');\\n\\t\\t\\t\\t}\\n\\n\\t\\t\\t\\t// 해당 쿠키가 존재하면 쿠키 삭제\\n\\t\\t\\t\\tif(getCookie(\"CHECK_POP\") != \\'\\'){\\n\\t\\t\\t\\t\\t// 체크 후 해당 쿠키는 제거\\n\\t\\t\\t\\t\\tvar expireDate = new Date();\\n\\t\\t\\t\\t\\texpireDate.setDate(expireDate.getDate()-1);\\n\\t\\t\\t\\t\\tdocument.cookie = \"CHECK_POP=;path=/;expires=\"+expireDate.toGMTString()+\";domain=.melon.com\";\\n\\t\\t\\t\\t}\\n\\n\\t\\t\\t\\tif(isMelonLogin()){\\n\\t\\t\\t\\t\\tvar djYn = false;\\n\\t\\t\\t\\t\\tvar memberKey = getMemberKey();\\n\\n\\t\\t\\t\\t\\tif(memberKey != null || memberKey != \\'\\'){\\n\\t\\t\\t\\t\\t\\tvar url = \\'/dj/members/\\'+memberKey+\\'/isdj.json\\'\\n\\t\\t\\t\\t\\t\\ttry {\\n\\t\\t\\t\\t\\t\\t\\t$.ajax({\\n\\t\\t\\t\\t\\t\\t\\t\\turl: url,\\n\\t\\t\\t\\t\\t\\t\\t\\ttype : \\'GET\\',\\n\\t\\t\\t\\t\\t\\t\\t\\tdataType: \\'json\\'\\n\\t\\t\\t\\t\\t\\t\\t}).done(function(data) {\\n\\t\\t\\t\\t\\t\\t\\t\\tif (data != null && data.ISDJ != null && data.ISDJ.length > 0) {\\n\\t\\t\\t\\t\\t\\t\\t\\t\\tdjYn = data.ISDJ;\\n\\t\\t\\t\\t\\t\\t\\t\\t}\\n\\t\\t\\t\\t\\t\\t\\t}).fail(function() {\\n\\t\\t\\t\\t\\t\\t\\t\\tdjYn = false;\\n\\t\\t\\t\\t\\t\\t\\t});\\n\\t\\t\\t\\t\\t\\t} catch(e){}\\n\\t\\t\\t\\t\\t}\\n\\t\\t\\t\\t}\\n\\n\\t\\t\\t\\t// 홈탭의 경우 쇼핑/티켓을 새창띄우기로 변경한다.\\n\\t\\t\\t\\tvar fromMPS = getCookie(\"MPS\"); // 멜론 플레이어에서 왔는지 확인.\\n\\t\\t\\t\\tvar fromHomeTab = !(fromMPS == null || fromMPS.indexOf(\"MELONPLAYER\") < 0);\\n\\n\\t\\t\\t\\tif(fromHomeTab){\\n\\t\\t\\t\\t\\t$(\"li.d_melon_shopping a\").removeClass(\"mlog\");\\n\\t\\t\\t\\t\\t$(\"li.d_melon_shopping a\").addClass(\"mlog_without_page_change\");\\n\\t\\t\\t\\t\\t$(\"li.d_melon_shopping a\").attr(\"target\", \"_blank\");\\n\\n\\t\\t\\t\\t\\t$(\"li.d_melon_ticket a\").removeClass(\"mlog\");\\n\\t\\t\\t\\t\\t$(\"li.d_melon_ticket a\").addClass(\"mlog_without_page_change\");\\n\\t\\t\\t\\t\\t$(\"li.d_melon_ticket a\").attr(\"target\", \"_blank\");\\n\\t\\t\\t\\t}\\n\\n\\t\\t\\t\\t//멜론 플레이어면 멜론 6.0 둘러보기 버튼 제거\\n\\t\\t\\t\\tif(fromHomeTab){\\n\\t\\t\\t\\t\\t$(\\'#d_studio\\').hide()\\n\\t\\t\\t\\t\\t$(\\'#d_melon6\\').hide();\\n\\t\\t\\t\\t}else{\\n\\t\\t\\t\\t\\t$(\\'#d_studio\\').show()\\n\\t\\t\\t\\t\\t$(\\'#d_melon6\\').show();\\n\\t\\t\\t\\t}\\n\\n\\t\\t\\t\\t$(document).on(\\'limitpopup\\', function( e, cookieId ) {\\n\\t\\t\\t\\t\\t$(\\'#\\'+cookieId).modal();\\n\\t\\t\\t\\t});\\n\\n\\n\\t\\t\\t\\t//레이어 공지 제어\\n\\t\\t\\t\\t//메인만 적용\\n\\t\\t\\t\\t//pcp 홈탭 미적용\\n\\t\\t\\t\\tif(\\'10010101\\' == \\'29010101\\' && !fromHomeTab){\\n\\t\\t\\t\\t\\t$.ajax({\\n\\t\\t\\t\\t\\t\\ttype : \\'GET\\'\\n\\t\\t\\t\\t\\t\\t,url : \\'/main/getTicketPositionProperty.json\\'\\n\\t\\t\\t\\t\\t}).done(function(response) {\\n\\n\\t\\t\\t\\t\\t\\tvar layerPopNotiYn = response.layerPopNotiYn;\\n\\t\\t\\t\\t\\t\\tvar layerPopDateText = response.layerPopDateText;\\n\\t\\t\\t\\t\\t\\tif(layerPopNotiYn == \\'Y\\'){\\n\\t\\t\\t\\t\\t\\t\\t$(\\'#d_layerPopDateText\\').text(layerPopDateText);\\n\\t\\t\\t\\t\\t\\t\\tsetTimeout(function() {\\n\\t\\t\\t\\t\\t\\t\\t\\t$(\"#popNotice\").timeLimitSet({ cookieId:\\'popNotice\\',selectors:{closebtn:\\'#todayChk\\', checkbox:\\'\\'} });\\n\\t\\t\\t\\t\\t\\t\\t},1);\\n\\t\\t\\t\\t\\t\\t\\tMELON.PBPGN.TimeLimitPopup.init({ cookieId:\"popNotice\", serverTime: new Date(), limitType:\"day\" });\\n\\t\\t\\t\\t\\t\\t\\t$(\"#popNotice .d_close\").click(function() {  $(\"#popNotice\").modal(\\'hide\\'); });\\n\\t\\t\\t\\t\\t\\t}\\n\\t\\t\\t\\t\\t});\\n\\t\\t\\t\\t}\\n\\t\\t\\t});\\n\\n\\t\\t\\tfunction goMelonTPage(){\\n\\t\\t\\t\\t//t.com 종료 삭제처리\\n\\t\\t\\t}\\n\\n\\t\\t\\tfunction openEmailCollectionReject(){\\n\\t\\t\\t\\twindow.open(\\'//www.melon.com/emailCollectionReject.html\\',\\'emailCollect\\', \\'scrollbars=no, resizable=no, location=no, width=384, height=331\\');\\n\\t\\t\\t}\\n\\n\\t\\t\\t//MELONUIT-1148 20200121 ISMS 인증서 팝업 //\\n\\t\\t\\tvar popISMS = {\\n\\t\\t\\t\\topen : function() {\\n\\t\\t\\t\\t\\t$(\\'#pop_isms\\').modal(\\'show\\');\\n\\t\\t\\t\\t}\\n\\t\\t\\t};\\n\\n\\t\\t\\t$(document).on(\\'click\\', \\'.popISMS\\',function(){\\n\\t\\t\\t\\tpopISMS.open();\\n\\t\\t\\t});\\n\\t\\t\\t//MELONUIT-1148 20200121 ISMS 인증서 팝업 //\\n\\t\\t</script>\\n\\t\\t<!--//140602 추가 lyr-->\\n\\t\\t<!-- 카카오 픽셀 로그 분석 소스  -->\\n\\t\\t<script type=\"text/javascript\" charset=\"UTF-8\" src=\"//t1.daumcdn.net/adfit/static/kp.js\"></script>\\n\\t\\t<script type=\"text/javascript\">\\n\\t\\t\\tkakaoPixel(\\'7142705976963675270\\').pageView();\\n\\t\\t</script>\\n\\t\\t<!-- 네이버 프리미엄 로그 분석 소스  -->\\n\\t\\t<script type=\"text/javascript\" src=\"//wcs.naver.net/wcslog.js\"> </script>\\n\\t\\t<script type=\"text/javascript\" src=\"/resource/script/web/common/melonweb_loganalysis.js?tm=202201101530\"></script>\\n\\n\\t</div>\\n\\t<!-- //footer -->\\n\\n\\n\\n</body></html>'"
            ],
            "application/vnd.google.colaboratory.intrinsic+json": {
              "type": "string"
            }
          },
          "metadata": {},
          "execution_count": 14
        }
      ],
      "source": [
        "# 테스트\n",
        "driver.get(\"https://www.melon.com/genre/song_list.htm?gnrCode=GN0200&startIndex=200#params%5BgnrCode%5D=GN0200&params%5BdtlGnrCode%5D=&params%5BorderBy%5D=NEW&params%5BsteadyYn%5D=N&po=pageObj&startIndex=401\")\n",
        "driver.implicitly_wait(3)\n",
        "driver.get(\"https://www.melon.com/song/detail.htm?songId=36963705\")\n",
        "driver.page_source"
      ]
    },
    {
      "cell_type": "markdown",
      "source": [
        "## 음원ID, 좋아요 수 얻기"
      ],
      "metadata": {
        "id": "W2babhhc9cNI"
      }
    },
    {
      "cell_type": "code",
      "execution_count": null,
      "metadata": {
        "colab": {
          "base_uri": "https://localhost:8080/"
        },
        "id": "5sgQ_abVzHXM",
        "outputId": "55d2ee75-890b-4b96-dd7b-b71ed477c54c"
      },
      "outputs": [
        {
          "output_type": "stream",
          "name": "stdout",
          "text": [
            "        songId like_count\n",
            "0     36963705         48\n",
            "1     36965084          3\n",
            "2     36964255          0\n",
            "3     36962675        130\n",
            "4     36961184         18\n",
            "...        ...        ...\n",
            "1245  35985167     195253\n",
            "1246  35984500        334\n",
            "1247  35980350         74\n",
            "1248  35962512       5747\n",
            "1249  35976650       1670\n",
            "\n",
            "[1250 rows x 2 columns]\n",
            "        songId like_count\n",
            "0     36963705         48\n",
            "1     36965084          3\n",
            "2     36964255          0\n",
            "3     36962675        130\n",
            "4     36961184         18\n",
            "...        ...        ...\n",
            "1245  35985167     195253\n",
            "1246  35984500        334\n",
            "1247  35980350         74\n",
            "1248  35962512       5747\n",
            "1249  35976650       1670\n",
            "\n",
            "[1250 rows x 2 columns]\n",
            "        songId like_count\n",
            "0     36963705         48\n",
            "1     36965084          3\n",
            "2     36964255          0\n",
            "3     36962675        130\n",
            "4     36961184         18\n",
            "...        ...        ...\n",
            "1245  35985167     195253\n",
            "1246  35984500        334\n",
            "1247  35980350         74\n",
            "1248  35962512       5747\n",
            "1249  35976650       1670\n",
            "\n",
            "[1250 rows x 2 columns]\n",
            "        songId like_count\n",
            "0     36999110          0\n",
            "1     36999294          0\n",
            "2     36999188          0\n",
            "3     37000407          0\n",
            "4     36998846          0\n",
            "...        ...        ...\n",
            "1245  35985167     195253\n",
            "1246  35984500        334\n",
            "1247  35980350         74\n",
            "1248  35962512       5747\n",
            "1249  35976650       1670\n",
            "\n",
            "[1250 rows x 2 columns]\n",
            "        songId like_count\n",
            "0     37000683          0\n",
            "1     36999294          0\n",
            "2     36989052          0\n",
            "3     36999188          0\n",
            "4     36999315          0\n",
            "...        ...        ...\n",
            "1245  35985167     195253\n",
            "1246  35984500        334\n",
            "1247  35980350         74\n",
            "1248  35962512       5747\n",
            "1249  35976650       1670\n",
            "\n",
            "[1250 rows x 2 columns]\n"
          ]
        }
      ],
      "source": [
        "import requests\n",
        "from bs4 import BeautifulSoup\n",
        "import csv\n",
        "import pandas as pd\n",
        "import re\n",
        "\n",
        "start_page = \"001\"\n",
        "end_page = \"025\"\n",
        "\n",
        "genre_codes = {\n",
        "    # \"GN0100\": \"balad\",\n",
        "    \"GN0200\": \"dance\",\n",
        "    \"GN0300\": \"rap_hiphop\",\n",
        "    \"GN0400\": \"rnb_soul\",\n",
        "    \"GN0500\": \"indie\",\n",
        "    \"GN0600\": \"rock_metal\",\n",
        "}\n",
        "\n",
        "\n",
        "# 멜론 곡 검색 API URL\n",
        "def get_recent_song_ids(genre_code=\"GN0300\" ,page_index_range=range(1,2)):\n",
        "\n",
        "    song_ids = []\n",
        "    like_counts = []\n",
        "    for page_index in page_index_range:\n",
        "        url = f\"https://www.melon.com/genre/song_list.htm?gnrCode={genre_code}#params%5BgnrCode%5D=GN0200&params%5BdtlGnrCode%5D=&params%5BorderBy%5D=NEW&params%5BsteadyYn%5D=N&po=pageObj&startIndex={page_index*50+1}\"\n",
        "        driver.get(url)\n",
        "        driver.implicitly_wait(3)\n",
        "\n",
        "        soup = BeautifulSoup(driver.page_source, \"html.parser\")\n",
        "        select_table = soup.select(\"#frm > div > table > tbody > tr\")\n",
        "        for tr in select_table:\n",
        "            soup = BeautifulSoup(str(tr), \"html.parser\")\n",
        "            href = soup.find(lambda x :x.name==\"a\" and x.attrs.get(\"href\", \"\").startswith(\"javascript:melon.link.goSongDetail(\")).attrs['href']\n",
        "            song_id = re.search(r'\\d+', href).group()\n",
        "            song_ids.append(song_id)\n",
        "            like = soup.find(\"span\", class_=\"cnt\").get_text(strip=True).lstrip(\"총건수\").replace(\",\", \"\")\n",
        "            like_counts.append(like)\n",
        "    return song_ids, like_counts\n",
        "\n",
        "def save_to_csv(genre, recent_songs_likes):\n",
        "    # with open(f\"/content/{genre}_0033_051_melonIds.txt\", 'w', newline='', encoding='utf-8-sig') as txt:\n",
        "    df = pd.DataFrame({\"songId\": recent_songs_likes[0], \"like_count\": recent_songs_likes[1]})\n",
        "    print(df)\n",
        "    df.to_csv(f'/content/{genre}_001_025_melonIds.csv', index=False)\n",
        "\n",
        "\n",
        "\n",
        "for gnrcode in genre_codes.keys():\n",
        "    recent_song_ids = get_recent_song_ids(gnrcode, range(int(start_page), int(end_page)+1))\n",
        "    save_to_csv(genre_codes[gnrcode], recent_song_ids)\n",
        "\n"
      ]
    },
    {
      "cell_type": "markdown",
      "source": [
        "## 나머지 요소 크롤링"
      ],
      "metadata": {
        "id": "H2HaWBYt9i4c"
      }
    },
    {
      "cell_type": "markdown",
      "source": [
        "### 준비"
      ],
      "metadata": {
        "id": "Z_14JaCF-XIB"
      }
    },
    {
      "cell_type": "code",
      "execution_count": null,
      "metadata": {
        "id": "d4P43aIiuIhE"
      },
      "outputs": [],
      "source": [
        "start_page = \"001\"\n",
        "end_page = \"025\"\n",
        "genre = \"rock_metal\""
      ]
    },
    {
      "cell_type": "code",
      "execution_count": null,
      "metadata": {
        "id": "YxsP0drzS1aw"
      },
      "outputs": [],
      "source": [
        "songs_dict = {\n",
        "    'Title': [],\n",
        "    'Singer': [],\n",
        "    'Song_ID': [],\n",
        "    'Release_Date': [],\n",
        "    'Like_Count': [],\n",
        "    'lyrics': [],\n",
        "    'Album': [],\n",
        "    'Genre': [],\n",
        "}\n",
        "\n",
        "def foo(songId, like=None):\n",
        "    headers = {\n",
        "    \"Host\": \"www.melon.com\",\n",
        "    \"User-Agent\": \"Mozilla/5.0 (Macintosh; Intel Mac OS X 10_15_7) AppleWebKit/537.36 (KHTML, like Gecko) Chrome/119.0.0.0 Safari/537.36\",\n",
        "    \"save-data\": \"on\",\n",
        "    \"Referer\":\"https://fqhf3hvcdzt-496ff2e9c6d22116-0-colab.googleusercontent.com/\"\n",
        "    }\n",
        "\n",
        "    url = f\"https://www.melon.com/song/detail.htm?songId={songId}\"\n",
        "    response = requests.get(url, headers=headers)\n",
        "    if response.status_code != 200:\n",
        "        driver.get(url)\n",
        "        driver.implicitly_wait(3)\n",
        "        response = driver.page_source\n",
        "    else:\n",
        "        response = response.content\n",
        "    soup = BeautifulSoup(response, 'html.parser')\n",
        "    title = soup.select_one('.song_name').get_text(strip=True).lstrip(\"곡명\")\n",
        "    singer = soup.select_one('div.artist > a > span:nth-child(1)').get_text(strip=True)\n",
        "    release_date = soup.select_one('div.meta > dl > dd:nth-child(4)').get_text(strip=True)\n",
        "    album = soup.select_one('div.meta > dl > dd:nth-child(2) > a').get_text(strip=True)\n",
        "    genre = soup.find(lambda x: x.name==\"dt\" and x.text==\"장르\").find_next_sibling().get_text(strip=True)\n",
        "    lyrics_soup = soup.select_one('#d_video_summary')\n",
        "    try:\n",
        "        lyrics = lyrics_soup.get_text('\\n', strip=True)\n",
        "    except:\n",
        "        lyrics = None\n",
        "    return (title, singer, songId, release_date, like, lyrics, album, genre)\n",
        "\n"
      ]
    },
    {
      "cell_type": "code",
      "source": [
        "import concurrent.futures\n",
        "import pandas as pd\n",
        "import multiprocessing\n",
        "import numpy as np\n",
        "\n",
        "genre = \"rap_hiphop\"\n",
        "df = pd.read_csv(f\"/content/{genre}_001_025_melonIds.csv\", encoding=\"utf-8-sig\",) #index_col=\"Unnamed: 0\")"
      ],
      "metadata": {
        "id": "gXLVGvJ3LPjK"
      },
      "execution_count": null,
      "outputs": []
    },
    {
      "cell_type": "markdown",
      "source": [
        "### No Multiprocessing"
      ],
      "metadata": {
        "id": "kg91MxvJ-Fqj"
      }
    },
    {
      "cell_type": "code",
      "source": [
        "# 기존 DataFrame을 songs_dict에 추가\n",
        "start_range = 1100\n",
        "for i in range(start_range, len(df)):\n",
        "    songs_dict = {\n",
        "        'Title': [],\n",
        "        'Singer': [],\n",
        "        'Song_ID': [],\n",
        "        'Release_Date': [],\n",
        "        'Like_Count': [],\n",
        "        'lyrics': [],\n",
        "        'Album': [],\n",
        "        'Genre': [],\n",
        "    }\n",
        "    for key, val in zip(songs_dict.keys(), foo(df.iloc[i].songId, df.iloc[i].like_count)):\n",
        "        songs_dict[key].append(val)\n",
        "\n",
        "    # songs_dict를 DataFrame으로 변환하여 CSV 파일에 추가\n",
        "    temp_df = pd.DataFrame(songs_dict)\n",
        "    if i == start_range:\n",
        "        temp_df.to_csv(f\"/content/{genre}_{start_page}_{end_page}_melonIds_result.csv\", mode='w', index=False, encoding=\"utf-8-sig\")\n",
        "    else:\n",
        "        temp_df.to_csv(f\"/content/{genre}_{start_page}_{end_page}_melonIds_result.csv\", mode='a', header=False, index=False, encoding=\"utf-8-sig\")"
      ],
      "metadata": {
        "id": "PLbmL0oU-b-y"
      },
      "execution_count": null,
      "outputs": []
    },
    {
      "cell_type": "markdown",
      "source": [
        "### Multithreading"
      ],
      "metadata": {
        "id": "Wo4DmNts497d"
      }
    },
    {
      "cell_type": "code",
      "source": [
        "import concurrent.futures\n",
        "import pandas as pd\n",
        "import multiprocessing\n",
        "import numpy as np\n",
        "\n",
        "df = pd.read_csv(f\"/content/{genre}_001_025_melonIds.csv\", encoding=\"utf-8-sig\",)\n",
        "\n",
        "def process_data(row):\n",
        "    songs_dict = {\n",
        "        'Title': [],\n",
        "        'Singer': [],\n",
        "        'Song_ID': [],\n",
        "        'Release_Date': [],\n",
        "        'Like_Count': [],\n",
        "        'lyrics': [],\n",
        "        'Album': [],\n",
        "    }\n",
        "    for key, val in zip(songs_dict.keys(), foo(row.songId, row.like_count)):\n",
        "        songs_dict[key].append(val)\n",
        "\n",
        "    return pd.DataFrame(songs_dict)\n",
        "\n",
        "def main():\n",
        "    start_range = 501\n",
        "    num_cores = multiprocessing.cpu_count()  # 사용 가능한 CPU 스레드 수\n",
        "    print(num_cores)\n",
        "\n",
        "    with concurrent.futures.ThreadPoolExecutor(max_workers=num_cores) as executor:\n",
        "        df_split = np.array_split(df.iloc[start_range:], num_cores)\n",
        "        results = executor.map(process_data, df_split)\n",
        "\n",
        "    output_file = f\"/content/{genre}_{start_page}_{end_page}_melonIds_result.csv\"\n",
        "    for i, result in enumerate(results):\n",
        "        mode = 'w' if i == start_range else 'a'\n",
        "        header = i == start_range\n",
        "        result.to_csv(output_file, mode=mode, header=header, index=False, encoding=\"utf-8-sig\")\n",
        "\n",
        "if __name__ == '__main__':\n",
        "    main()\n"
      ],
      "metadata": {
        "colab": {
          "base_uri": "https://localhost:8080/",
          "height": 402
        },
        "id": "n4cLl4NQ4bta",
        "outputId": "b125cb04-2c60-43c3-9359-6fd0347825fb"
      },
      "execution_count": null,
      "outputs": [
        {
          "output_type": "stream",
          "name": "stdout",
          "text": [
            "2\n"
          ]
        },
        {
          "output_type": "stream",
          "name": "stderr",
          "text": [
            "WARNING:urllib3.connectionpool:Connection pool is full, discarding connection: localhost. Connection pool size: 1\n"
          ]
        },
        {
          "output_type": "error",
          "ename": "AttributeError",
          "evalue": "ignored",
          "traceback": [
            "\u001b[0;31m---------------------------------------------------------------------------\u001b[0m",
            "\u001b[0;31mAttributeError\u001b[0m                            Traceback (most recent call last)",
            "\u001b[0;32m<ipython-input-26-894003ab88d7>\u001b[0m in \u001b[0;36m<cell line: 38>\u001b[0;34m()\u001b[0m\n\u001b[1;32m     37\u001b[0m \u001b[0;34m\u001b[0m\u001b[0m\n\u001b[1;32m     38\u001b[0m \u001b[0;32mif\u001b[0m \u001b[0m__name__\u001b[0m \u001b[0;34m==\u001b[0m \u001b[0;34m'__main__'\u001b[0m\u001b[0;34m:\u001b[0m\u001b[0;34m\u001b[0m\u001b[0;34m\u001b[0m\u001b[0m\n\u001b[0;32m---> 39\u001b[0;31m     \u001b[0mmain\u001b[0m\u001b[0;34m(\u001b[0m\u001b[0;34m)\u001b[0m\u001b[0;34m\u001b[0m\u001b[0;34m\u001b[0m\u001b[0m\n\u001b[0m",
            "\u001b[0;32m<ipython-input-26-894003ab88d7>\u001b[0m in \u001b[0;36mmain\u001b[0;34m()\u001b[0m\n\u001b[1;32m     31\u001b[0m \u001b[0;34m\u001b[0m\u001b[0m\n\u001b[1;32m     32\u001b[0m     \u001b[0moutput_file\u001b[0m \u001b[0;34m=\u001b[0m \u001b[0;34mf\"/content/{genre}_{start_page}_{end_page}_melonIds_result.csv\"\u001b[0m\u001b[0;34m\u001b[0m\u001b[0;34m\u001b[0m\u001b[0m\n\u001b[0;32m---> 33\u001b[0;31m     \u001b[0;32mfor\u001b[0m \u001b[0mi\u001b[0m\u001b[0;34m,\u001b[0m \u001b[0mresult\u001b[0m \u001b[0;32min\u001b[0m \u001b[0menumerate\u001b[0m\u001b[0;34m(\u001b[0m\u001b[0mresults\u001b[0m\u001b[0;34m)\u001b[0m\u001b[0;34m:\u001b[0m\u001b[0;34m\u001b[0m\u001b[0;34m\u001b[0m\u001b[0m\n\u001b[0m\u001b[1;32m     34\u001b[0m         \u001b[0mmode\u001b[0m \u001b[0;34m=\u001b[0m \u001b[0;34m'w'\u001b[0m \u001b[0;32mif\u001b[0m \u001b[0mi\u001b[0m \u001b[0;34m==\u001b[0m \u001b[0mstart_range\u001b[0m \u001b[0;32melse\u001b[0m \u001b[0;34m'a'\u001b[0m\u001b[0;34m\u001b[0m\u001b[0;34m\u001b[0m\u001b[0m\n\u001b[1;32m     35\u001b[0m         \u001b[0mheader\u001b[0m \u001b[0;34m=\u001b[0m \u001b[0mi\u001b[0m \u001b[0;34m==\u001b[0m \u001b[0mstart_range\u001b[0m\u001b[0;34m\u001b[0m\u001b[0;34m\u001b[0m\u001b[0m\n",
            "\u001b[0;32m/usr/lib/python3.10/concurrent/futures/_base.py\u001b[0m in \u001b[0;36mresult_iterator\u001b[0;34m()\u001b[0m\n\u001b[1;32m    619\u001b[0m                     \u001b[0;31m# Careful not to keep a reference to the popped future\u001b[0m\u001b[0;34m\u001b[0m\u001b[0;34m\u001b[0m\u001b[0m\n\u001b[1;32m    620\u001b[0m                     \u001b[0;32mif\u001b[0m \u001b[0mtimeout\u001b[0m \u001b[0;32mis\u001b[0m \u001b[0;32mNone\u001b[0m\u001b[0;34m:\u001b[0m\u001b[0;34m\u001b[0m\u001b[0;34m\u001b[0m\u001b[0m\n\u001b[0;32m--> 621\u001b[0;31m                         \u001b[0;32myield\u001b[0m \u001b[0m_result_or_cancel\u001b[0m\u001b[0;34m(\u001b[0m\u001b[0mfs\u001b[0m\u001b[0;34m.\u001b[0m\u001b[0mpop\u001b[0m\u001b[0;34m(\u001b[0m\u001b[0;34m)\u001b[0m\u001b[0;34m)\u001b[0m\u001b[0;34m\u001b[0m\u001b[0;34m\u001b[0m\u001b[0m\n\u001b[0m\u001b[1;32m    622\u001b[0m                     \u001b[0;32melse\u001b[0m\u001b[0;34m:\u001b[0m\u001b[0;34m\u001b[0m\u001b[0;34m\u001b[0m\u001b[0m\n\u001b[1;32m    623\u001b[0m                         \u001b[0;32myield\u001b[0m \u001b[0m_result_or_cancel\u001b[0m\u001b[0;34m(\u001b[0m\u001b[0mfs\u001b[0m\u001b[0;34m.\u001b[0m\u001b[0mpop\u001b[0m\u001b[0;34m(\u001b[0m\u001b[0;34m)\u001b[0m\u001b[0;34m,\u001b[0m \u001b[0mend_time\u001b[0m \u001b[0;34m-\u001b[0m \u001b[0mtime\u001b[0m\u001b[0;34m.\u001b[0m\u001b[0mmonotonic\u001b[0m\u001b[0;34m(\u001b[0m\u001b[0;34m)\u001b[0m\u001b[0;34m)\u001b[0m\u001b[0;34m\u001b[0m\u001b[0;34m\u001b[0m\u001b[0m\n",
            "\u001b[0;32m/usr/lib/python3.10/concurrent/futures/_base.py\u001b[0m in \u001b[0;36m_result_or_cancel\u001b[0;34m(***failed resolving arguments***)\u001b[0m\n\u001b[1;32m    317\u001b[0m     \u001b[0;32mtry\u001b[0m\u001b[0;34m:\u001b[0m\u001b[0;34m\u001b[0m\u001b[0;34m\u001b[0m\u001b[0m\n\u001b[1;32m    318\u001b[0m         \u001b[0;32mtry\u001b[0m\u001b[0;34m:\u001b[0m\u001b[0;34m\u001b[0m\u001b[0;34m\u001b[0m\u001b[0m\n\u001b[0;32m--> 319\u001b[0;31m             \u001b[0;32mreturn\u001b[0m \u001b[0mfut\u001b[0m\u001b[0;34m.\u001b[0m\u001b[0mresult\u001b[0m\u001b[0;34m(\u001b[0m\u001b[0mtimeout\u001b[0m\u001b[0;34m)\u001b[0m\u001b[0;34m\u001b[0m\u001b[0;34m\u001b[0m\u001b[0m\n\u001b[0m\u001b[1;32m    320\u001b[0m         \u001b[0;32mfinally\u001b[0m\u001b[0;34m:\u001b[0m\u001b[0;34m\u001b[0m\u001b[0;34m\u001b[0m\u001b[0m\n\u001b[1;32m    321\u001b[0m             \u001b[0mfut\u001b[0m\u001b[0;34m.\u001b[0m\u001b[0mcancel\u001b[0m\u001b[0;34m(\u001b[0m\u001b[0;34m)\u001b[0m\u001b[0;34m\u001b[0m\u001b[0;34m\u001b[0m\u001b[0m\n",
            "\u001b[0;32m/usr/lib/python3.10/concurrent/futures/_base.py\u001b[0m in \u001b[0;36mresult\u001b[0;34m(self, timeout)\u001b[0m\n\u001b[1;32m    449\u001b[0m                     \u001b[0;32mraise\u001b[0m \u001b[0mCancelledError\u001b[0m\u001b[0;34m(\u001b[0m\u001b[0;34m)\u001b[0m\u001b[0;34m\u001b[0m\u001b[0;34m\u001b[0m\u001b[0m\n\u001b[1;32m    450\u001b[0m                 \u001b[0;32melif\u001b[0m \u001b[0mself\u001b[0m\u001b[0;34m.\u001b[0m\u001b[0m_state\u001b[0m \u001b[0;34m==\u001b[0m \u001b[0mFINISHED\u001b[0m\u001b[0;34m:\u001b[0m\u001b[0;34m\u001b[0m\u001b[0;34m\u001b[0m\u001b[0m\n\u001b[0;32m--> 451\u001b[0;31m                     \u001b[0;32mreturn\u001b[0m \u001b[0mself\u001b[0m\u001b[0;34m.\u001b[0m\u001b[0m__get_result\u001b[0m\u001b[0;34m(\u001b[0m\u001b[0;34m)\u001b[0m\u001b[0;34m\u001b[0m\u001b[0;34m\u001b[0m\u001b[0m\n\u001b[0m\u001b[1;32m    452\u001b[0m \u001b[0;34m\u001b[0m\u001b[0m\n\u001b[1;32m    453\u001b[0m                 \u001b[0mself\u001b[0m\u001b[0;34m.\u001b[0m\u001b[0m_condition\u001b[0m\u001b[0;34m.\u001b[0m\u001b[0mwait\u001b[0m\u001b[0;34m(\u001b[0m\u001b[0mtimeout\u001b[0m\u001b[0;34m)\u001b[0m\u001b[0;34m\u001b[0m\u001b[0;34m\u001b[0m\u001b[0m\n",
            "\u001b[0;32m/usr/lib/python3.10/concurrent/futures/_base.py\u001b[0m in \u001b[0;36m__get_result\u001b[0;34m(self)\u001b[0m\n\u001b[1;32m    401\u001b[0m         \u001b[0;32mif\u001b[0m \u001b[0mself\u001b[0m\u001b[0;34m.\u001b[0m\u001b[0m_exception\u001b[0m\u001b[0;34m:\u001b[0m\u001b[0;34m\u001b[0m\u001b[0;34m\u001b[0m\u001b[0m\n\u001b[1;32m    402\u001b[0m             \u001b[0;32mtry\u001b[0m\u001b[0;34m:\u001b[0m\u001b[0;34m\u001b[0m\u001b[0;34m\u001b[0m\u001b[0m\n\u001b[0;32m--> 403\u001b[0;31m                 \u001b[0;32mraise\u001b[0m \u001b[0mself\u001b[0m\u001b[0;34m.\u001b[0m\u001b[0m_exception\u001b[0m\u001b[0;34m\u001b[0m\u001b[0;34m\u001b[0m\u001b[0m\n\u001b[0m\u001b[1;32m    404\u001b[0m             \u001b[0;32mfinally\u001b[0m\u001b[0;34m:\u001b[0m\u001b[0;34m\u001b[0m\u001b[0;34m\u001b[0m\u001b[0m\n\u001b[1;32m    405\u001b[0m                 \u001b[0;31m# Break a reference cycle with the exception in self._exception\u001b[0m\u001b[0;34m\u001b[0m\u001b[0;34m\u001b[0m\u001b[0m\n",
            "\u001b[0;32m/usr/lib/python3.10/concurrent/futures/thread.py\u001b[0m in \u001b[0;36mrun\u001b[0;34m(self)\u001b[0m\n\u001b[1;32m     56\u001b[0m \u001b[0;34m\u001b[0m\u001b[0m\n\u001b[1;32m     57\u001b[0m         \u001b[0;32mtry\u001b[0m\u001b[0;34m:\u001b[0m\u001b[0;34m\u001b[0m\u001b[0;34m\u001b[0m\u001b[0m\n\u001b[0;32m---> 58\u001b[0;31m             \u001b[0mresult\u001b[0m \u001b[0;34m=\u001b[0m \u001b[0mself\u001b[0m\u001b[0;34m.\u001b[0m\u001b[0mfn\u001b[0m\u001b[0;34m(\u001b[0m\u001b[0;34m*\u001b[0m\u001b[0mself\u001b[0m\u001b[0;34m.\u001b[0m\u001b[0margs\u001b[0m\u001b[0;34m,\u001b[0m \u001b[0;34m**\u001b[0m\u001b[0mself\u001b[0m\u001b[0;34m.\u001b[0m\u001b[0mkwargs\u001b[0m\u001b[0;34m)\u001b[0m\u001b[0;34m\u001b[0m\u001b[0;34m\u001b[0m\u001b[0m\n\u001b[0m\u001b[1;32m     59\u001b[0m         \u001b[0;32mexcept\u001b[0m \u001b[0mBaseException\u001b[0m \u001b[0;32mas\u001b[0m \u001b[0mexc\u001b[0m\u001b[0;34m:\u001b[0m\u001b[0;34m\u001b[0m\u001b[0;34m\u001b[0m\u001b[0m\n\u001b[1;32m     60\u001b[0m             \u001b[0mself\u001b[0m\u001b[0;34m.\u001b[0m\u001b[0mfuture\u001b[0m\u001b[0;34m.\u001b[0m\u001b[0mset_exception\u001b[0m\u001b[0;34m(\u001b[0m\u001b[0mexc\u001b[0m\u001b[0;34m)\u001b[0m\u001b[0;34m\u001b[0m\u001b[0;34m\u001b[0m\u001b[0m\n",
            "\u001b[0;32m<ipython-input-26-894003ab88d7>\u001b[0m in \u001b[0;36mprocess_data\u001b[0;34m(row)\u001b[0m\n\u001b[1;32m     16\u001b[0m         \u001b[0;34m'Album'\u001b[0m\u001b[0;34m:\u001b[0m \u001b[0;34m[\u001b[0m\u001b[0;34m]\u001b[0m\u001b[0;34m,\u001b[0m\u001b[0;34m\u001b[0m\u001b[0;34m\u001b[0m\u001b[0m\n\u001b[1;32m     17\u001b[0m     }\n\u001b[0;32m---> 18\u001b[0;31m     \u001b[0;32mfor\u001b[0m \u001b[0mkey\u001b[0m\u001b[0;34m,\u001b[0m \u001b[0mval\u001b[0m \u001b[0;32min\u001b[0m \u001b[0mzip\u001b[0m\u001b[0;34m(\u001b[0m\u001b[0msongs_dict\u001b[0m\u001b[0;34m.\u001b[0m\u001b[0mkeys\u001b[0m\u001b[0;34m(\u001b[0m\u001b[0;34m)\u001b[0m\u001b[0;34m,\u001b[0m \u001b[0mfoo\u001b[0m\u001b[0;34m(\u001b[0m\u001b[0mrow\u001b[0m\u001b[0;34m.\u001b[0m\u001b[0msongId\u001b[0m\u001b[0;34m,\u001b[0m \u001b[0mrow\u001b[0m\u001b[0;34m.\u001b[0m\u001b[0mlike_count\u001b[0m\u001b[0;34m)\u001b[0m\u001b[0;34m)\u001b[0m\u001b[0;34m:\u001b[0m\u001b[0;34m\u001b[0m\u001b[0;34m\u001b[0m\u001b[0m\n\u001b[0m\u001b[1;32m     19\u001b[0m         \u001b[0msongs_dict\u001b[0m\u001b[0;34m[\u001b[0m\u001b[0mkey\u001b[0m\u001b[0;34m]\u001b[0m\u001b[0;34m.\u001b[0m\u001b[0mappend\u001b[0m\u001b[0;34m(\u001b[0m\u001b[0mval\u001b[0m\u001b[0;34m)\u001b[0m\u001b[0;34m\u001b[0m\u001b[0;34m\u001b[0m\u001b[0m\n\u001b[1;32m     20\u001b[0m \u001b[0;34m\u001b[0m\u001b[0m\n",
            "\u001b[0;32m<ipython-input-21-e99e9c435e1f>\u001b[0m in \u001b[0;36mfoo\u001b[0;34m(songId, like)\u001b[0m\n\u001b[1;32m     27\u001b[0m         \u001b[0mresponse\u001b[0m \u001b[0;34m=\u001b[0m \u001b[0mresponse\u001b[0m\u001b[0;34m.\u001b[0m\u001b[0mcontent\u001b[0m\u001b[0;34m\u001b[0m\u001b[0;34m\u001b[0m\u001b[0m\n\u001b[1;32m     28\u001b[0m     \u001b[0msoup\u001b[0m \u001b[0;34m=\u001b[0m \u001b[0mBeautifulSoup\u001b[0m\u001b[0;34m(\u001b[0m\u001b[0mresponse\u001b[0m\u001b[0;34m,\u001b[0m \u001b[0;34m'html.parser'\u001b[0m\u001b[0;34m)\u001b[0m\u001b[0;34m\u001b[0m\u001b[0;34m\u001b[0m\u001b[0m\n\u001b[0;32m---> 29\u001b[0;31m     \u001b[0mtitle\u001b[0m \u001b[0;34m=\u001b[0m \u001b[0msoup\u001b[0m\u001b[0;34m.\u001b[0m\u001b[0mselect_one\u001b[0m\u001b[0;34m(\u001b[0m\u001b[0;34m'.song_name'\u001b[0m\u001b[0;34m)\u001b[0m\u001b[0;34m.\u001b[0m\u001b[0mget_text\u001b[0m\u001b[0;34m(\u001b[0m\u001b[0mstrip\u001b[0m\u001b[0;34m=\u001b[0m\u001b[0;32mTrue\u001b[0m\u001b[0;34m)\u001b[0m\u001b[0;34m.\u001b[0m\u001b[0mlstrip\u001b[0m\u001b[0;34m(\u001b[0m\u001b[0;34m\"곡명\"\u001b[0m\u001b[0;34m)\u001b[0m\u001b[0;34m\u001b[0m\u001b[0;34m\u001b[0m\u001b[0m\n\u001b[0m\u001b[1;32m     30\u001b[0m     \u001b[0msinger\u001b[0m \u001b[0;34m=\u001b[0m \u001b[0msoup\u001b[0m\u001b[0;34m.\u001b[0m\u001b[0mselect_one\u001b[0m\u001b[0;34m(\u001b[0m\u001b[0;34m'div.artist > a > span:nth-child(1)'\u001b[0m\u001b[0;34m)\u001b[0m\u001b[0;34m.\u001b[0m\u001b[0mget_text\u001b[0m\u001b[0;34m(\u001b[0m\u001b[0mstrip\u001b[0m\u001b[0;34m=\u001b[0m\u001b[0;32mTrue\u001b[0m\u001b[0;34m)\u001b[0m\u001b[0;34m\u001b[0m\u001b[0;34m\u001b[0m\u001b[0m\n\u001b[1;32m     31\u001b[0m     \u001b[0mrelease_date\u001b[0m \u001b[0;34m=\u001b[0m \u001b[0msoup\u001b[0m\u001b[0;34m.\u001b[0m\u001b[0mselect_one\u001b[0m\u001b[0;34m(\u001b[0m\u001b[0;34m'div.meta > dl > dd:nth-child(4)'\u001b[0m\u001b[0;34m)\u001b[0m\u001b[0;34m.\u001b[0m\u001b[0mget_text\u001b[0m\u001b[0;34m(\u001b[0m\u001b[0mstrip\u001b[0m\u001b[0;34m=\u001b[0m\u001b[0;32mTrue\u001b[0m\u001b[0;34m)\u001b[0m\u001b[0;34m\u001b[0m\u001b[0;34m\u001b[0m\u001b[0m\n",
            "\u001b[0;31mAttributeError\u001b[0m: 'NoneType' object has no attribute 'get_text'"
          ]
        }
      ]
    },
    {
      "cell_type": "markdown",
      "source": [
        "### Multiprocessing(미완성)"
      ],
      "metadata": {
        "id": "4_XEl3QcGe7a"
      }
    },
    {
      "cell_type": "code",
      "source": [
        "import numpy as np\n",
        "from multiprocessing import Pool\n",
        "\n",
        "def parallelize_dataframe(df, func, num_cores):\n",
        "    df_split = np.array_split(df, num_cores)\n",
        "    pool = Pool(num_cores)\n",
        "    df = pd.concat(pool.map(func, df_split))\n",
        "    print(df.iloc[0])\n",
        "    pool.close()\n",
        "    pool.join()\n",
        "    return df\n",
        "\n",
        "def process_data(df):\n",
        "    songs_dict = {\n",
        "        'Title': [],\n",
        "        'Singer': [],\n",
        "        'Song_ID': [],\n",
        "        'Release_Date': [],\n",
        "        'Like_Count': [],\n",
        "        'lyrics': [],\n",
        "        'Album': [],\n",
        "    }\n",
        "    for row in df.itertuples(index=False):\n",
        "        for key, val in zip(songs_dict.keys(), foo(row.songId, row.like_count)):\n",
        "            songs_dict[key].append(val)\n",
        "\n",
        "    return pd.DataFrame(songs_dict)\n",
        "start_range = 1024\n",
        "num_cores = multiprocessing.cpu_count()  # 사용 가능한 CPU 코어 수\n",
        "print(num_cores)\n",
        "result_df = parallelize_dataframe(df, process_data, num_cores)\n"
      ],
      "metadata": {
        "colab": {
          "base_uri": "https://localhost:8080/",
          "height": 1000
        },
        "id": "kU7j2hoRCXXx",
        "outputId": "027879d7-f0d7-40ac-a8d4-be52b8b3d629"
      },
      "execution_count": null,
      "outputs": [
        {
          "output_type": "stream",
          "name": "stdout",
          "text": [
            "2\n"
          ]
        },
        {
          "output_type": "stream",
          "name": "stderr",
          "text": [
            "Process ForkPoolWorker-1:\n",
            "Process ForkPoolWorker-2:\n",
            "Traceback (most recent call last):\n",
            "Traceback (most recent call last):\n",
            "  File \"/usr/lib/python3.10/multiprocessing/process.py\", line 314, in _bootstrap\n",
            "    self.run()\n",
            "  File \"/usr/lib/python3.10/multiprocessing/process.py\", line 314, in _bootstrap\n",
            "    self.run()\n",
            "  File \"/usr/lib/python3.10/multiprocessing/process.py\", line 108, in run\n",
            "    self._target(*self._args, **self._kwargs)\n",
            "  File \"/usr/lib/python3.10/multiprocessing/process.py\", line 108, in run\n",
            "    self._target(*self._args, **self._kwargs)\n",
            "  File \"/usr/lib/python3.10/multiprocessing/pool.py\", line 114, in worker\n",
            "    task = get()\n",
            "  File \"/usr/lib/python3.10/multiprocessing/pool.py\", line 125, in worker\n",
            "    result = (True, func(*args, **kwds))\n",
            "  File \"/usr/lib/python3.10/multiprocessing/pool.py\", line 48, in mapstar\n",
            "    return list(map(*args))\n",
            "  File \"/usr/lib/python3.10/multiprocessing/queues.py\", line 365, in get\n",
            "    res = self._reader.recv_bytes()\n",
            "  File \"<ipython-input-27-8515fa28a5e9>\", line 24, in process_data\n",
            "    for key, val in zip(songs_dict.keys(), foo(row.songId, row.like_count)):\n",
            "  File \"/usr/lib/python3.10/multiprocessing/connection.py\", line 216, in recv_bytes\n",
            "    buf = self._recv_bytes(maxlength)\n",
            "  File \"/usr/lib/python3.10/multiprocessing/connection.py\", line 414, in _recv_bytes\n",
            "    buf = self._recv(4)\n",
            "  File \"/usr/lib/python3.10/multiprocessing/connection.py\", line 379, in _recv\n",
            "    chunk = read(handle, remaining)\n",
            "  File \"<ipython-input-21-e99e9c435e1f>\", line 24, in foo\n",
            "    driver.implicitly_wait(3)\n",
            "KeyboardInterrupt\n",
            "  File \"/usr/local/lib/python3.10/dist-packages/selenium/webdriver/remote/webdriver.py\", line 652, in implicitly_wait\n",
            "    self.execute(Command.SET_TIMEOUTS, {\"implicit\": int(float(time_to_wait) * 1000)})\n",
            "  File \"/usr/local/lib/python3.10/dist-packages/selenium/webdriver/remote/webdriver.py\", line 344, in execute\n",
            "    response = self.command_executor.execute(driver_command, params)\n",
            "  File \"/usr/local/lib/python3.10/dist-packages/selenium/webdriver/remote/remote_connection.py\", line 290, in execute\n",
            "    return self._request(command_info[0], url, body=data)\n",
            "  File \"/usr/local/lib/python3.10/dist-packages/selenium/webdriver/remote/remote_connection.py\", line 311, in _request\n",
            "    response = self._conn.request(method, url, body=body, headers=headers)\n",
            "  File \"/usr/local/lib/python3.10/dist-packages/urllib3/_request_methods.py\", line 118, in request\n",
            "    return self.request_encode_body(\n",
            "  File \"/usr/local/lib/python3.10/dist-packages/urllib3/_request_methods.py\", line 217, in request_encode_body\n",
            "    return self.urlopen(method, url, **extra_kw)\n",
            "  File \"/usr/local/lib/python3.10/dist-packages/urllib3/poolmanager.py\", line 443, in urlopen\n",
            "    response = conn.urlopen(method, u.request_uri, **kw)\n"
          ]
        },
        {
          "output_type": "error",
          "ename": "KeyboardInterrupt",
          "evalue": "ignored",
          "traceback": [
            "\u001b[0;31m---------------------------------------------------------------------------\u001b[0m",
            "\u001b[0;31mKeyboardInterrupt\u001b[0m                         Traceback (most recent call last)",
            "\u001b[0;32m<ipython-input-27-8515fa28a5e9>\u001b[0m in \u001b[0;36m<cell line: 31>\u001b[0;34m()\u001b[0m\n\u001b[1;32m     29\u001b[0m \u001b[0mnum_cores\u001b[0m \u001b[0;34m=\u001b[0m \u001b[0mmultiprocessing\u001b[0m\u001b[0;34m.\u001b[0m\u001b[0mcpu_count\u001b[0m\u001b[0;34m(\u001b[0m\u001b[0;34m)\u001b[0m  \u001b[0;31m# 사용 가능한 CPU 코어 수\u001b[0m\u001b[0;34m\u001b[0m\u001b[0;34m\u001b[0m\u001b[0m\n\u001b[1;32m     30\u001b[0m \u001b[0mprint\u001b[0m\u001b[0;34m(\u001b[0m\u001b[0mnum_cores\u001b[0m\u001b[0;34m)\u001b[0m\u001b[0;34m\u001b[0m\u001b[0;34m\u001b[0m\u001b[0m\n\u001b[0;32m---> 31\u001b[0;31m \u001b[0mresult_df\u001b[0m \u001b[0;34m=\u001b[0m \u001b[0mparallelize_dataframe\u001b[0m\u001b[0;34m(\u001b[0m\u001b[0mdf\u001b[0m\u001b[0;34m,\u001b[0m \u001b[0mprocess_data\u001b[0m\u001b[0;34m,\u001b[0m \u001b[0mnum_cores\u001b[0m\u001b[0;34m)\u001b[0m\u001b[0;34m\u001b[0m\u001b[0;34m\u001b[0m\u001b[0m\n\u001b[0m",
            "\u001b[0;32m<ipython-input-27-8515fa28a5e9>\u001b[0m in \u001b[0;36mparallelize_dataframe\u001b[0;34m(df, func, num_cores)\u001b[0m\n\u001b[1;32m      5\u001b[0m     \u001b[0mdf_split\u001b[0m \u001b[0;34m=\u001b[0m \u001b[0mnp\u001b[0m\u001b[0;34m.\u001b[0m\u001b[0marray_split\u001b[0m\u001b[0;34m(\u001b[0m\u001b[0mdf\u001b[0m\u001b[0;34m,\u001b[0m \u001b[0mnum_cores\u001b[0m\u001b[0;34m)\u001b[0m\u001b[0;34m\u001b[0m\u001b[0;34m\u001b[0m\u001b[0m\n\u001b[1;32m      6\u001b[0m     \u001b[0mpool\u001b[0m \u001b[0;34m=\u001b[0m \u001b[0mPool\u001b[0m\u001b[0;34m(\u001b[0m\u001b[0mnum_cores\u001b[0m\u001b[0;34m)\u001b[0m\u001b[0;34m\u001b[0m\u001b[0;34m\u001b[0m\u001b[0m\n\u001b[0;32m----> 7\u001b[0;31m     \u001b[0mdf\u001b[0m \u001b[0;34m=\u001b[0m \u001b[0mpd\u001b[0m\u001b[0;34m.\u001b[0m\u001b[0mconcat\u001b[0m\u001b[0;34m(\u001b[0m\u001b[0mpool\u001b[0m\u001b[0;34m.\u001b[0m\u001b[0mmap\u001b[0m\u001b[0;34m(\u001b[0m\u001b[0mfunc\u001b[0m\u001b[0;34m,\u001b[0m \u001b[0mdf_split\u001b[0m\u001b[0;34m)\u001b[0m\u001b[0;34m)\u001b[0m\u001b[0;34m\u001b[0m\u001b[0;34m\u001b[0m\u001b[0m\n\u001b[0m\u001b[1;32m      8\u001b[0m     \u001b[0mprint\u001b[0m\u001b[0;34m(\u001b[0m\u001b[0mdf\u001b[0m\u001b[0;34m.\u001b[0m\u001b[0miloc\u001b[0m\u001b[0;34m[\u001b[0m\u001b[0;36m0\u001b[0m\u001b[0;34m]\u001b[0m\u001b[0;34m)\u001b[0m\u001b[0;34m\u001b[0m\u001b[0;34m\u001b[0m\u001b[0m\n\u001b[1;32m      9\u001b[0m     \u001b[0mpool\u001b[0m\u001b[0;34m.\u001b[0m\u001b[0mclose\u001b[0m\u001b[0;34m(\u001b[0m\u001b[0;34m)\u001b[0m\u001b[0;34m\u001b[0m\u001b[0;34m\u001b[0m\u001b[0m\n",
            "\u001b[0;32m/usr/lib/python3.10/multiprocessing/pool.py\u001b[0m in \u001b[0;36mmap\u001b[0;34m(self, func, iterable, chunksize)\u001b[0m\n\u001b[1;32m    365\u001b[0m         \u001b[0;32min\u001b[0m \u001b[0ma\u001b[0m \u001b[0mlist\u001b[0m \u001b[0mthat\u001b[0m \u001b[0;32mis\u001b[0m \u001b[0mreturned\u001b[0m\u001b[0;34m.\u001b[0m\u001b[0;34m\u001b[0m\u001b[0;34m\u001b[0m\u001b[0m\n\u001b[1;32m    366\u001b[0m         '''\n\u001b[0;32m--> 367\u001b[0;31m         \u001b[0;32mreturn\u001b[0m \u001b[0mself\u001b[0m\u001b[0;34m.\u001b[0m\u001b[0m_map_async\u001b[0m\u001b[0;34m(\u001b[0m\u001b[0mfunc\u001b[0m\u001b[0;34m,\u001b[0m \u001b[0miterable\u001b[0m\u001b[0;34m,\u001b[0m \u001b[0mmapstar\u001b[0m\u001b[0;34m,\u001b[0m \u001b[0mchunksize\u001b[0m\u001b[0;34m)\u001b[0m\u001b[0;34m.\u001b[0m\u001b[0mget\u001b[0m\u001b[0;34m(\u001b[0m\u001b[0;34m)\u001b[0m\u001b[0;34m\u001b[0m\u001b[0;34m\u001b[0m\u001b[0m\n\u001b[0m\u001b[1;32m    368\u001b[0m \u001b[0;34m\u001b[0m\u001b[0m\n\u001b[1;32m    369\u001b[0m     \u001b[0;32mdef\u001b[0m \u001b[0mstarmap\u001b[0m\u001b[0;34m(\u001b[0m\u001b[0mself\u001b[0m\u001b[0;34m,\u001b[0m \u001b[0mfunc\u001b[0m\u001b[0;34m,\u001b[0m \u001b[0miterable\u001b[0m\u001b[0;34m,\u001b[0m \u001b[0mchunksize\u001b[0m\u001b[0;34m=\u001b[0m\u001b[0;32mNone\u001b[0m\u001b[0;34m)\u001b[0m\u001b[0;34m:\u001b[0m\u001b[0;34m\u001b[0m\u001b[0;34m\u001b[0m\u001b[0m\n",
            "\u001b[0;32m/usr/lib/python3.10/multiprocessing/pool.py\u001b[0m in \u001b[0;36mget\u001b[0;34m(self, timeout)\u001b[0m\n\u001b[1;32m    766\u001b[0m \u001b[0;34m\u001b[0m\u001b[0m\n\u001b[1;32m    767\u001b[0m     \u001b[0;32mdef\u001b[0m \u001b[0mget\u001b[0m\u001b[0;34m(\u001b[0m\u001b[0mself\u001b[0m\u001b[0;34m,\u001b[0m \u001b[0mtimeout\u001b[0m\u001b[0;34m=\u001b[0m\u001b[0;32mNone\u001b[0m\u001b[0;34m)\u001b[0m\u001b[0;34m:\u001b[0m\u001b[0;34m\u001b[0m\u001b[0;34m\u001b[0m\u001b[0m\n\u001b[0;32m--> 768\u001b[0;31m         \u001b[0mself\u001b[0m\u001b[0;34m.\u001b[0m\u001b[0mwait\u001b[0m\u001b[0;34m(\u001b[0m\u001b[0mtimeout\u001b[0m\u001b[0;34m)\u001b[0m\u001b[0;34m\u001b[0m\u001b[0;34m\u001b[0m\u001b[0m\n\u001b[0m\u001b[1;32m    769\u001b[0m         \u001b[0;32mif\u001b[0m \u001b[0;32mnot\u001b[0m \u001b[0mself\u001b[0m\u001b[0;34m.\u001b[0m\u001b[0mready\u001b[0m\u001b[0;34m(\u001b[0m\u001b[0;34m)\u001b[0m\u001b[0;34m:\u001b[0m\u001b[0;34m\u001b[0m\u001b[0;34m\u001b[0m\u001b[0m\n\u001b[1;32m    770\u001b[0m             \u001b[0;32mraise\u001b[0m \u001b[0mTimeoutError\u001b[0m\u001b[0;34m\u001b[0m\u001b[0;34m\u001b[0m\u001b[0m\n",
            "\u001b[0;32m/usr/lib/python3.10/multiprocessing/pool.py\u001b[0m in \u001b[0;36mwait\u001b[0;34m(self, timeout)\u001b[0m\n\u001b[1;32m    763\u001b[0m \u001b[0;34m\u001b[0m\u001b[0m\n\u001b[1;32m    764\u001b[0m     \u001b[0;32mdef\u001b[0m \u001b[0mwait\u001b[0m\u001b[0;34m(\u001b[0m\u001b[0mself\u001b[0m\u001b[0;34m,\u001b[0m \u001b[0mtimeout\u001b[0m\u001b[0;34m=\u001b[0m\u001b[0;32mNone\u001b[0m\u001b[0;34m)\u001b[0m\u001b[0;34m:\u001b[0m\u001b[0;34m\u001b[0m\u001b[0;34m\u001b[0m\u001b[0m\n\u001b[0;32m--> 765\u001b[0;31m         \u001b[0mself\u001b[0m\u001b[0;34m.\u001b[0m\u001b[0m_event\u001b[0m\u001b[0;34m.\u001b[0m\u001b[0mwait\u001b[0m\u001b[0;34m(\u001b[0m\u001b[0mtimeout\u001b[0m\u001b[0;34m)\u001b[0m\u001b[0;34m\u001b[0m\u001b[0;34m\u001b[0m\u001b[0m\n\u001b[0m\u001b[1;32m    766\u001b[0m \u001b[0;34m\u001b[0m\u001b[0m\n\u001b[1;32m    767\u001b[0m     \u001b[0;32mdef\u001b[0m \u001b[0mget\u001b[0m\u001b[0;34m(\u001b[0m\u001b[0mself\u001b[0m\u001b[0;34m,\u001b[0m \u001b[0mtimeout\u001b[0m\u001b[0;34m=\u001b[0m\u001b[0;32mNone\u001b[0m\u001b[0;34m)\u001b[0m\u001b[0;34m:\u001b[0m\u001b[0;34m\u001b[0m\u001b[0;34m\u001b[0m\u001b[0m\n",
            "\u001b[0;32m/usr/lib/python3.10/threading.py\u001b[0m in \u001b[0;36mwait\u001b[0;34m(self, timeout)\u001b[0m\n\u001b[1;32m    605\u001b[0m             \u001b[0msignaled\u001b[0m \u001b[0;34m=\u001b[0m \u001b[0mself\u001b[0m\u001b[0;34m.\u001b[0m\u001b[0m_flag\u001b[0m\u001b[0;34m\u001b[0m\u001b[0;34m\u001b[0m\u001b[0m\n\u001b[1;32m    606\u001b[0m             \u001b[0;32mif\u001b[0m \u001b[0;32mnot\u001b[0m \u001b[0msignaled\u001b[0m\u001b[0;34m:\u001b[0m\u001b[0;34m\u001b[0m\u001b[0;34m\u001b[0m\u001b[0m\n\u001b[0;32m--> 607\u001b[0;31m                 \u001b[0msignaled\u001b[0m \u001b[0;34m=\u001b[0m \u001b[0mself\u001b[0m\u001b[0;34m.\u001b[0m\u001b[0m_cond\u001b[0m\u001b[0;34m.\u001b[0m\u001b[0mwait\u001b[0m\u001b[0;34m(\u001b[0m\u001b[0mtimeout\u001b[0m\u001b[0;34m)\u001b[0m\u001b[0;34m\u001b[0m\u001b[0;34m\u001b[0m\u001b[0m\n\u001b[0m\u001b[1;32m    608\u001b[0m             \u001b[0;32mreturn\u001b[0m \u001b[0msignaled\u001b[0m\u001b[0;34m\u001b[0m\u001b[0;34m\u001b[0m\u001b[0m\n\u001b[1;32m    609\u001b[0m \u001b[0;34m\u001b[0m\u001b[0m\n",
            "\u001b[0;32m/usr/lib/python3.10/threading.py\u001b[0m in \u001b[0;36mwait\u001b[0;34m(self, timeout)\u001b[0m\n\u001b[1;32m    318\u001b[0m         \u001b[0;32mtry\u001b[0m\u001b[0;34m:\u001b[0m    \u001b[0;31m# restore state no matter what (e.g., KeyboardInterrupt)\u001b[0m\u001b[0;34m\u001b[0m\u001b[0;34m\u001b[0m\u001b[0m\n\u001b[1;32m    319\u001b[0m             \u001b[0;32mif\u001b[0m \u001b[0mtimeout\u001b[0m \u001b[0;32mis\u001b[0m \u001b[0;32mNone\u001b[0m\u001b[0;34m:\u001b[0m\u001b[0;34m\u001b[0m\u001b[0;34m\u001b[0m\u001b[0m\n\u001b[0;32m--> 320\u001b[0;31m                 \u001b[0mwaiter\u001b[0m\u001b[0;34m.\u001b[0m\u001b[0macquire\u001b[0m\u001b[0;34m(\u001b[0m\u001b[0;34m)\u001b[0m\u001b[0;34m\u001b[0m\u001b[0;34m\u001b[0m\u001b[0m\n\u001b[0m\u001b[1;32m    321\u001b[0m                 \u001b[0mgotit\u001b[0m \u001b[0;34m=\u001b[0m \u001b[0;32mTrue\u001b[0m\u001b[0;34m\u001b[0m\u001b[0;34m\u001b[0m\u001b[0m\n\u001b[1;32m    322\u001b[0m             \u001b[0;32melse\u001b[0m\u001b[0;34m:\u001b[0m\u001b[0;34m\u001b[0m\u001b[0;34m\u001b[0m\u001b[0m\n",
            "\u001b[0;31mKeyboardInterrupt\u001b[0m: "
          ]
        },
        {
          "output_type": "stream",
          "name": "stderr",
          "text": [
            "  File \"/usr/local/lib/python3.10/dist-packages/urllib3/connectionpool.py\", line 791, in urlopen\n",
            "    response = self._make_request(\n",
            "  File \"/usr/local/lib/python3.10/dist-packages/urllib3/connectionpool.py\", line 537, in _make_request\n",
            "    response = conn.getresponse()\n",
            "  File \"/usr/local/lib/python3.10/dist-packages/urllib3/connection.py\", line 461, in getresponse\n",
            "    httplib_response = super().getresponse()\n",
            "  File \"/usr/lib/python3.10/http/client.py\", line 1375, in getresponse\n",
            "    response.begin()\n",
            "  File \"/usr/lib/python3.10/http/client.py\", line 318, in begin\n",
            "    version, status, reason = self._read_status()\n",
            "  File \"/usr/lib/python3.10/http/client.py\", line 279, in _read_status\n",
            "    line = str(self.fp.readline(_MAXLINE + 1), \"iso-8859-1\")\n",
            "  File \"/usr/lib/python3.10/socket.py\", line 705, in readinto\n",
            "    return self._sock.recv_into(b)\n",
            "KeyboardInterrupt\n"
          ]
        }
      ]
    },
    {
      "cell_type": "markdown",
      "metadata": {
        "id": "jJ0PSH5xD-do"
      },
      "source": [
        "# etc\n"
      ]
    },
    {
      "cell_type": "code",
      "source": [],
      "metadata": {
        "id": "HOJsWrVq40li"
      },
      "execution_count": null,
      "outputs": []
    },
    {
      "cell_type": "code",
      "execution_count": null,
      "metadata": {
        "id": "127G3ZHaZn2i",
        "colab": {
          "base_uri": "https://localhost:8080/",
          "height": 402
        },
        "outputId": "b8810554-21a8-401f-b2ed-c742fec23999"
      },
      "outputs": [
        {
          "output_type": "stream",
          "name": "stdout",
          "text": [
            "dance\n"
          ]
        },
        {
          "output_type": "error",
          "ename": "KeyError",
          "evalue": "ignored",
          "traceback": [
            "\u001b[0;31m---------------------------------------------------------------------------\u001b[0m",
            "\u001b[0;31mKeyError\u001b[0m                                  Traceback (most recent call last)",
            "\u001b[0;32m<ipython-input-37-d0c24438f749>\u001b[0m in \u001b[0;36m<cell line: 1>\u001b[0;34m()\u001b[0m\n\u001b[1;32m      2\u001b[0m     \u001b[0mprint\u001b[0m\u001b[0;34m(\u001b[0m\u001b[0mgenre\u001b[0m\u001b[0;34m)\u001b[0m\u001b[0;34m\u001b[0m\u001b[0;34m\u001b[0m\u001b[0m\n\u001b[1;32m      3\u001b[0m     \u001b[0mdf\u001b[0m \u001b[0;34m=\u001b[0m \u001b[0mpd\u001b[0m\u001b[0;34m.\u001b[0m\u001b[0mread_csv\u001b[0m\u001b[0;34m(\u001b[0m\u001b[0;34mf\"/content/{genre}_001_025_melonIds.csv\"\u001b[0m\u001b[0;34m,\u001b[0m \u001b[0mencoding\u001b[0m\u001b[0;34m=\u001b[0m\u001b[0;34m\"utf-8-sig\"\u001b[0m\u001b[0;34m)\u001b[0m\u001b[0;34m\u001b[0m\u001b[0;34m\u001b[0m\u001b[0m\n\u001b[0;32m----> 4\u001b[0;31m     \u001b[0mdf\u001b[0m\u001b[0;34m.\u001b[0m\u001b[0mdrop\u001b[0m\u001b[0;34m(\u001b[0m\u001b[0;34m\"Unnamed: 0\"\u001b[0m\u001b[0;34m,\u001b[0m \u001b[0maxis\u001b[0m\u001b[0;34m=\u001b[0m\u001b[0;36m1\u001b[0m\u001b[0;34m)\u001b[0m\u001b[0;34m.\u001b[0m\u001b[0mto_csv\u001b[0m\u001b[0;34m(\u001b[0m\u001b[0;34mf\"/content/{genre}_001_025_melonIds.csv\"\u001b[0m\u001b[0;34m,\u001b[0m \u001b[0mindex\u001b[0m\u001b[0;34m=\u001b[0m\u001b[0;32mFalse\u001b[0m\u001b[0;34m,\u001b[0m \u001b[0mencoding\u001b[0m\u001b[0;34m=\u001b[0m\u001b[0;34m\"utf-8-sig\"\u001b[0m\u001b[0;34m)\u001b[0m\u001b[0;34m\u001b[0m\u001b[0;34m\u001b[0m\u001b[0m\n\u001b[0m\u001b[1;32m      5\u001b[0m     \u001b[0;31m# pd.read_csv(\"/content/{genre}_001_025_melonIds.csv\", encoding=\"utf-8-sig\", index=False)\u001b[0m\u001b[0;34m\u001b[0m\u001b[0;34m\u001b[0m\u001b[0m\n",
            "\u001b[0;32m/usr/local/lib/python3.10/dist-packages/pandas/util/_decorators.py\u001b[0m in \u001b[0;36mwrapper\u001b[0;34m(*args, **kwargs)\u001b[0m\n\u001b[1;32m    329\u001b[0m                     \u001b[0mstacklevel\u001b[0m\u001b[0;34m=\u001b[0m\u001b[0mfind_stack_level\u001b[0m\u001b[0;34m(\u001b[0m\u001b[0;34m)\u001b[0m\u001b[0;34m,\u001b[0m\u001b[0;34m\u001b[0m\u001b[0;34m\u001b[0m\u001b[0m\n\u001b[1;32m    330\u001b[0m                 )\n\u001b[0;32m--> 331\u001b[0;31m             \u001b[0;32mreturn\u001b[0m \u001b[0mfunc\u001b[0m\u001b[0;34m(\u001b[0m\u001b[0;34m*\u001b[0m\u001b[0margs\u001b[0m\u001b[0;34m,\u001b[0m \u001b[0;34m**\u001b[0m\u001b[0mkwargs\u001b[0m\u001b[0;34m)\u001b[0m\u001b[0;34m\u001b[0m\u001b[0;34m\u001b[0m\u001b[0m\n\u001b[0m\u001b[1;32m    332\u001b[0m \u001b[0;34m\u001b[0m\u001b[0m\n\u001b[1;32m    333\u001b[0m         \u001b[0;31m# error: \"Callable[[VarArg(Any), KwArg(Any)], Any]\" has no\u001b[0m\u001b[0;34m\u001b[0m\u001b[0;34m\u001b[0m\u001b[0m\n",
            "\u001b[0;32m/usr/local/lib/python3.10/dist-packages/pandas/core/frame.py\u001b[0m in \u001b[0;36mdrop\u001b[0;34m(self, labels, axis, index, columns, level, inplace, errors)\u001b[0m\n\u001b[1;32m   5397\u001b[0m                 \u001b[0mweight\u001b[0m  \u001b[0;36m1.0\u001b[0m     \u001b[0;36m0.8\u001b[0m\u001b[0;34m\u001b[0m\u001b[0;34m\u001b[0m\u001b[0m\n\u001b[1;32m   5398\u001b[0m         \"\"\"\n\u001b[0;32m-> 5399\u001b[0;31m         return super().drop(\n\u001b[0m\u001b[1;32m   5400\u001b[0m             \u001b[0mlabels\u001b[0m\u001b[0;34m=\u001b[0m\u001b[0mlabels\u001b[0m\u001b[0;34m,\u001b[0m\u001b[0;34m\u001b[0m\u001b[0;34m\u001b[0m\u001b[0m\n\u001b[1;32m   5401\u001b[0m             \u001b[0maxis\u001b[0m\u001b[0;34m=\u001b[0m\u001b[0maxis\u001b[0m\u001b[0;34m,\u001b[0m\u001b[0;34m\u001b[0m\u001b[0;34m\u001b[0m\u001b[0m\n",
            "\u001b[0;32m/usr/local/lib/python3.10/dist-packages/pandas/util/_decorators.py\u001b[0m in \u001b[0;36mwrapper\u001b[0;34m(*args, **kwargs)\u001b[0m\n\u001b[1;32m    329\u001b[0m                     \u001b[0mstacklevel\u001b[0m\u001b[0;34m=\u001b[0m\u001b[0mfind_stack_level\u001b[0m\u001b[0;34m(\u001b[0m\u001b[0;34m)\u001b[0m\u001b[0;34m,\u001b[0m\u001b[0;34m\u001b[0m\u001b[0;34m\u001b[0m\u001b[0m\n\u001b[1;32m    330\u001b[0m                 )\n\u001b[0;32m--> 331\u001b[0;31m             \u001b[0;32mreturn\u001b[0m \u001b[0mfunc\u001b[0m\u001b[0;34m(\u001b[0m\u001b[0;34m*\u001b[0m\u001b[0margs\u001b[0m\u001b[0;34m,\u001b[0m \u001b[0;34m**\u001b[0m\u001b[0mkwargs\u001b[0m\u001b[0;34m)\u001b[0m\u001b[0;34m\u001b[0m\u001b[0;34m\u001b[0m\u001b[0m\n\u001b[0m\u001b[1;32m    332\u001b[0m \u001b[0;34m\u001b[0m\u001b[0m\n\u001b[1;32m    333\u001b[0m         \u001b[0;31m# error: \"Callable[[VarArg(Any), KwArg(Any)], Any]\" has no\u001b[0m\u001b[0;34m\u001b[0m\u001b[0;34m\u001b[0m\u001b[0m\n",
            "\u001b[0;32m/usr/local/lib/python3.10/dist-packages/pandas/core/generic.py\u001b[0m in \u001b[0;36mdrop\u001b[0;34m(self, labels, axis, index, columns, level, inplace, errors)\u001b[0m\n\u001b[1;32m   4503\u001b[0m         \u001b[0;32mfor\u001b[0m \u001b[0maxis\u001b[0m\u001b[0;34m,\u001b[0m \u001b[0mlabels\u001b[0m \u001b[0;32min\u001b[0m \u001b[0maxes\u001b[0m\u001b[0;34m.\u001b[0m\u001b[0mitems\u001b[0m\u001b[0;34m(\u001b[0m\u001b[0;34m)\u001b[0m\u001b[0;34m:\u001b[0m\u001b[0;34m\u001b[0m\u001b[0;34m\u001b[0m\u001b[0m\n\u001b[1;32m   4504\u001b[0m             \u001b[0;32mif\u001b[0m \u001b[0mlabels\u001b[0m \u001b[0;32mis\u001b[0m \u001b[0;32mnot\u001b[0m \u001b[0;32mNone\u001b[0m\u001b[0;34m:\u001b[0m\u001b[0;34m\u001b[0m\u001b[0;34m\u001b[0m\u001b[0m\n\u001b[0;32m-> 4505\u001b[0;31m                 \u001b[0mobj\u001b[0m \u001b[0;34m=\u001b[0m \u001b[0mobj\u001b[0m\u001b[0;34m.\u001b[0m\u001b[0m_drop_axis\u001b[0m\u001b[0;34m(\u001b[0m\u001b[0mlabels\u001b[0m\u001b[0;34m,\u001b[0m \u001b[0maxis\u001b[0m\u001b[0;34m,\u001b[0m \u001b[0mlevel\u001b[0m\u001b[0;34m=\u001b[0m\u001b[0mlevel\u001b[0m\u001b[0;34m,\u001b[0m \u001b[0merrors\u001b[0m\u001b[0;34m=\u001b[0m\u001b[0merrors\u001b[0m\u001b[0;34m)\u001b[0m\u001b[0;34m\u001b[0m\u001b[0;34m\u001b[0m\u001b[0m\n\u001b[0m\u001b[1;32m   4506\u001b[0m \u001b[0;34m\u001b[0m\u001b[0m\n\u001b[1;32m   4507\u001b[0m         \u001b[0;32mif\u001b[0m \u001b[0minplace\u001b[0m\u001b[0;34m:\u001b[0m\u001b[0;34m\u001b[0m\u001b[0;34m\u001b[0m\u001b[0m\n",
            "\u001b[0;32m/usr/local/lib/python3.10/dist-packages/pandas/core/generic.py\u001b[0m in \u001b[0;36m_drop_axis\u001b[0;34m(self, labels, axis, level, errors, only_slice)\u001b[0m\n\u001b[1;32m   4544\u001b[0m                 \u001b[0mnew_axis\u001b[0m \u001b[0;34m=\u001b[0m \u001b[0maxis\u001b[0m\u001b[0;34m.\u001b[0m\u001b[0mdrop\u001b[0m\u001b[0;34m(\u001b[0m\u001b[0mlabels\u001b[0m\u001b[0;34m,\u001b[0m \u001b[0mlevel\u001b[0m\u001b[0;34m=\u001b[0m\u001b[0mlevel\u001b[0m\u001b[0;34m,\u001b[0m \u001b[0merrors\u001b[0m\u001b[0;34m=\u001b[0m\u001b[0merrors\u001b[0m\u001b[0;34m)\u001b[0m\u001b[0;34m\u001b[0m\u001b[0;34m\u001b[0m\u001b[0m\n\u001b[1;32m   4545\u001b[0m             \u001b[0;32melse\u001b[0m\u001b[0;34m:\u001b[0m\u001b[0;34m\u001b[0m\u001b[0;34m\u001b[0m\u001b[0m\n\u001b[0;32m-> 4546\u001b[0;31m                 \u001b[0mnew_axis\u001b[0m \u001b[0;34m=\u001b[0m \u001b[0maxis\u001b[0m\u001b[0;34m.\u001b[0m\u001b[0mdrop\u001b[0m\u001b[0;34m(\u001b[0m\u001b[0mlabels\u001b[0m\u001b[0;34m,\u001b[0m \u001b[0merrors\u001b[0m\u001b[0;34m=\u001b[0m\u001b[0merrors\u001b[0m\u001b[0;34m)\u001b[0m\u001b[0;34m\u001b[0m\u001b[0;34m\u001b[0m\u001b[0m\n\u001b[0m\u001b[1;32m   4547\u001b[0m             \u001b[0mindexer\u001b[0m \u001b[0;34m=\u001b[0m \u001b[0maxis\u001b[0m\u001b[0;34m.\u001b[0m\u001b[0mget_indexer\u001b[0m\u001b[0;34m(\u001b[0m\u001b[0mnew_axis\u001b[0m\u001b[0;34m)\u001b[0m\u001b[0;34m\u001b[0m\u001b[0;34m\u001b[0m\u001b[0m\n\u001b[1;32m   4548\u001b[0m \u001b[0;34m\u001b[0m\u001b[0m\n",
            "\u001b[0;32m/usr/local/lib/python3.10/dist-packages/pandas/core/indexes/base.py\u001b[0m in \u001b[0;36mdrop\u001b[0;34m(self, labels, errors)\u001b[0m\n\u001b[1;32m   6932\u001b[0m         \u001b[0;32mif\u001b[0m \u001b[0mmask\u001b[0m\u001b[0;34m.\u001b[0m\u001b[0many\u001b[0m\u001b[0;34m(\u001b[0m\u001b[0;34m)\u001b[0m\u001b[0;34m:\u001b[0m\u001b[0;34m\u001b[0m\u001b[0;34m\u001b[0m\u001b[0m\n\u001b[1;32m   6933\u001b[0m             \u001b[0;32mif\u001b[0m \u001b[0merrors\u001b[0m \u001b[0;34m!=\u001b[0m \u001b[0;34m\"ignore\"\u001b[0m\u001b[0;34m:\u001b[0m\u001b[0;34m\u001b[0m\u001b[0;34m\u001b[0m\u001b[0m\n\u001b[0;32m-> 6934\u001b[0;31m                 \u001b[0;32mraise\u001b[0m \u001b[0mKeyError\u001b[0m\u001b[0;34m(\u001b[0m\u001b[0;34mf\"{list(labels[mask])} not found in axis\"\u001b[0m\u001b[0;34m)\u001b[0m\u001b[0;34m\u001b[0m\u001b[0;34m\u001b[0m\u001b[0m\n\u001b[0m\u001b[1;32m   6935\u001b[0m             \u001b[0mindexer\u001b[0m \u001b[0;34m=\u001b[0m \u001b[0mindexer\u001b[0m\u001b[0;34m[\u001b[0m\u001b[0;34m~\u001b[0m\u001b[0mmask\u001b[0m\u001b[0;34m]\u001b[0m\u001b[0;34m\u001b[0m\u001b[0;34m\u001b[0m\u001b[0m\n\u001b[1;32m   6936\u001b[0m         \u001b[0;32mreturn\u001b[0m \u001b[0mself\u001b[0m\u001b[0;34m.\u001b[0m\u001b[0mdelete\u001b[0m\u001b[0;34m(\u001b[0m\u001b[0mindexer\u001b[0m\u001b[0;34m)\u001b[0m\u001b[0;34m\u001b[0m\u001b[0;34m\u001b[0m\u001b[0m\n",
            "\u001b[0;31mKeyError\u001b[0m: \"['Unnamed: 0'] not found in axis\""
          ]
        }
      ],
      "source": [
        "for genre in genre_codes.values():\n",
        "    print(genre)\n",
        "    df = pd.read_csv(f\"/content/{genre}_001_025_melonIds.csv\", encoding=\"utf-8-sig\")\n",
        "    df.drop(\"Unnamed: 0\", axis=1).to_csv(f\"/content/{genre}_001_025_melonIds.csv\", index=False, encoding=\"utf-8-sig\")\n",
        "    # pd.read_csv(\"/content/{genre}_001_025_melonIds.csv\", encoding=\"utf-8-sig\", index=False)"
      ]
    },
    {
      "cell_type": "code",
      "execution_count": null,
      "metadata": {
        "colab": {
          "base_uri": "https://localhost:8080/",
          "height": 423
        },
        "id": "Ucw75Czmi_lc",
        "outputId": "6b6b3b98-899c-4afb-ed69-90f610517384"
      },
      "outputs": [
        {
          "data": {
            "text/html": [
              "\n",
              "  <div id=\"df-ae1b9ee8-b510-49b8-a123-e906d62bee59\" class=\"colab-df-container\">\n",
              "    <div>\n",
              "<style scoped>\n",
              "    .dataframe tbody tr th:only-of-type {\n",
              "        vertical-align: middle;\n",
              "    }\n",
              "\n",
              "    .dataframe tbody tr th {\n",
              "        vertical-align: top;\n",
              "    }\n",
              "\n",
              "    .dataframe thead th {\n",
              "        text-align: right;\n",
              "    }\n",
              "</style>\n",
              "<table border=\"1\" class=\"dataframe\">\n",
              "  <thead>\n",
              "    <tr style=\"text-align: right;\">\n",
              "      <th></th>\n",
              "      <th>songId</th>\n",
              "      <th>like_count</th>\n",
              "    </tr>\n",
              "  </thead>\n",
              "  <tbody>\n",
              "    <tr>\n",
              "      <th>0</th>\n",
              "      <td>36963705</td>\n",
              "      <td>48</td>\n",
              "    </tr>\n",
              "    <tr>\n",
              "      <th>1</th>\n",
              "      <td>36965084</td>\n",
              "      <td>3</td>\n",
              "    </tr>\n",
              "    <tr>\n",
              "      <th>2</th>\n",
              "      <td>36964255</td>\n",
              "      <td>0</td>\n",
              "    </tr>\n",
              "    <tr>\n",
              "      <th>3</th>\n",
              "      <td>36962675</td>\n",
              "      <td>130</td>\n",
              "    </tr>\n",
              "    <tr>\n",
              "      <th>4</th>\n",
              "      <td>36961184</td>\n",
              "      <td>18</td>\n",
              "    </tr>\n",
              "    <tr>\n",
              "      <th>...</th>\n",
              "      <td>...</td>\n",
              "      <td>...</td>\n",
              "    </tr>\n",
              "    <tr>\n",
              "      <th>1245</th>\n",
              "      <td>35985167</td>\n",
              "      <td>195248</td>\n",
              "    </tr>\n",
              "    <tr>\n",
              "      <th>1246</th>\n",
              "      <td>35984500</td>\n",
              "      <td>334</td>\n",
              "    </tr>\n",
              "    <tr>\n",
              "      <th>1247</th>\n",
              "      <td>35980350</td>\n",
              "      <td>74</td>\n",
              "    </tr>\n",
              "    <tr>\n",
              "      <th>1248</th>\n",
              "      <td>35962512</td>\n",
              "      <td>5745</td>\n",
              "    </tr>\n",
              "    <tr>\n",
              "      <th>1249</th>\n",
              "      <td>35976650</td>\n",
              "      <td>1670</td>\n",
              "    </tr>\n",
              "  </tbody>\n",
              "</table>\n",
              "<p>1250 rows × 2 columns</p>\n",
              "</div>\n",
              "    <div class=\"colab-df-buttons\">\n",
              "\n",
              "  <div class=\"colab-df-container\">\n",
              "    <button class=\"colab-df-convert\" onclick=\"convertToInteractive('df-ae1b9ee8-b510-49b8-a123-e906d62bee59')\"\n",
              "            title=\"Convert this dataframe to an interactive table.\"\n",
              "            style=\"display:none;\">\n",
              "\n",
              "  <svg xmlns=\"http://www.w3.org/2000/svg\" height=\"24px\" viewBox=\"0 -960 960 960\">\n",
              "    <path d=\"M120-120v-720h720v720H120Zm60-500h600v-160H180v160Zm220 220h160v-160H400v160Zm0 220h160v-160H400v160ZM180-400h160v-160H180v160Zm440 0h160v-160H620v160ZM180-180h160v-160H180v160Zm440 0h160v-160H620v160Z\"/>\n",
              "  </svg>\n",
              "    </button>\n",
              "\n",
              "  <style>\n",
              "    .colab-df-container {\n",
              "      display:flex;\n",
              "      gap: 12px;\n",
              "    }\n",
              "\n",
              "    .colab-df-convert {\n",
              "      background-color: #E8F0FE;\n",
              "      border: none;\n",
              "      border-radius: 50%;\n",
              "      cursor: pointer;\n",
              "      display: none;\n",
              "      fill: #1967D2;\n",
              "      height: 32px;\n",
              "      padding: 0 0 0 0;\n",
              "      width: 32px;\n",
              "    }\n",
              "\n",
              "    .colab-df-convert:hover {\n",
              "      background-color: #E2EBFA;\n",
              "      box-shadow: 0px 1px 2px rgba(60, 64, 67, 0.3), 0px 1px 3px 1px rgba(60, 64, 67, 0.15);\n",
              "      fill: #174EA6;\n",
              "    }\n",
              "\n",
              "    .colab-df-buttons div {\n",
              "      margin-bottom: 4px;\n",
              "    }\n",
              "\n",
              "    [theme=dark] .colab-df-convert {\n",
              "      background-color: #3B4455;\n",
              "      fill: #D2E3FC;\n",
              "    }\n",
              "\n",
              "    [theme=dark] .colab-df-convert:hover {\n",
              "      background-color: #434B5C;\n",
              "      box-shadow: 0px 1px 3px 1px rgba(0, 0, 0, 0.15);\n",
              "      filter: drop-shadow(0px 1px 2px rgba(0, 0, 0, 0.3));\n",
              "      fill: #FFFFFF;\n",
              "    }\n",
              "  </style>\n",
              "\n",
              "    <script>\n",
              "      const buttonEl =\n",
              "        document.querySelector('#df-ae1b9ee8-b510-49b8-a123-e906d62bee59 button.colab-df-convert');\n",
              "      buttonEl.style.display =\n",
              "        google.colab.kernel.accessAllowed ? 'block' : 'none';\n",
              "\n",
              "      async function convertToInteractive(key) {\n",
              "        const element = document.querySelector('#df-ae1b9ee8-b510-49b8-a123-e906d62bee59');\n",
              "        const dataTable =\n",
              "          await google.colab.kernel.invokeFunction('convertToInteractive',\n",
              "                                                    [key], {});\n",
              "        if (!dataTable) return;\n",
              "\n",
              "        const docLinkHtml = 'Like what you see? Visit the ' +\n",
              "          '<a target=\"_blank\" href=https://colab.research.google.com/notebooks/data_table.ipynb>data table notebook</a>'\n",
              "          + ' to learn more about interactive tables.';\n",
              "        element.innerHTML = '';\n",
              "        dataTable['output_type'] = 'display_data';\n",
              "        await google.colab.output.renderOutput(dataTable, element);\n",
              "        const docLink = document.createElement('div');\n",
              "        docLink.innerHTML = docLinkHtml;\n",
              "        element.appendChild(docLink);\n",
              "      }\n",
              "    </script>\n",
              "  </div>\n",
              "\n",
              "\n",
              "<div id=\"df-5a50ef33-9f65-403d-a07e-5f0829226804\">\n",
              "  <button class=\"colab-df-quickchart\" onclick=\"quickchart('df-5a50ef33-9f65-403d-a07e-5f0829226804')\"\n",
              "            title=\"Suggest charts\"\n",
              "            style=\"display:none;\">\n",
              "\n",
              "<svg xmlns=\"http://www.w3.org/2000/svg\" height=\"24px\"viewBox=\"0 0 24 24\"\n",
              "     width=\"24px\">\n",
              "    <g>\n",
              "        <path d=\"M19 3H5c-1.1 0-2 .9-2 2v14c0 1.1.9 2 2 2h14c1.1 0 2-.9 2-2V5c0-1.1-.9-2-2-2zM9 17H7v-7h2v7zm4 0h-2V7h2v10zm4 0h-2v-4h2v4z\"/>\n",
              "    </g>\n",
              "</svg>\n",
              "  </button>\n",
              "\n",
              "<style>\n",
              "  .colab-df-quickchart {\n",
              "      --bg-color: #E8F0FE;\n",
              "      --fill-color: #1967D2;\n",
              "      --hover-bg-color: #E2EBFA;\n",
              "      --hover-fill-color: #174EA6;\n",
              "      --disabled-fill-color: #AAA;\n",
              "      --disabled-bg-color: #DDD;\n",
              "  }\n",
              "\n",
              "  [theme=dark] .colab-df-quickchart {\n",
              "      --bg-color: #3B4455;\n",
              "      --fill-color: #D2E3FC;\n",
              "      --hover-bg-color: #434B5C;\n",
              "      --hover-fill-color: #FFFFFF;\n",
              "      --disabled-bg-color: #3B4455;\n",
              "      --disabled-fill-color: #666;\n",
              "  }\n",
              "\n",
              "  .colab-df-quickchart {\n",
              "    background-color: var(--bg-color);\n",
              "    border: none;\n",
              "    border-radius: 50%;\n",
              "    cursor: pointer;\n",
              "    display: none;\n",
              "    fill: var(--fill-color);\n",
              "    height: 32px;\n",
              "    padding: 0;\n",
              "    width: 32px;\n",
              "  }\n",
              "\n",
              "  .colab-df-quickchart:hover {\n",
              "    background-color: var(--hover-bg-color);\n",
              "    box-shadow: 0 1px 2px rgba(60, 64, 67, 0.3), 0 1px 3px 1px rgba(60, 64, 67, 0.15);\n",
              "    fill: var(--button-hover-fill-color);\n",
              "  }\n",
              "\n",
              "  .colab-df-quickchart-complete:disabled,\n",
              "  .colab-df-quickchart-complete:disabled:hover {\n",
              "    background-color: var(--disabled-bg-color);\n",
              "    fill: var(--disabled-fill-color);\n",
              "    box-shadow: none;\n",
              "  }\n",
              "\n",
              "  .colab-df-spinner {\n",
              "    border: 2px solid var(--fill-color);\n",
              "    border-color: transparent;\n",
              "    border-bottom-color: var(--fill-color);\n",
              "    animation:\n",
              "      spin 1s steps(1) infinite;\n",
              "  }\n",
              "\n",
              "  @keyframes spin {\n",
              "    0% {\n",
              "      border-color: transparent;\n",
              "      border-bottom-color: var(--fill-color);\n",
              "      border-left-color: var(--fill-color);\n",
              "    }\n",
              "    20% {\n",
              "      border-color: transparent;\n",
              "      border-left-color: var(--fill-color);\n",
              "      border-top-color: var(--fill-color);\n",
              "    }\n",
              "    30% {\n",
              "      border-color: transparent;\n",
              "      border-left-color: var(--fill-color);\n",
              "      border-top-color: var(--fill-color);\n",
              "      border-right-color: var(--fill-color);\n",
              "    }\n",
              "    40% {\n",
              "      border-color: transparent;\n",
              "      border-right-color: var(--fill-color);\n",
              "      border-top-color: var(--fill-color);\n",
              "    }\n",
              "    60% {\n",
              "      border-color: transparent;\n",
              "      border-right-color: var(--fill-color);\n",
              "    }\n",
              "    80% {\n",
              "      border-color: transparent;\n",
              "      border-right-color: var(--fill-color);\n",
              "      border-bottom-color: var(--fill-color);\n",
              "    }\n",
              "    90% {\n",
              "      border-color: transparent;\n",
              "      border-bottom-color: var(--fill-color);\n",
              "    }\n",
              "  }\n",
              "</style>\n",
              "\n",
              "  <script>\n",
              "    async function quickchart(key) {\n",
              "      const quickchartButtonEl =\n",
              "        document.querySelector('#' + key + ' button');\n",
              "      quickchartButtonEl.disabled = true;  // To prevent multiple clicks.\n",
              "      quickchartButtonEl.classList.add('colab-df-spinner');\n",
              "      try {\n",
              "        const charts = await google.colab.kernel.invokeFunction(\n",
              "            'suggestCharts', [key], {});\n",
              "      } catch (error) {\n",
              "        console.error('Error during call to suggestCharts:', error);\n",
              "      }\n",
              "      quickchartButtonEl.classList.remove('colab-df-spinner');\n",
              "      quickchartButtonEl.classList.add('colab-df-quickchart-complete');\n",
              "    }\n",
              "    (() => {\n",
              "      let quickchartButtonEl =\n",
              "        document.querySelector('#df-5a50ef33-9f65-403d-a07e-5f0829226804 button');\n",
              "      quickchartButtonEl.style.display =\n",
              "        google.colab.kernel.accessAllowed ? 'block' : 'none';\n",
              "    })();\n",
              "  </script>\n",
              "</div>\n",
              "    </div>\n",
              "  </div>\n"
            ],
            "text/plain": [
              "        songId  like_count\n",
              "0     36963705          48\n",
              "1     36965084           3\n",
              "2     36964255           0\n",
              "3     36962675         130\n",
              "4     36961184          18\n",
              "...        ...         ...\n",
              "1245  35985167      195248\n",
              "1246  35984500         334\n",
              "1247  35980350          74\n",
              "1248  35962512        5745\n",
              "1249  35976650        1670\n",
              "\n",
              "[1250 rows x 2 columns]"
            ]
          },
          "execution_count": 358,
          "metadata": {},
          "output_type": "execute_result"
        }
      ],
      "source": [
        "df = pd.read_csv(\"/content/{genre}_001_025_melonIds.csv\", encoding=\"utf-8-sig\")\n",
        "df"
      ]
    },
    {
      "cell_type": "code",
      "execution_count": null,
      "metadata": {
        "id": "adPg1FRQumzI",
        "colab": {
          "base_uri": "https://localhost:8080/",
          "height": 36
        },
        "outputId": "2f5fb39c-e832-4291-fd25-9b9fa4072884"
      },
      "outputs": [
        {
          "output_type": "execute_result",
          "data": {
            "text/plain": [
              "'댄스, 인디음악'"
            ],
            "application/vnd.google.colaboratory.intrinsic+json": {
              "type": "string"
            }
          },
          "metadata": {},
          "execution_count": 20
        }
      ],
      "source": [
        "songId = 36963705\n",
        "headers = {\n",
        "    \"Host\": \"www.melon.com\",\n",
        "    \"User-Agent\": \"Mozilla/5.0 (Macintosh; Intel Mac OS X 10_15_7) AppleWebKit/537.36 (KHTML, like Gecko) Chrome/119.0.0.0 Safari/537.36\",\n",
        "    \"save-data\": \"on\",\n",
        "    \"Referer\":\"https://fqhf3hvcdzt-496ff2e9c6d22116-0-colab.googleusercontent.com/\"\n",
        "    }\n",
        "\n",
        "url = f\"https://www.melon.com/song/detail.htm?songId={songId}\"\n",
        "response = requests.get(url, headers=headers)\n",
        "soup = BeautifulSoup(response.content, 'html.parser')\n",
        "genre = soup.find(lambda x: x.name==\"dt\" and x.text==\"장르\").find_next_sibling().get_text(strip=True)\n",
        "genre"
      ]
    },
    {
      "cell_type": "code",
      "execution_count": null,
      "metadata": {
        "colab": {
          "base_uri": "https://localhost:8080/",
          "height": 306
        },
        "id": "Cg3gVGWcvVMt",
        "outputId": "17b8b103-86c4-4aa2-e6ea-efe19a0bc06e"
      },
      "outputs": [
        {
          "data": {
            "application/vnd.google.colaboratory.intrinsic+json": {
              "type": "string"
            },
            "text/plain": [
              "\"끝이 보이지 않는 어둠 속에\\n한 줄기 빛이 되어준 너\\n헤어나올 수 없는 Like a Black hole\\n침식 되어 가는 나\\n텅 빈 나의 눈 속에 니가 들어와\\n눈 부시게 가득 채워\\n푸른빛 물든 설렘의 색깔은 Blue\\n다시 빛 나도록\\n따라와 다시 한 번 꽃을 피워줄게\\n파도 위에 올라타봐\\n다 알아 내 매력에 빠져버린 너를\\nYou wanna be my love forever babe\\nBreaking the rules\\nforget the button, to stop me\\nCome out, in front of me\\nBreaking the rules\\nforget the button, to stop me\\nCome out, in front of me\\n숨겨 놓았던 내 속에 Wonder land\\n살며시 보여주고 싶어\\n중력 같았던 널 향한 이끌림\\n손을 뻗어 만져봐\\nYeah, Yeah!\\n날 가뒀던 선들의 모순\\n날 눌렀던 악몽의 굴레\\n지겨워 벗어날래 이젠\\n거침없이 널 펼쳐봐\\n우리란 바다에 닥친 거센 바람에\\n지지 않을래 더 큰 파랑을 일 차례\\n두려워할 필요 없어 널 그대로 보여 줘\\nDon't be Fake\\n따라와 다시 한 번 꽃을 피워줄게\\n파도 위에 올라타봐\\n다 알아 내 매력에 빠져버린 너를\\nYou wanna be my love forever babe\\nBreaking the rules\\nforget the button, to stop me\\nCome out, in front of me\\nBreaking the rules\\nforget the button, to stop me\\nCome out, in front of me\\n감춰 두었던 부끄러웠던 내 모습\\n이젠 보내줄게\\n두 손에 꽉쥐어진 빛바랜 후회들은\\n이제 인정해 Game over\\nYeah Yeah Yeah\\n따라와 다시 한 번 꽃을 피워줄게\\n파도 위에 올라타봐\\n다 알아 내 매력에 빠져버린 너를\\nYou wanna be my love forever babe\\nBreaking the rules\\nforget the button, to stop me\\nCome out, in front of me\\nBreaking the rules\\nforget the button, to stop me\\nCome out, in front of me\""
            ]
          },
          "execution_count": 28,
          "metadata": {},
          "output_type": "execute_result"
        }
      ],
      "source": [
        "lyrics_soup.get_text('\\n').strip()"
      ]
    },
    {
      "cell_type": "markdown",
      "metadata": {
        "id": "g9g2SCCQzujJ"
      },
      "source": []
    },
    {
      "cell_type": "code",
      "execution_count": null,
      "metadata": {
        "id": "2ACZyyrmDqgW"
      },
      "outputs": [],
      "source": [
        "import requests\n",
        "from bs4 import BeautifulSoup\n",
        "import csv\n",
        "import pandas as pd\n",
        "import re\n",
        "\n",
        "# 장르 번호\n",
        "index=1\n",
        "sess = requests.Session()\n",
        "params = {}\n",
        "headers = {\n",
        "    \"Host\": \"www.melon.com\",\n",
        "    \"User-Agent\": \"Mozilla/5.0 (Macintosh; Intel Mac OS X 10_15_7) AppleWebKit/537.36 (KHTML, like Gecko) Chrome/119.0.0.0 Safari/537.36\",\n",
        "    \"save-data\": \"on\",\n",
        "    \"Cookie\": \"__T_=1; PCID=17002250845185087861648; PC_PCID=17002250845185087861648; __T_=1; POC=MP10\"\n",
        "}\n",
        "# 멜론 곡 검색 API URL\n",
        "def get_latest_song_ids(sess=requests.Session(), headers=str(), page_index=4):\n",
        "    if not headers:\n",
        "        headers = {\n",
        "            \"Host\": \"www.melon.com\",\n",
        "            \"User-Agent\": \"Mozilla/5.0 (Macintosh; Intel Mac OS X 10_15_7) AppleWebKit/537.36 (KHTML, like Gecko) Chrome/119.0.0.0 Safari/537.36\",\n",
        "            \"save-data\": \"on\",\n",
        "            \"Cookie\": \"__T_=1; PCID=17002250845185087861648; PC_PCID=17002250845185087861648; __T_=1; POC=MP10\"\n",
        "        }\n",
        "\n",
        "    url = f\"https://www.melon.com/genre/song_list.htm?gnrCode=GN0200\"\n",
        "    res = sess.get(url, headers=headers)\n",
        "\n",
        "    url = f\"https://www.melon.com/genre/song_list.htm?gnrCode=GN0200#params%5BgnrCode%5D=GN0200&params%5BdtlGnrCode%5D=&params%5BorderBy%5D=NEW&params%5BsteadyYn%5D=N&po=pageObj&startIndex=201\"\n",
        "    res = sess.get(url, headers=headers, allow_redirects=True)\n",
        "    if res.status_code != 200:\n",
        "        raise Exception(\"no!\")\n",
        "    soup = BeautifulSoup(res.content, \"html.parser\")\n",
        "    select_table = soup.select(\"#frm > div > table > tbody > tr\")\n",
        "    song_ids = []\n",
        "    for tr in select_table:\n",
        "        soup = BeautifulSoup(str(tr), \"html.parser\")\n",
        "        href = soup.find(lambda x :x.name==\"a\" and x.attrs.get(\"href\", \"\").startswith(\"javascript:melon.link.goSongDetail(\")).attrs['href']\n",
        "        song_id = re.search(r'\\d+', href).group()\n",
        "        song_ids.append(song_id)\n",
        "    return song_ids\n",
        "get_latest_song_ids(page_index=5)"
      ]
    },
    {
      "cell_type": "code",
      "execution_count": null,
      "metadata": {
        "id": "7_DfraSNSRrX"
      },
      "outputs": [],
      "source": [
        "url = f\"https://www.melon.com/genre/song_list.htm?gnrCode=GN0200#params%5BgnrCode%5D=GN0200&params%5BdtlGnrCode%5D=&params%5BorderBy%5D=NEW&params%5BsteadyYn%5D=N&po=pageObj&startIndex=201\"\n",
        "res = sess.get(url, headers=headers)\n",
        "BeautifulSoup(res.content, \"html.parser\")"
      ]
    },
    {
      "cell_type": "code",
      "execution_count": null,
      "metadata": {
        "colab": {
          "base_uri": "https://localhost:8080/"
        },
        "id": "Rq12vNNGRnrG",
        "outputId": "1e8596ec-6aa5-4469-f648-faae68a06450"
      },
      "outputs": [
        {
          "data": {
            "text/plain": [
              "[]"
            ]
          },
          "execution_count": 77,
          "metadata": {},
          "output_type": "execute_result"
        }
      ],
      "source": [
        "from bs4 import BeautifulSoup\n",
        "\n",
        "# 여기에 HTML 코드를 넣으세요.\n",
        "\n",
        "# BeautifulSoup을 사용하여 HTML 파싱\n",
        "soup = BeautifulSoup(res.content, 'html.parser')\n",
        "\n",
        "# BeautifulSoup에서 XPath를 사용하는 함수 정의\n",
        "def find_element_by_xpath(soup, xpath):\n",
        "    elements = soup.find_all(lambda tag: tag.name == '*' and tag.xpath(xpath))\n",
        "    return elements\n",
        "\n",
        "# 사용할 XPath\n",
        "xpath_to_find = 'tbody'\n",
        "\n",
        "# XPath를 사용하여 요소 찾기\n",
        "found_elements = find_element_by_xpath(soup, xpath_to_find)\n",
        "\n",
        "# # 선택된 요소 확인\n",
        "# for element in found_elements:\n",
        "#     print(element.text.strip())  # 요소 텍스트 출력\n",
        "found_elements"
      ]
    },
    {
      "cell_type": "code",
      "execution_count": null,
      "metadata": {
        "colab": {
          "base_uri": "https://localhost:8080/",
          "height": 306
        },
        "id": "RPs-zlFG7QVK",
        "outputId": "4e3fc5da-4f7b-4534-963a-8e2137d4ba13"
      },
      "outputs": [
        {
          "ename": "AttributeError",
          "evalue": "ignored",
          "output_type": "error",
          "traceback": [
            "\u001b[0;31m---------------------------------------------------------------------------\u001b[0m",
            "\u001b[0;31mAttributeError\u001b[0m                            Traceback (most recent call last)",
            "\u001b[0;32m<ipython-input-2-138bc6826041>\u001b[0m in \u001b[0;36m<cell line: 16>\u001b[0;34m()\u001b[0m\n\u001b[1;32m     14\u001b[0m \u001b[0;34m\u001b[0m\u001b[0m\n\u001b[1;32m     15\u001b[0m \u001b[0;31m# 곡 목록\u001b[0m\u001b[0;34m\u001b[0m\u001b[0;34m\u001b[0m\u001b[0m\n\u001b[0;32m---> 16\u001b[0;31m \u001b[0msong_list\u001b[0m \u001b[0;34m=\u001b[0m \u001b[0mmelon_search_soup\u001b[0m\u001b[0;34m.\u001b[0m\u001b[0mfind\u001b[0m\u001b[0;34m(\u001b[0m\u001b[0;34m\"ul\"\u001b[0m\u001b[0;34m,\u001b[0m \u001b[0mclass_\u001b[0m\u001b[0;34m=\u001b[0m\u001b[0;34m\"lst_song\"\u001b[0m\u001b[0;34m)\u001b[0m\u001b[0;34m.\u001b[0m\u001b[0mfind_all\u001b[0m\u001b[0;34m(\u001b[0m\u001b[0;34m\"li\"\u001b[0m\u001b[0;34m)\u001b[0m\u001b[0;34m\u001b[0m\u001b[0;34m\u001b[0m\u001b[0m\n\u001b[0m\u001b[1;32m     17\u001b[0m \u001b[0;34m\u001b[0m\u001b[0m\n\u001b[1;32m     18\u001b[0m \u001b[0;31m# 곡 가사\u001b[0m\u001b[0;34m\u001b[0m\u001b[0;34m\u001b[0m\u001b[0m\n",
            "\u001b[0;31mAttributeError\u001b[0m: 'NoneType' object has no attribute 'find_all'"
          ]
        }
      ],
      "source": [
        "import requests\n",
        "from bs4 import BeautifulSoup\n",
        "import csv\n",
        "\n",
        "# 장르 번호\n",
        "genre=\"1\"\n",
        "\n",
        "# 멜론 곡 검색 API URL\n",
        "melon_search_url = f\"https://www.melon.com/genre/song_listPaging.htm?startIndex=101&pageSize=50&gnrCode=GN0200&dtlGnrCode=&orderBy=NEW&steadyYn=N0\"\n",
        "\n",
        "# 곡 검색\n",
        "melon_search_response = requests.get(melon_search_url.format(query=release_date))\n",
        "melon_search_soup = BeautifulSoup(melon_search_response.text, \"html.parser\")\n",
        "\n",
        "# 곡 목록\n",
        "song_list = melon_search_soup.find(\"ul\", class_=\"lst_song\").find_all(\"li\")\n",
        "\n",
        "# 곡 가사\n",
        "song_data = []\n",
        "for song in song_list:\n",
        "    # 곡 정보\n",
        "    song_title = song.find(\"a\", class_=\"link_song\").text\n",
        "    song_artist = song.find(\"span\", class_=\"artist\").text\n",
        "\n",
        "    # 곡 가사 URL\n",
        "    song_lyrics_url = song.find(\"a\", class_=\"link_lyrics\").get(\"href\")\n",
        "\n",
        "    # 곡 가사 요청\n",
        "    song_lyrics_response = requests.get(song_lyrics_url)\n",
        "    song_lyrics_soup = BeautifulSoup(song_lyrics_response.text, \"html.parser\")\n",
        "\n",
        "    # 곡 가사\n",
        "    song_lyrics = song_lyrics_soup.find(\"div\", class_=\"lyrics_wrap\").text\n",
        "\n",
        "    # 곡 데이터 저장\n",
        "    song_data.append([song_title, song_artist, song_lyrics])\n",
        "\n",
        "# 엑셀파일로 저장\n",
        "with open(\"melon_lyrics.csv\", \"w\", encoding=\"utf-8-sig\") as f:\n",
        "    writer = csv.writer(f)\n",
        "    writer.writerow([\"곡 제목\", \"가수\", \"가사\"])\n",
        "    for row in song_data:\n",
        "        writer.writerow(row)\n"
      ]
    },
    {
      "cell_type": "code",
      "execution_count": null,
      "metadata": {
        "colab": {
          "base_uri": "https://localhost:8080/",
          "height": 252
        },
        "id": "SUPxkzQS7esV",
        "outputId": "938c163b-60a8-4543-e3a8-945905fb73ee"
      },
      "outputs": [
        {
          "ename": "NameError",
          "evalue": "ignored",
          "output_type": "error",
          "traceback": [
            "\u001b[0;31m---------------------------------------------------------------------------\u001b[0m",
            "\u001b[0;31mNameError\u001b[0m                                 Traceback (most recent call last)",
            "\u001b[0;32m<ipython-input-3-3c26287daf8b>\u001b[0m in \u001b[0;36m<cell line: 1>\u001b[0;34m()\u001b[0m\n\u001b[0;32m----> 1\u001b[0;31m \u001b[0mmelon_search_url\u001b[0m \u001b[0;34m=\u001b[0m \u001b[0;34mf\"https://www.melon.com/genre/song_list.htm?gnrCode=GN0{genre}00\"\u001b[0m\u001b[0;34m\u001b[0m\u001b[0;34m\u001b[0m\u001b[0m\n\u001b[0m\u001b[1;32m      2\u001b[0m \u001b[0mgenre\u001b[0m\u001b[0;34m=\u001b[0m\u001b[0;36m1\u001b[0m\u001b[0;34m\u001b[0m\u001b[0;34m\u001b[0m\u001b[0m\n",
            "\u001b[0;31mNameError\u001b[0m: name 'genre' is not defined"
          ]
        }
      ],
      "source": [
        "melon_search_url = f\"https://www.melon.com/genre/song_list.htm?gnrCode=GN0{genre}00\"\n",
        "genre=1"
      ]
    },
    {
      "cell_type": "code",
      "execution_count": null,
      "metadata": {
        "id": "uSJkcNMsAcKh"
      },
      "outputs": [],
      "source": []
    },
    {
      "cell_type": "code",
      "execution_count": null,
      "metadata": {
        "id": "BhTLkBdRyhFl"
      },
      "outputs": [],
      "source": [
        "def get_music_info_by_songId(songId):\n",
        "    x_paths = {\n",
        "    'title': '//*[@id=\"downloadfrm\"]/div/div/div[2]/div[1]/div[1]',\n",
        "    'singer': '//*[@id=\"downloadfrm\"]/div/div/div[2]/div[1]/div[2]/a/span[1]',\n",
        "    'release_date': '//*[@id=\"downloadfrm\"]/div/div/div[2]/div[2]/dl/dd[2]',\n",
        "    'songId': None,\n",
        "    'like_count': '//*[@id=\"d_like_count\"]',\n",
        "    'genre': '//*[@id=\"downloadfrm\"]/div/div/div[2]/div[2]/dl/dd[3]',\n",
        "    'lyrics': '//*[@id=\"d_video_summary\"]',\n",
        "    'album': '//*[@id=\"downloadfrm\"]/div/div/div[2]/div[2]/dl/dd[1]/a',\n",
        "    }\n",
        "    url = f\"https://www.melon.com/song/detail.htm?songId={songId}\"\n",
        "    driver.get(url)\n",
        "    driver.implicitly_wait(3)\n",
        "    # title = driver.find_element(By.XPATH, '//*[@id=\"downloadfrm\"]/div/div/div[2]/div[1]/div[1]').text.strip()\n",
        "    # singer = driver.find_element(By.XPATH, '//*[@id=\"downloadfrm\"]/div/div/div[2]/div[1]/div[2]/a/span[1]').get_attribute(\"innerText\").strip()\n",
        "    # release_date = driver.find_element(By.XPATH, '//*[@id=\"downloadfrm\"]/div/div/div[2]/div[2]/dl/dd[2]').get_attribute(\"innerText\").strip()\n",
        "    # like_count = driver.find_element(By.XPATH, '//*[@id=\"d_like_count\"]').get_attribute(\"innerText\").strip()\n",
        "    # album = driver.find_element(By.XPATH, '//*[@id=\"downloadfrm\"]/div/div/div[2]/div[2]/dl/dd[1]/a').get_attribute(\"innerText\").strip()\n",
        "    # genre = driver.find_element(By.XPATH, '//*[@id=\"downloadfrm\"]/div/div/div[2]/div[2]/dl/dd[3]').get_attribute(\"innerText\").strip()\n",
        "    result_list = []\n",
        "    for key in x_paths.keys():\n",
        "        try:\n",
        "            if key == 'title':\n",
        "                result_list.append(driver.find_element(By.XPATH, x_paths[key]).text.strip())\n",
        "                continue\n",
        "            if key == 'songId':\n",
        "                result_list.append(songId)\n",
        "                continue\n",
        "            result_list.append(driver.find_element(By.XPATH, x_paths[key]).get_attribute(\"innerText\").strip())\n",
        "        except:\n",
        "            result_list.append(None)\n",
        "    return result_list\n",
        "\n",
        "\n",
        "def convert_music_info_to_csv(filepath):\n",
        "    songIds = []\n",
        "    songs_dict = {\n",
        "        'Title': [],\n",
        "        'Singer': [],\n",
        "        'Song_ID': [],\n",
        "        'Release_Date': [],\n",
        "        'Like_Count': [],\n",
        "        'lyrics': [],\n",
        "        'Album': [],\n",
        "    }\n",
        "    with open(filepath, 'r', encoding=\"utf-8-sig\") as txt:\n",
        "        songIds = txt.readlines()[250:350]\n",
        "    for songId in songIds:\n",
        "        try:\n",
        "            infos = get_music_info_by_songId(songId.strip())\n",
        "            print(infos)[:-1]\n",
        "        except Exception as e:\n",
        "            print(e)\n",
        "            # driver.quit()\n",
        "            # driver = webdriver.Chrome(service=service, options=options)\n",
        "            infos = get_music_info_by_songId(songId.strip())\n",
        "        for key, info in zip(songs_dict.keys(), infos):\n",
        "            songs_dict[key].append(info)\n",
        "    df = pd.DataFrame(songs_dict)\n",
        "    df.to_csv(f\"{filepath.rstrip('.txt')}.csv\", index=False, encoding='utf-8-sig')"
      ]
    }
  ],
  "metadata": {
    "colab": {
      "provenance": [],
      "collapsed_sections": [
        "W2babhhc9cNI"
      ]
    },
    "kernelspec": {
      "display_name": "Python 3",
      "name": "python3"
    },
    "language_info": {
      "name": "python"
    }
  },
  "nbformat": 4,
  "nbformat_minor": 0
}